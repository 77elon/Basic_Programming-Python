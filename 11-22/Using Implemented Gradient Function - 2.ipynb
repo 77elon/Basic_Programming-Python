{
 "cells": [
  {
   "cell_type": "code",
   "execution_count": 46,
   "id": "bb246a02",
   "metadata": {},
   "outputs": [],
   "source": [
    "import numpy as np"
   ]
  },
  {
   "cell_type": "code",
   "execution_count": 47,
   "id": "d9b378f8",
   "metadata": {},
   "outputs": [],
   "source": [
    "import matplotlib.pylab as plt"
   ]
  },
  {
   "cell_type": "code",
   "execution_count": 48,
   "id": "75aea178",
   "metadata": {},
   "outputs": [],
   "source": [
    "import tensorflow as tf\n",
    "tf.compat.v1.disable_eager_execution()"
   ]
  },
  {
   "cell_type": "code",
   "execution_count": 49,
   "id": "0e2ebbd5",
   "metadata": {},
   "outputs": [],
   "source": [
    "%matplotlib inline\n",
    "%config InlineBackend.figure_format = 'retina'"
   ]
  },
  {
   "cell_type": "code",
   "execution_count": 50,
   "id": "96da8b80",
   "metadata": {},
   "outputs": [
    {
     "name": "stdout",
     "output_type": "stream",
     "text": [
      "51\n"
     ]
    }
   ],
   "source": [
    "np.random.seed(320)\n",
    "x_train = np.linspace(-1, 1, 51)\n",
    "y_train = 0.5 * x_train + 1.0 + 0.4 * np.random.rand(len(x_train))\n",
    "print(len(x_train))\n",
    "x_train = x_train.reshape(-1, 1)\n",
    "y_train = y_train.reshape(-1, 1)"
   ]
  },
  {
   "cell_type": "code",
   "execution_count": 51,
   "id": "21af8130",
   "metadata": {},
   "outputs": [
    {
     "data": {
      "image/png": "[encoded data removed]",
      "text/plain": [
       "<Figure size 432x288 with 1 Axes>"
      ]
     },
     "metadata": {
      "image/png": {
       "height": 261,
       "width": 385
      },
      "needs_background": "light"
     },
     "output_type": "display_data"
    }
   ],
   "source": [
    "plt.plot(x_train, y_train, '.k')\n",
    "plt.grid()\n",
    "plt.xlabel('x')\n",
    "plt.ylabel('y')\n",
    "plt.show()"
   ]
  },
  {
   "cell_type": "code",
   "execution_count": null,
   "id": "9744b3b0",
   "metadata": {},
   "outputs": [],
   "source": []
  },
  {
   "cell_type": "code",
   "execution_count": 52,
   "id": "31f569fb",
   "metadata": {},
   "outputs": [],
   "source": [
    "MaxEpoch = 1000"
   ]
  },
  {
   "cell_type": "code",
   "execution_count": 53,
   "id": "8b3e3db6",
   "metadata": {},
   "outputs": [],
   "source": [
    "w = tf.Variable(tf.ones([1, 1]), dtype = tf.float32)\n",
    "b = tf.Variable(tf.ones([1]), dtype = tf.float32)\n",
    "x = tf.compat.v1.placeholder(tf.float32, [None, 1])\n",
    "y = tf.compat.v1.placeholder(tf.float32, [None, 1])\n"
   ]
  },
  {
   "cell_type": "code",
   "execution_count": 54,
   "id": "d09bb270",
   "metadata": {},
   "outputs": [],
   "source": [
    "y.hat = tf.matmul(x, w) + b"
   ]
  },
  {
   "cell_type": "code",
   "execution_count": null,
   "id": "05713e7e",
   "metadata": {},
   "outputs": [],
   "source": []
  },
  {
   "cell_type": "code",
   "execution_count": 55,
   "id": "03c74cf0",
   "metadata": {},
   "outputs": [],
   "source": [
    "loss = tf.reduce_mean(tf.square(y.hat - y))\n",
    "Lr = 0.25\n",
    "optimizer = tf.compat.v1.train.GradientDescentOptimizer(Lr)\n",
    "train = optimizer.minimize(loss)"
   ]
  },
  {
   "cell_type": "code",
   "execution_count": 56,
   "id": "4e52d419",
   "metadata": {},
   "outputs": [],
   "source": [
    "init = tf.compat.v1.global_variables_initializer()"
   ]
  },
  {
   "cell_type": "code",
   "execution_count": 57,
   "id": "8e5a9b67",
   "metadata": {},
   "outputs": [
    {
     "name": "stdout",
     "output_type": "stream",
     "text": [
      "[[1.]] [1.] 0.14998727\n",
      "[[0.6727577]] [1.1888978] 0.028191052\n",
      "[[0.54642326]] [1.1948009] 0.015662618\n",
      "[[0.49765092]] [1.1949854] 0.013800872\n",
      "[[0.478822]] [1.1949911] 0.013523399\n",
      "[[0.47155294]] [1.1949912] 0.013482046\n",
      "[[0.46874666]] [1.1949912] 0.013475881\n",
      "[[0.4676633]] [1.1949912] 0.013474964\n",
      "[[0.467245]] [1.1949912] 0.013474825\n",
      "[[0.46708354]] [1.1949912] 0.013474804\n",
      "[[0.4670212]] [1.1949912] 0.013474801\n",
      "[[0.46699712]] [1.1949912] 0.0134748\n",
      "[[0.46698782]] [1.1949912] 0.013474801\n",
      "[[0.46698424]] [1.1949912] 0.0134748025\n",
      "[[0.46698287]] [1.1949912] 0.0134748025\n",
      "[[0.46698236]] [1.1949912] 0.013474801\n",
      "[[0.46698216]] [1.1949912] 0.0134748025\n",
      "[[0.46698207]] [1.1949912] 0.0134748025\n",
      "[[0.46698207]] [1.1949912] 0.0134748025\n",
      "[[0.46698207]] [1.1949912] 0.0134748025\n",
      "[[0.46698207]] [1.1949912] 0.0134748025\n",
      "[[0.46698207]] [1.1949912] 0.0134748025\n",
      "[[0.46698207]] [1.1949912] 0.0134748025\n",
      "[[0.46698207]] [1.1949912] 0.0134748025\n",
      "[[0.46698207]] [1.1949912] 0.0134748025\n",
      "[[0.46698207]] [1.1949912] 0.0134748025\n",
      "[[0.46698207]] [1.1949912] 0.0134748025\n",
      "[[0.46698207]] [1.1949912] 0.0134748025\n",
      "[[0.46698207]] [1.1949912] 0.0134748025\n",
      "[[0.46698207]] [1.1949912] 0.0134748025\n",
      "[[0.46698207]] [1.1949912] 0.0134748025\n",
      "[[0.46698207]] [1.1949912] 0.0134748025\n",
      "[[0.46698207]] [1.1949912] 0.0134748025\n",
      "[[0.46698207]] [1.1949912] 0.0134748025\n",
      "[[0.46698207]] [1.1949912] 0.0134748025\n",
      "[[0.46698207]] [1.1949912] 0.0134748025\n",
      "[[0.46698207]] [1.1949912] 0.0134748025\n",
      "[[0.46698207]] [1.1949912] 0.0134748025\n",
      "[[0.46698207]] [1.1949912] 0.0134748025\n",
      "[[0.46698207]] [1.1949912] 0.0134748025\n",
      "[[0.46698207]] [1.1949912] 0.0134748025\n",
      "[[0.46698207]] [1.1949912] 0.0134748025\n",
      "[[0.46698207]] [1.1949912] 0.0134748025\n",
      "[[0.46698207]] [1.1949912] 0.0134748025\n",
      "[[0.46698207]] [1.1949912] 0.0134748025\n",
      "[[0.46698207]] [1.1949912] 0.0134748025\n",
      "[[0.46698207]] [1.1949912] 0.0134748025\n",
      "[[0.46698207]] [1.1949912] 0.0134748025\n",
      "[[0.46698207]] [1.1949912] 0.0134748025\n",
      "[[0.46698207]] [1.1949912] 0.0134748025\n",
      "[[0.46698207]] [1.1949912] 0.0134748025\n",
      "[[0.46698207]] [1.1949912] 0.0134748025\n",
      "[[0.46698207]] [1.1949912] 0.0134748025\n",
      "[[0.46698207]] [1.1949912] 0.0134748025\n",
      "[[0.46698207]] [1.1949912] 0.0134748025\n",
      "[[0.46698207]] [1.1949912] 0.0134748025\n",
      "[[0.46698207]] [1.1949912] 0.0134748025\n",
      "[[0.46698207]] [1.1949912] 0.0134748025\n",
      "[[0.46698207]] [1.1949912] 0.0134748025\n",
      "[[0.46698207]] [1.1949912] 0.0134748025\n",
      "[[0.46698207]] [1.1949912] 0.0134748025\n",
      "[[0.46698207]] [1.1949912] 0.0134748025\n",
      "[[0.46698207]] [1.1949912] 0.0134748025\n",
      "[[0.46698207]] [1.1949912] 0.0134748025\n",
      "[[0.46698207]] [1.1949912] 0.0134748025\n",
      "[[0.46698207]] [1.1949912] 0.0134748025\n",
      "[[0.46698207]] [1.1949912] 0.0134748025\n",
      "[[0.46698207]] [1.1949912] 0.0134748025\n",
      "[[0.46698207]] [1.1949912] 0.0134748025\n",
      "[[0.46698207]] [1.1949912] 0.0134748025\n",
      "[[0.46698207]] [1.1949912] 0.0134748025\n",
      "[[0.46698207]] [1.1949912] 0.0134748025\n",
      "[[0.46698207]] [1.1949912] 0.0134748025\n",
      "[[0.46698207]] [1.1949912] 0.0134748025\n",
      "[[0.46698207]] [1.1949912] 0.0134748025\n",
      "[[0.46698207]] [1.1949912] 0.0134748025\n",
      "[[0.46698207]] [1.1949912] 0.0134748025\n",
      "[[0.46698207]] [1.1949912] 0.0134748025\n",
      "[[0.46698207]] [1.1949912] 0.0134748025\n",
      "[[0.46698207]] [1.1949912] 0.0134748025\n",
      "[[0.46698207]] [1.1949912] 0.0134748025\n",
      "[[0.46698207]] [1.1949912] 0.0134748025\n",
      "[[0.46698207]] [1.1949912] 0.0134748025\n",
      "[[0.46698207]] [1.1949912] 0.0134748025\n",
      "[[0.46698207]] [1.1949912] 0.0134748025\n",
      "[[0.46698207]] [1.1949912] 0.0134748025\n",
      "[[0.46698207]] [1.1949912] 0.0134748025\n",
      "[[0.46698207]] [1.1949912] 0.0134748025\n",
      "[[0.46698207]] [1.1949912] 0.0134748025\n",
      "[[0.46698207]] [1.1949912] 0.0134748025\n",
      "[[0.46698207]] [1.1949912] 0.0134748025\n",
      "[[0.46698207]] [1.1949912] 0.0134748025\n",
      "[[0.46698207]] [1.1949912] 0.0134748025\n",
      "[[0.46698207]] [1.1949912] 0.0134748025\n",
      "[[0.46698207]] [1.1949912] 0.0134748025\n",
      "[[0.46698207]] [1.1949912] 0.0134748025\n",
      "[[0.46698207]] [1.1949912] 0.0134748025\n",
      "[[0.46698207]] [1.1949912] 0.0134748025\n",
      "[[0.46698207]] [1.1949912] 0.0134748025\n",
      "[[0.46698207]] [1.1949912] 0.0134748025\n",
      "[[0.46698207]] [1.1949912] 0.0134748025\n",
      "[[0.46698207]] [1.1949912] 0.0134748025\n",
      "[[0.46698207]] [1.1949912] 0.0134748025\n",
      "[[0.46698207]] [1.1949912] 0.0134748025\n",
      "[[0.46698207]] [1.1949912] 0.0134748025\n",
      "[[0.46698207]] [1.1949912] 0.0134748025\n",
      "[[0.46698207]] [1.1949912] 0.0134748025\n",
      "[[0.46698207]] [1.1949912] 0.0134748025\n",
      "[[0.46698207]] [1.1949912] 0.0134748025\n",
      "[[0.46698207]] [1.1949912] 0.0134748025\n",
      "[[0.46698207]] [1.1949912] 0.0134748025\n",
      "[[0.46698207]] [1.1949912] 0.0134748025\n",
      "[[0.46698207]] [1.1949912] 0.0134748025\n",
      "[[0.46698207]] [1.1949912] 0.0134748025\n",
      "[[0.46698207]] [1.1949912] 0.0134748025\n",
      "[[0.46698207]] [1.1949912] 0.0134748025\n",
      "[[0.46698207]] [1.1949912] 0.0134748025\n",
      "[[0.46698207]] [1.1949912] 0.0134748025\n",
      "[[0.46698207]] [1.1949912] 0.0134748025\n",
      "[[0.46698207]] [1.1949912] 0.0134748025\n",
      "[[0.46698207]] [1.1949912] 0.0134748025\n",
      "[[0.46698207]] [1.1949912] 0.0134748025\n",
      "[[0.46698207]] [1.1949912] 0.0134748025\n",
      "[[0.46698207]] [1.1949912] 0.0134748025\n",
      "[[0.46698207]] [1.1949912] 0.0134748025\n",
      "[[0.46698207]] [1.1949912] 0.0134748025\n",
      "[[0.46698207]] [1.1949912] 0.0134748025\n",
      "[[0.46698207]] [1.1949912] 0.0134748025\n",
      "[[0.46698207]] [1.1949912] 0.0134748025\n",
      "[[0.46698207]] [1.1949912] 0.0134748025\n",
      "[[0.46698207]] [1.1949912] 0.0134748025\n",
      "[[0.46698207]] [1.1949912] 0.0134748025\n",
      "[[0.46698207]] [1.1949912] 0.0134748025\n",
      "[[0.46698207]] [1.1949912] 0.0134748025\n",
      "[[0.46698207]] [1.1949912] 0.0134748025\n",
      "[[0.46698207]] [1.1949912] 0.0134748025\n",
      "[[0.46698207]] [1.1949912] 0.0134748025\n",
      "[[0.46698207]] [1.1949912] 0.0134748025\n",
      "[[0.46698207]] [1.1949912] 0.0134748025\n",
      "[[0.46698207]] [1.1949912] 0.0134748025\n",
      "[[0.46698207]] [1.1949912] 0.0134748025\n",
      "[[0.46698207]] [1.1949912] 0.0134748025\n",
      "[[0.46698207]] [1.1949912] 0.0134748025\n",
      "[[0.46698207]] [1.1949912] 0.0134748025\n",
      "[[0.46698207]] [1.1949912] 0.0134748025\n",
      "[[0.46698207]] [1.1949912] 0.0134748025\n",
      "[[0.46698207]] [1.1949912] 0.0134748025\n",
      "[[0.46698207]] [1.1949912] 0.0134748025\n",
      "[[0.46698207]] [1.1949912] 0.0134748025\n",
      "[[0.46698207]] [1.1949912] 0.0134748025\n",
      "[[0.46698207]] [1.1949912] 0.0134748025\n",
      "[[0.46698207]] [1.1949912] 0.0134748025\n",
      "[[0.46698207]] [1.1949912] 0.0134748025\n",
      "[[0.46698207]] [1.1949912] 0.0134748025\n",
      "[[0.46698207]] [1.1949912] 0.0134748025\n",
      "[[0.46698207]] [1.1949912] 0.0134748025\n",
      "[[0.46698207]] [1.1949912] 0.0134748025\n",
      "[[0.46698207]] [1.1949912] 0.0134748025\n",
      "[[0.46698207]] [1.1949912] 0.0134748025\n",
      "[[0.46698207]] [1.1949912] 0.0134748025\n",
      "[[0.46698207]] [1.1949912] 0.0134748025\n",
      "[[0.46698207]] [1.1949912] 0.0134748025\n",
      "[[0.46698207]] [1.1949912] 0.0134748025\n",
      "[[0.46698207]] [1.1949912] 0.0134748025\n",
      "[[0.46698207]] [1.1949912] 0.0134748025\n",
      "[[0.46698207]] [1.1949912] 0.0134748025\n",
      "[[0.46698207]] [1.1949912] 0.0134748025\n",
      "[[0.46698207]] [1.1949912] 0.0134748025\n",
      "[[0.46698207]] [1.1949912] 0.0134748025\n",
      "[[0.46698207]] [1.1949912] 0.0134748025\n",
      "[[0.46698207]] [1.1949912] 0.0134748025\n",
      "[[0.46698207]] [1.1949912] 0.0134748025\n",
      "[[0.46698207]] [1.1949912] 0.0134748025\n",
      "[[0.46698207]] [1.1949912] 0.0134748025\n",
      "[[0.46698207]] [1.1949912] 0.0134748025\n",
      "[[0.46698207]] [1.1949912] 0.0134748025\n",
      "[[0.46698207]] [1.1949912] 0.0134748025\n",
      "[[0.46698207]] [1.1949912] 0.0134748025\n",
      "[[0.46698207]] [1.1949912] 0.0134748025\n",
      "[[0.46698207]] [1.1949912] 0.0134748025\n",
      "[[0.46698207]] [1.1949912] 0.0134748025\n",
      "[[0.46698207]] [1.1949912] 0.0134748025\n",
      "[[0.46698207]] [1.1949912] 0.0134748025\n",
      "[[0.46698207]] [1.1949912] 0.0134748025\n",
      "[[0.46698207]] [1.1949912] 0.0134748025\n",
      "[[0.46698207]] [1.1949912] 0.0134748025\n",
      "[[0.46698207]] [1.1949912] 0.0134748025\n",
      "[[0.46698207]] [1.1949912] 0.0134748025\n",
      "[[0.46698207]] [1.1949912] 0.0134748025\n",
      "[[0.46698207]] [1.1949912] 0.0134748025\n",
      "[[0.46698207]] [1.1949912] 0.0134748025\n",
      "[[0.46698207]] [1.1949912] 0.0134748025\n",
      "[[0.46698207]] [1.1949912] 0.0134748025\n",
      "[[0.46698207]] [1.1949912] 0.0134748025\n",
      "[[0.46698207]] [1.1949912] 0.0134748025\n",
      "[[0.46698207]] [1.1949912] 0.0134748025\n",
      "[[0.46698207]] [1.1949912] 0.0134748025\n",
      "[[0.46698207]] [1.1949912] 0.0134748025\n",
      "[[0.46698207]] [1.1949912] 0.0134748025\n",
      "[[0.46698207]] [1.1949912] 0.0134748025\n"
     ]
    }
   ],
   "source": [
    "with tf.compat.v1.Session() as sess:\n",
    "    sess.run(init)\n",
    "    for epoch in range(MaxEpoch):\n",
    "        curr_w, curr_b, curr_loss = sess.run([w, b, loss], feed_dict={x:x_train, y:y_train})\n",
    "        if epoch % 5 == 0:\n",
    "            print(curr_w, curr_b, curr_loss)\n",
    "        sess.run(train, feed_dict={x:x_train, y:y_train})\n",
    "    w_tf_gd, b_tf_gd = sess.run([w, b])\n",
    "    \n",
    "    #print(w_tf_gd, b_tf_gd)"
   ]
  },
  {
   "cell_type": "code",
   "execution_count": null,
   "id": "01bebb9a",
   "metadata": {},
   "outputs": [],
   "source": []
  },
  {
   "cell_type": "code",
   "execution_count": 58,
   "id": "bbe0bcbf",
   "metadata": {},
   "outputs": [],
   "source": [
    "def loss(w, x_set, y_set):\n",
    "    N = len(x_set)\n",
    "    val = 0.0\n",
    "    for i in range(len(x_set)):\n",
    "        val += 0.5 * ((w[0] * x_set[i] + w[i]) - y_set[i]) ** 2\n",
    "    return val / N"
   ]
  },
  {
   "cell_type": "code",
   "execution_count": 59,
   "id": "7c2e4fbc",
   "metadata": {},
   "outputs": [],
   "source": [
    "def loss_grad(w, x_set, y_set):\n",
    "    N = len(x_set)\n",
    "    val = np.zeros(len(w))\n",
    "    for i in range(len(x_set)):\n",
    "        er = (w[0] * x_set[i] + w[i]) - y_set[i]\n",
    "        val += er * np.array([x_set[i], 1.0])\n",
    "    return val / N"
   ]
  },
  {
   "cell_type": "code",
   "execution_count": 60,
   "id": "6f9d1ce7",
   "metadata": {},
   "outputs": [],
   "source": [
    "import Batch\n",
    "\n",
    "x_train = np.linspace(-1, 1, 50)\n",
    "y_train = x_train ** 2 + 0.25 * x_train + 1.0 + 0.5 * np.random.rand(len(x_train))\n",
    "\n",
    "np.random.seed(320)\n",
    "shuffled_id = np.arange(0, len(x_train))\n",
    "np.random.shuffle(shuffled_id)\n",
    "\n",
    "shuffled_x_train = x_train[shuffled_id]\n",
    "shuffled_y_train = y_train[shuffled_id]\n",
    "batch_size = 5\n",
    "init = tf.compat.v1.global_variables_initializer()"
   ]
  },
  {
   "cell_type": "code",
   "execution_count": null,
   "id": "8b12343b",
   "metadata": {},
   "outputs": [],
   "source": []
  },
  {
   "cell_type": "code",
   "execution_count": null,
   "id": "15759fb9",
   "metadata": {},
   "outputs": [],
   "source": []
  },
  {
   "cell_type": "code",
   "execution_count": 61,
   "id": "846f2b74",
   "metadata": {},
   "outputs": [
    {
     "ename": "ValueError",
     "evalue": "Cannot feed value of shape (50,) for Tensor Placeholder_4:0, which has shape (None, 1)",
     "output_type": "error",
     "traceback": [
      "\u001b[1;31m---------------------------------------------------------------------------\u001b[0m",
      "\u001b[1;31mValueError\u001b[0m                                Traceback (most recent call last)",
      "\u001b[1;32m~\\AppData\\Local\\Temp/ipykernel_19732/1253779320.py\u001b[0m in \u001b[0;36m<module>\u001b[1;34m\u001b[0m\n\u001b[0;32m      2\u001b[0m     \u001b[0msess\u001b[0m\u001b[1;33m.\u001b[0m\u001b[0mrun\u001b[0m\u001b[1;33m(\u001b[0m\u001b[0minit\u001b[0m\u001b[1;33m)\u001b[0m\u001b[1;33m\u001b[0m\u001b[1;33m\u001b[0m\u001b[0m\n\u001b[0;32m      3\u001b[0m     \u001b[1;32mfor\u001b[0m \u001b[0mepoch\u001b[0m \u001b[1;32min\u001b[0m \u001b[0mrange\u001b[0m\u001b[1;33m(\u001b[0m\u001b[0mMaxEpoch\u001b[0m\u001b[1;33m)\u001b[0m\u001b[1;33m:\u001b[0m\u001b[1;33m\u001b[0m\u001b[1;33m\u001b[0m\u001b[0m\n\u001b[1;32m----> 4\u001b[1;33m         \u001b[0mcurr_w\u001b[0m\u001b[1;33m,\u001b[0m \u001b[0mcurr_b\u001b[0m\u001b[1;33m,\u001b[0m \u001b[0mcurr_loss\u001b[0m \u001b[1;33m=\u001b[0m \u001b[0msess\u001b[0m\u001b[1;33m.\u001b[0m\u001b[0mrun\u001b[0m\u001b[1;33m(\u001b[0m\u001b[1;33m[\u001b[0m\u001b[0mw\u001b[0m\u001b[1;33m,\u001b[0m \u001b[0mb\u001b[0m\u001b[1;33m,\u001b[0m \u001b[0mloss\u001b[0m\u001b[1;33m]\u001b[0m\u001b[1;33m,\u001b[0m \u001b[0mfeed_dict\u001b[0m\u001b[1;33m=\u001b[0m\u001b[1;33m{\u001b[0m\u001b[0mx\u001b[0m\u001b[1;33m:\u001b[0m\u001b[0mx_train\u001b[0m\u001b[1;33m,\u001b[0m \u001b[0my\u001b[0m\u001b[1;33m:\u001b[0m\u001b[0my_train\u001b[0m\u001b[1;33m}\u001b[0m\u001b[1;33m)\u001b[0m\u001b[1;33m\u001b[0m\u001b[1;33m\u001b[0m\u001b[0m\n\u001b[0m\u001b[0;32m      5\u001b[0m         \u001b[1;32mif\u001b[0m \u001b[0mepoch\u001b[0m \u001b[1;33m%\u001b[0m \u001b[1;36m5\u001b[0m \u001b[1;33m==\u001b[0m \u001b[1;36m0\u001b[0m\u001b[1;33m:\u001b[0m\u001b[1;33m\u001b[0m\u001b[1;33m\u001b[0m\u001b[0m\n\u001b[0;32m      6\u001b[0m             \u001b[0mprint\u001b[0m\u001b[1;33m(\u001b[0m\u001b[0mcurr_w\u001b[0m\u001b[1;33m,\u001b[0m \u001b[0mcurr_b\u001b[0m\u001b[1;33m,\u001b[0m \u001b[0mcurr_loss\u001b[0m\u001b[1;33m)\u001b[0m\u001b[1;33m\u001b[0m\u001b[1;33m\u001b[0m\u001b[0m\n",
      "\u001b[1;32m~\\.conda\\envs\\Tensorflow1.15.x\\lib\\site-packages\\tensorflow\\python\\client\\session.py\u001b[0m in \u001b[0;36mrun\u001b[1;34m(self, fetches, feed_dict, options, run_metadata)\u001b[0m\n\u001b[0;32m    969\u001b[0m     \u001b[1;32mtry\u001b[0m\u001b[1;33m:\u001b[0m\u001b[1;33m\u001b[0m\u001b[1;33m\u001b[0m\u001b[0m\n\u001b[0;32m    970\u001b[0m       result = self._run(None, fetches, feed_dict, options_ptr,\n\u001b[1;32m--> 971\u001b[1;33m                          run_metadata_ptr)\n\u001b[0m\u001b[0;32m    972\u001b[0m       \u001b[1;32mif\u001b[0m \u001b[0mrun_metadata\u001b[0m\u001b[1;33m:\u001b[0m\u001b[1;33m\u001b[0m\u001b[1;33m\u001b[0m\u001b[0m\n\u001b[0;32m    973\u001b[0m         \u001b[0mproto_data\u001b[0m \u001b[1;33m=\u001b[0m \u001b[0mtf_session\u001b[0m\u001b[1;33m.\u001b[0m\u001b[0mTF_GetBuffer\u001b[0m\u001b[1;33m(\u001b[0m\u001b[0mrun_metadata_ptr\u001b[0m\u001b[1;33m)\u001b[0m\u001b[1;33m\u001b[0m\u001b[1;33m\u001b[0m\u001b[0m\n",
      "\u001b[1;32m~\\.conda\\envs\\Tensorflow1.15.x\\lib\\site-packages\\tensorflow\\python\\client\\session.py\u001b[0m in \u001b[0;36m_run\u001b[1;34m(self, handle, fetches, feed_dict, options, run_metadata)\u001b[0m\n\u001b[0;32m   1166\u001b[0m               not subfeed_t.get_shape().is_compatible_with(np_val.shape)):\n\u001b[0;32m   1167\u001b[0m             raise ValueError(\n\u001b[1;32m-> 1168\u001b[1;33m                 \u001b[1;34mf'Cannot feed value of shape {str(np_val.shape)} for Tensor '\u001b[0m\u001b[1;33m\u001b[0m\u001b[1;33m\u001b[0m\u001b[0m\n\u001b[0m\u001b[0;32m   1169\u001b[0m                 \u001b[1;34mf'{subfeed_t.name}, which has shape '\u001b[0m\u001b[1;33m\u001b[0m\u001b[1;33m\u001b[0m\u001b[0m\n\u001b[0;32m   1170\u001b[0m                 f'{str(subfeed_t.get_shape())}')\n",
      "\u001b[1;31mValueError\u001b[0m: Cannot feed value of shape (50,) for Tensor Placeholder_4:0, which has shape (None, 1)"
     ]
    }
   ],
   "source": [
    "with tf.compat.v1.Session() as sess:\n",
    "    sess.run(init)\n",
    "    for epoch in range(MaxEpoch):\n",
    "        curr_w, curr_b, curr_loss = sess.run([w, b, loss], feed_dict={x:x_train, y:y_train})\n",
    "        if epoch % 5 == 0:\n",
    "            print(curr_w, curr_b, curr_loss)\n",
    "        for x_batch, y_batch in Batch.generate_batches(batch_size, shuffled_x_train, shuffled_y_train):\n",
    "            sess.run(train, feed_dict={x:x_train, y:y_train})\n",
    "            #print(y_train.shape)\n",
    "    w_tf_gd, b_tf_gd = sess.run([w, b])\n",
    "    \n",
    "    #print(w_tf_gd, b_tf_gd)"
   ]
  },
  {
   "cell_type": "code",
   "execution_count": null,
   "id": "ef057698",
   "metadata": {},
   "outputs": [],
   "source": []
  },
  {
   "cell_type": "code",
   "execution_count": null,
   "id": "74597d15",
   "metadata": {},
   "outputs": [],
   "source": [
    "import numpy as np"
   ]
  },
  {
   "cell_type": "code",
   "execution_count": null,
   "id": "216624fc",
   "metadata": {},
   "outputs": [],
   "source": [
    "import tensorflow as tf"
   ]
  },
  {
   "cell_type": "code",
   "execution_count": null,
   "id": "563ec44d",
   "metadata": {},
   "outputs": [],
   "source": [
    "import matplotlib.pyplot as plt"
   ]
  },
  {
   "cell_type": "code",
   "execution_count": null,
   "id": "27da1904",
   "metadata": {},
   "outputs": [],
   "source": [
    "np.random.seed(324)"
   ]
  },
  {
   "cell_type": "code",
   "execution_count": null,
   "id": "d490355d",
   "metadata": {},
   "outputs": [],
   "source": [
    "x_train = np.linspace(-1, 1, 50)"
   ]
  },
  {
   "cell_type": "code",
   "execution_count": null,
   "id": "2862d13a",
   "metadata": {},
   "outputs": [],
   "source": [
    "print(x_train)"
   ]
  },
  {
   "cell_type": "code",
   "execution_count": null,
   "id": "0771b3bb",
   "metadata": {},
   "outputs": [],
   "source": [
    "y_train = x_train ** 2 + 0.25 * x_train + 1.0 + 0.5 * np.random.rand(len(x_train))"
   ]
  },
  {
   "cell_type": "code",
   "execution_count": null,
   "id": "e0f8444c",
   "metadata": {},
   "outputs": [],
   "source": []
  },
  {
   "cell_type": "code",
   "execution_count": null,
   "id": "8efdf69c",
   "metadata": {},
   "outputs": [],
   "source": [
    "plt.plot(x_train, y_train, '.k')\n",
    "plt.grid()\n",
    "plt.xlabel('x')\n",
    "plt.ylabel('y')\n",
    "plt.show()"
   ]
  },
  {
   "cell_type": "code",
   "execution_count": null,
   "id": "d8d48a07",
   "metadata": {},
   "outputs": [],
   "source": []
  },
  {
   "cell_type": "code",
   "execution_count": null,
   "id": "e3a2e240",
   "metadata": {},
   "outputs": [],
   "source": [
    "import Batch\n",
    "\n",
    "w = tf.Variable(tf.ones([2.0, 1.0]))\n",
    "b = tf.Variable(tf.ones([1]))\n",
    "\n",
    "x = tf.compat.v1.placeholder(tf.float32, [None, 2])\n",
    "y = tf.compat.v1.placeholder(tf.float32, [None, 1])\n",
    "yhat = tf.matmul(x, w) + b\n",
    "loss = tf.reduce_mean(tf.square(yhat - y))\n",
    "\n",
    "np.random.seed(320)\n",
    "labels = y_train.reshape(-1, 1)\n",
    "features = np.stack(xval ** 2 for xval in x_train)\n",
    "\n",
    "shuffled_id = np.arange(0, len(x_train))\n",
    "np.random.shuffle(shuffled_id)\n",
    "shuffled_x_train = features[shuffled_id]\n",
    "shuffled_y_train = labels[shuffled_id]\n",
    "\n",
    "init = tf.compat.v1.global_variables_initializer()"
   ]
  },
  {
   "cell_type": "code",
   "execution_count": null,
   "id": "a21056c1",
   "metadata": {},
   "outputs": [],
   "source": []
  },
  {
   "cell_type": "code",
   "execution_count": null,
   "id": "21de324f",
   "metadata": {},
   "outputs": [],
   "source": [
    "with tf.Session() as sess:\n",
    "    sess.run(init)\n",
    "    for epoch in range(MaxEpoch):\n",
    "        curr_w, curr_b, curr_loss = sess.run([w, b, loss], feed_dict={x:features.reshape(-1, 1), y:labels})\n",
    "        if epoch % 5 == 0:\n",
    "            print(curr_w.reshape(1, -1), curr_b, curr_loss)\n",
    "        for x_batch, y_batch in Batch.generate_batches(batch_size, shuffled_x_train, shuffled_y_train):\n",
    "            sess.run(train, feed_dict={x:x_batch, y:y_batch})\n",
    "    w_tf_gd, b_tf_gd = sess.run([w, b])\n",
    "    prediction_values = sess.run(yhat, feed_dict={x:features})\n",
    "print(prediction_values)    "
   ]
  },
  {
   "cell_type": "code",
   "execution_count": null,
   "id": "8c3555b9",
   "metadata": {},
   "outputs": [],
   "source": []
  },
  {
   "cell_type": "code",
   "execution_count": null,
   "id": "5651b1b3",
   "metadata": {},
   "outputs": [],
   "source": []
  },
  {
   "cell_type": "code",
   "execution_count": null,
   "id": "e3322fa4",
   "metadata": {},
   "outputs": [],
   "source": []
  },
  {
   "cell_type": "code",
   "execution_count": null,
   "id": "e3994493",
   "metadata": {},
   "outputs": [],
   "source": []
  }
 ],
 "metadata": {
  "interpreter": {
   "hash": "ecc94a84cec4e59265442ba89994077d25c8bad7b5dbac8793171efaff97d6ad"
  },
  "kernelspec": {
   "display_name": "TensorFlow 1.15.5",
   "language": "python",
   "name": "python3"
  },
  "language_info": {
   "codemirror_mode": {
    "name": "ipython",
    "version": 3
   },
   "file_extension": ".py",
   "mimetype": "text/x-python",
   "name": "python",
   "nbconvert_exporter": "python",
   "pygments_lexer": "ipython3",
   "version": "3.7.11"
  }
 },
 "nbformat": 4,
 "nbformat_minor": 5
}

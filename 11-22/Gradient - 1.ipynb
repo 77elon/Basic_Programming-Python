{
 "cells": [
  {
   "cell_type": "code",
   "execution_count": 1,
   "id": "58089a97",
   "metadata": {},
   "outputs": [],
   "source": [
    "import Batch"
   ]
  },
  {
   "cell_type": "code",
   "execution_count": 2,
   "id": "5c789135",
   "metadata": {},
   "outputs": [],
   "source": [
    "import numpy as np"
   ]
  },
  {
   "cell_type": "code",
   "execution_count": 3,
   "id": "95ffbb72",
   "metadata": {},
   "outputs": [],
   "source": [
    "f = lambda x: x**2 -4*x + 6"
   ]
  },
  {
   "cell_type": "code",
   "execution_count": 4,
   "id": "5a6cc3a2",
   "metadata": {},
   "outputs": [],
   "source": [
    "x = np.linspace(-1, 6, 100)"
   ]
  },
  {
   "cell_type": "code",
   "execution_count": 5,
   "id": "9fa401bb",
   "metadata": {},
   "outputs": [],
   "source": [
    "y = f(x)"
   ]
  },
  {
   "cell_type": "code",
   "execution_count": null,
   "id": "0a890018",
   "metadata": {},
   "outputs": [],
   "source": []
  },
  {
   "cell_type": "code",
   "execution_count": 6,
   "id": "821f6002",
   "metadata": {},
   "outputs": [],
   "source": [
    "import matplotlib.pyplot as plt"
   ]
  },
  {
   "cell_type": "code",
   "execution_count": 7,
   "id": "e01546b7",
   "metadata": {},
   "outputs": [
    {
     "data": {
      "image/png": "[encoded data removed]",
      "text/plain": [
       "<Figure size 432x288 with 1 Axes>"
      ]
     },
     "metadata": {
      "needs_background": "light"
     },
     "output_type": "display_data"
    }
   ],
   "source": [
    "plt.plot(x, y, 'k-')\n",
    "plt.plot(2, 2, 'sk')\n",
    "plt.grid()\n",
    "plt.xlabel('x')\n",
    "plt.ylabel('f(x)')\n",
    "plt.show()"
   ]
  },
  {
   "cell_type": "code",
   "execution_count": null,
   "id": "6ef9427d",
   "metadata": {},
   "outputs": [],
   "source": []
  },
  {
   "cell_type": "code",
   "execution_count": 8,
   "id": "467214b6",
   "metadata": {},
   "outputs": [],
   "source": [
    "grad_f = lambda x: 2 * x - 4"
   ]
  },
  {
   "cell_type": "code",
   "execution_count": 9,
   "id": "1a9664ee",
   "metadata": {},
   "outputs": [],
   "source": [
    "x0 = 0.0"
   ]
  },
  {
   "cell_type": "code",
   "execution_count": 10,
   "id": "6f12b0bf",
   "metadata": {},
   "outputs": [],
   "source": [
    "MaxIter = 10"
   ]
  },
  {
   "cell_type": "code",
   "execution_count": 11,
   "id": "b3ff9d3d",
   "metadata": {},
   "outputs": [],
   "source": [
    "learning_rate = 0.25"
   ]
  },
  {
   "cell_type": "code",
   "execution_count": 12,
   "id": "5491130b",
   "metadata": {},
   "outputs": [
    {
     "name": "stdout",
     "output_type": "stream",
     "text": [
      "step\tx \tf(x)\n",
      "00\t 0.00000\t    6.0f\n",
      "01\t 1.00000\t    3.0f\n",
      "02\t 1.50000\t   2.25f\n",
      "03\t 1.75000\t 2.0625f\n",
      "04\t 1.87500\t 2.0156f\n",
      "05\t 1.93750\t 2.0039f\n",
      "06\t 1.96875\t  2.001f\n",
      "07\t 1.98438\t 2.0002f\n",
      "08\t 1.99219\t 2.0001f\n",
      "09\t 1.99609\t    2.0f\n",
      "10\t 1.99805\t    2.0f\n"
     ]
    }
   ],
   "source": [
    "print('step\\tx \\tf(x)')\n",
    "print('{:02d}\\t {:6.5f}\\t {:6.5}f'.format(0, x0, f(x0)))\n",
    "for i in range(MaxIter):\n",
    "    x1 = x0 - learning_rate * grad_f(x0)\n",
    "    x0 = x1\n",
    "    print('{:02d}\\t {:6.5f}\\t {:6.5}f'.format(i+1, x0, f(x0)))"
   ]
  },
  {
   "cell_type": "code",
   "execution_count": null,
   "id": "452b13bc",
   "metadata": {},
   "outputs": [],
   "source": []
  },
  {
   "cell_type": "code",
   "execution_count": 13,
   "id": "ea4acb3b",
   "metadata": {},
   "outputs": [],
   "source": [
    "import numpy as np\n",
    "np.random.seed(320)\n",
    "x_train = np.linspace(-1, 1, 50)\n",
    "f = lambda x: 0.5 * x + 1.0\n",
    "y_train = f(x_train) + 0.4 * np.random.rand(len(x_train))"
   ]
  },
  {
   "cell_type": "code",
   "execution_count": 14,
   "id": "e29d0d6b",
   "metadata": {},
   "outputs": [],
   "source": [
    "def loss(w, x_set, y_set):\n",
    "    N = len(x_set)\n",
    "    val = 0.0\n",
    "    for i in range(len(x_set)):\n",
    "        val += 0.5 * ((w[0] * x_set[i] + w[1]) - y_set[i]) ** 2\n",
    "    return val / N"
   ]
  },
  {
   "cell_type": "code",
   "execution_count": 15,
   "id": "ef226931",
   "metadata": {},
   "outputs": [],
   "source": [
    "def loss_grad(w, x_set, y_set):\n",
    "    N = len(x_set)\n",
    "    val = np.zeros(len(w))\n",
    "    for i in range(len(x_set)):\n",
    "        er = (w[0] * x_set[i] + w[1]) - y_set[i]\n",
    "        val += er * np.array([x_set[i], 1.0])\n",
    "    return val / N"
   ]
  },
  {
   "cell_type": "code",
   "execution_count": 16,
   "id": "b8fb60ff",
   "metadata": {},
   "outputs": [
    {
     "name": "stdout",
     "output_type": "stream",
     "text": [
      "[ 0  1  2  3  4  5  6  7  8  9 10 11 12 13 14 15 16 17 18 19 20 21 22 23\n",
      " 24 25 26 27 28 29 30 31 32 33 34 35 36 37 38 39 40 41 42 43 44 45 46 47\n",
      " 48 49]\n",
      "[32 17 47 33  1  7 23 19 21 40  3 14 18  0  4 12 42 41 25 10  2 36 31  6\n",
      " 16 24 11 22 45 46 49 15 38 48  8 37 30  9 35 13 28 34 29 27 39 26 20 44\n",
      "  5 43]\n"
     ]
    }
   ],
   "source": [
    "idx = np.arange(len(x_train))\n",
    "print(idx)\n",
    "np.random.shuffle(idx)\n",
    "print(idx)"
   ]
  },
  {
   "cell_type": "code",
   "execution_count": null,
   "id": "b3eb5566",
   "metadata": {},
   "outputs": [],
   "source": []
  },
  {
   "cell_type": "code",
   "execution_count": 17,
   "id": "a3c58d96",
   "metadata": {},
   "outputs": [],
   "source": [
    "import numpy as np"
   ]
  },
  {
   "cell_type": "code",
   "execution_count": 18,
   "id": "372f1f5a",
   "metadata": {},
   "outputs": [],
   "source": [
    "x_train = np.linspace(-1, 1, 50)"
   ]
  },
  {
   "cell_type": "code",
   "execution_count": 19,
   "id": "700aa38e",
   "metadata": {},
   "outputs": [],
   "source": [
    "f = lambda x: 0.5 * x + 1.0"
   ]
  },
  {
   "cell_type": "code",
   "execution_count": 20,
   "id": "56c388b1",
   "metadata": {},
   "outputs": [],
   "source": [
    "y_train = f(x_train) + 0.4 * np.random.rand(len(x_train))"
   ]
  },
  {
   "cell_type": "code",
   "execution_count": null,
   "id": "9ee79ad0",
   "metadata": {},
   "outputs": [],
   "source": []
  },
  {
   "cell_type": "code",
   "execution_count": 21,
   "id": "c1613835",
   "metadata": {},
   "outputs": [],
   "source": [
    "batch_size = 5\n",
    "Learning_Rate = 0.1\n",
    "MaxEpochs = 10\n",
    "paths = []\n",
    "batch_loss = []\n",
    "w0 = np.array([4.0, -1.0])\n",
    "search_direction = np.zeros_like(w0)"
   ]
  },
  {
   "cell_type": "code",
   "execution_count": null,
   "id": "6df6b82a",
   "metadata": {},
   "outputs": [],
   "source": []
  },
  {
   "cell_type": "code",
   "execution_count": null,
   "id": "d0d8f35a",
   "metadata": {},
   "outputs": [],
   "source": []
  },
  {
   "cell_type": "code",
   "execution_count": 22,
   "id": "38e9dac7",
   "metadata": {},
   "outputs": [
    {
     "name": "stdout",
     "output_type": "stream",
     "text": [
      "[-0.63265306  0.51020408 -1.          0.18367347 -0.71428571 -0.95918367\n",
      "  0.95918367  0.67346939 -0.3877551  -0.83673469 -0.42857143 -0.55102041\n",
      " -0.67346939  0.79591837 -0.10204082  0.02040816  0.06122449  0.87755102\n",
      " -0.14285714  0.2244898   0.59183673 -0.06122449 -0.26530612  0.55102041\n",
      "  0.30612245 -0.02040816  0.3877551  -0.51020408  0.26530612  0.10204082\n",
      " -0.18367347  0.75510204  0.91836735 -0.2244898   0.71428571  0.46938776\n",
      " -0.34693878 -0.75510204 -0.87755102  0.34693878  0.83673469  0.42857143\n",
      "  0.63265306 -0.30612245  1.         -0.79591837  0.14285714 -0.59183673\n",
      " -0.91836735 -0.46938776] \n",
      " [0.78422473 1.47428628 0.76291903 1.15227214 0.81780495 0.57788914\n",
      " 1.83408824 1.67631117 1.10908311 0.88376508 1.00206985 0.90733391\n",
      " 0.87496602 1.79578813 0.98260011 1.10551732 1.31717962 1.80542287\n",
      " 1.13262642 1.26062683 1.51610096 1.08567054 1.15594681 1.40823498\n",
      " 1.18517394 1.28846734 1.55140323 0.849739   1.21892853 1.4030643\n",
      " 1.21892099 1.55941814 1.8382116  0.94143808 1.36620141 1.29994735\n",
      " 1.00904081 0.93378416 0.7653102  1.28527124 1.48765113 1.61257805\n",
      " 1.50569742 1.12700375 1.71717332 0.86202445 1.14544192 1.08660435\n",
      " 0.54810959 0.79591566]\n"
     ]
    }
   ],
   "source": [
    "np.random.seed(320)\n",
    "idx = np.arange(len(x_train))\n",
    "np.random.shuffle(idx)\n",
    "\n",
    "shuffled_x_train = x_train[idx]\n",
    "shuffled_y_train = y_train[idx]\n",
    "\n",
    "print(shuffled_x_train, '\\n',  shuffled_y_train)"
   ]
  },
  {
   "cell_type": "code",
   "execution_count": null,
   "id": "c5d7c42e",
   "metadata": {},
   "outputs": [],
   "source": []
  },
  {
   "cell_type": "code",
   "execution_count": 23,
   "id": "53a57b6a",
   "metadata": {},
   "outputs": [
    {
     "data": {
      "text/plain": [
       "[[array([-0.63265306,  0.51020408, -1.        ,  0.18367347, -0.71428571]),\n",
       "  array([0.78422473, 1.47428628, 0.76291903, 1.15227214, 0.81780495])],\n",
       " [array([-0.95918367,  0.95918367,  0.67346939, -0.3877551 , -0.83673469]),\n",
       "  array([0.57788914, 1.83408824, 1.67631117, 1.10908311, 0.88376508])],\n",
       " [array([-0.42857143, -0.55102041, -0.67346939,  0.79591837, -0.10204082]),\n",
       "  array([1.00206985, 0.90733391, 0.87496602, 1.79578813, 0.98260011])],\n",
       " [array([ 0.02040816,  0.06122449,  0.87755102, -0.14285714,  0.2244898 ]),\n",
       "  array([1.10551732, 1.31717962, 1.80542287, 1.13262642, 1.26062683])],\n",
       " [array([ 0.59183673, -0.06122449, -0.26530612,  0.55102041,  0.30612245]),\n",
       "  array([1.51610096, 1.08567054, 1.15594681, 1.40823498, 1.18517394])],\n",
       " [array([-0.02040816,  0.3877551 , -0.51020408,  0.26530612,  0.10204082]),\n",
       "  array([1.28846734, 1.55140323, 0.849739  , 1.21892853, 1.4030643 ])],\n",
       " [array([-0.18367347,  0.75510204,  0.91836735, -0.2244898 ,  0.71428571]),\n",
       "  array([1.21892099, 1.55941814, 1.8382116 , 0.94143808, 1.36620141])],\n",
       " [array([ 0.46938776, -0.34693878, -0.75510204, -0.87755102,  0.34693878]),\n",
       "  array([1.29994735, 1.00904081, 0.93378416, 0.7653102 , 1.28527124])],\n",
       " [array([ 0.83673469,  0.42857143,  0.63265306, -0.30612245,  1.        ]),\n",
       "  array([1.48765113, 1.61257805, 1.50569742, 1.12700375, 1.71717332])],\n",
       " [array([-0.79591837,  0.14285714, -0.59183673, -0.91836735, -0.46938776]),\n",
       "  array([0.86202445, 1.14544192, 1.08660435, 0.54810959, 0.79591566])]]"
      ]
     },
     "execution_count": 23,
     "metadata": {},
     "output_type": "execute_result"
    }
   ],
   "source": [
    "Batch.generate_batches(batch_size, shuffled_x_train, shuffled_y_train)"
   ]
  },
  {
   "cell_type": "code",
   "execution_count": null,
   "id": "2b86b696",
   "metadata": {},
   "outputs": [],
   "source": []
  },
  {
   "cell_type": "code",
   "execution_count": 24,
   "id": "f295c1fe",
   "metadata": {},
   "outputs": [
    {
     "name": "stdout",
     "output_type": "stream",
     "text": [
      "0 [2.93268455 0.42186099] 1.3144\n",
      "1 [2.19912794 0.91851884] 0.5320\n",
      "2 [1.69103304 1.09346429] 0.2478\n",
      "3 [1.33772146 1.15610018] 0.1220\n",
      "4 [1.0915585  1.17922051] 0.0624\n",
      "5 [0.91988154 1.18822393] 0.0337\n",
      "6 [0.80009379 1.19203732] 0.0198\n",
      "7 [0.71649161 1.19384329] 0.0130\n",
      "8 [0.65813704 1.1948075 ] 0.0098\n",
      "9 [0.61740296 1.1953779 ] 0.0082\n",
      "10 [0.58896792 1.19574051] 0.0074\n"
     ]
    }
   ],
   "source": [
    "for epoch in range(MaxEpochs + 1):\n",
    "    for x_batch, y_batch in Batch.generate_batches(batch_size, shuffled_x_train, shuffled_y_train):\n",
    "        paths.append(w0)\n",
    "        batch_loss.append(loss(w0, x_batch, y_batch))\n",
    "        grad = loss_grad(w0, x_batch, y_batch)\n",
    "        search_direction = -grad\n",
    "        Learning_Rate = Learning_Rate\n",
    "        dw = Learning_Rate * search_direction\n",
    "        w0 = w0 + dw\n",
    "    print(epoch, w0, '{:5.4f}'.format(loss(w0, x_train, y_train)))"
   ]
  },
  {
   "cell_type": "code",
   "execution_count": null,
   "id": "c3d05e1c",
   "metadata": {},
   "outputs": [],
   "source": []
  },
  {
   "cell_type": "code",
   "execution_count": 25,
   "id": "bfc1ff17",
   "metadata": {},
   "outputs": [],
   "source": [
    "from matplotlib.colors import LogNorm"
   ]
  },
  {
   "cell_type": "code",
   "execution_count": 26,
   "id": "23bd55d8",
   "metadata": {},
   "outputs": [],
   "source": [
    "import matplotlib.pyplot as plt"
   ]
  },
  {
   "cell_type": "code",
   "execution_count": null,
   "id": "e4301e2b",
   "metadata": {},
   "outputs": [],
   "source": []
  },
  {
   "cell_type": "code",
   "execution_count": 27,
   "id": "3631dff2",
   "metadata": {},
   "outputs": [
    {
     "data": {
      "image/png": "[encoded data removed]",
      "text/plain": [
       "<Figure size 504x288 with 1 Axes>"
      ]
     },
     "metadata": {
      "needs_background": "light"
     },
     "output_type": "display_data"
    }
   ],
   "source": [
    "def contour_with_path(l, x, y, paths, norm=LogNorm(), level = np.logspace(0, 5, 35), minima = None):\n",
    "    paths = np.array(paths).T\n",
    "    fig, ax = plt.subplots(figsize = (7, 4))\n",
    "    ax.contour(x, y, l, levels = level, norm = norm, cmap= plt.cm.jet)\n",
    "    ax.quiver(paths[0, :-1], paths[1, :-1], paths[0, 1:]-paths[0, :-1], paths[1, 1:]-paths[1, :-1], scale_units='xy', angles='xy', scale = 1, color = 'k')\n",
    "    \n",
    "    ax.set_xlabel('$x$')\n",
    "    ax.set_ylabel('$y$')\n",
    "    plt.show()\n",
    "W0 = np.linspace(-5, 7, 101)\n",
    "W1 = np.linspace(-2, 5, 101)\n",
    "W0, W1 = np.meshgrid(W0, W1)\n",
    "LOSSW = W0 * 0\n",
    "for i in range(W0.shape[0]):\n",
    "    for j in range(W1.shape[1]):\n",
    "        wij = np.array([W0[i, j], W1[i, j]])\n",
    "        LOSSW[i, j] = loss(wij, x_train, y_train)\n",
    "contour_with_path(LOSSW, W0, W1, paths, norm=None, level = np.linspace(0, 10, 10))\n",
    "        "
   ]
  },
  {
   "cell_type": "code",
   "execution_count": 28,
   "id": "b2cb21b3",
   "metadata": {},
   "outputs": [
    {
     "data": {
      "image/png": "[encoded data removed]",
      "text/plain": [
       "<Figure size 432x288 with 1 Axes>"
      ]
     },
     "metadata": {
      "needs_background": "light"
     },
     "output_type": "display_data"
    }
   ],
   "source": [
    "plt.plot(batch_loss, '-k', markerfacecolor='None')\n",
    "plt.grid()\n",
    "plt.xlabel('step')\n",
    "plt.ylabel('loss')\n",
    "plt.title('loss on a batch by SGD')\n",
    "plt.show()"
   ]
  },
  {
   "cell_type": "code",
   "execution_count": null,
   "id": "837ae6ec",
   "metadata": {},
   "outputs": [],
   "source": []
  }
 ],
 "metadata": {
  "kernelspec": {
   "display_name": "Python 3 (ipykernel)",
   "language": "python",
   "name": "python3"
  },
  "language_info": {
   "codemirror_mode": {
    "name": "ipython",
    "version": 3
   },
   "file_extension": ".py",
   "mimetype": "text/x-python",
   "name": "python",
   "nbconvert_exporter": "python",
   "pygments_lexer": "ipython3",
   "version": "3.9.7"
  }
 },
 "nbformat": 4,
 "nbformat_minor": 5
}

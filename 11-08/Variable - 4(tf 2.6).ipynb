{
 "cells": [
  {
   "cell_type": "code",
   "execution_count": 1,
   "id": "3dbd014d",
   "metadata": {},
   "outputs": [
    {
     "name": "stderr",
     "output_type": "stream",
     "text": [
      "2021-11-15 09:02:55.298816: W tensorflow/stream_executor/platform/default/dso_loader.cc:64] Could not load dynamic library 'libcudart.so.11.0'; dlerror: libcudart.so.11.0: cannot open shared object file: No such file or directory\n",
      "2021-11-15 09:02:55.298836: I tensorflow/stream_executor/cuda/cudart_stub.cc:29] Ignore above cudart dlerror if you do not have a GPU set up on your machine.\n"
     ]
    }
   ],
   "source": [
    "import tensorflow as tf"
   ]
  },
  {
   "cell_type": "code",
   "execution_count": 2,
   "id": "b449d7a3",
   "metadata": {},
   "outputs": [
    {
     "name": "stderr",
     "output_type": "stream",
     "text": [
      "2021-11-15 09:03:00.041692: W tensorflow/stream_executor/platform/default/dso_loader.cc:64] Could not load dynamic library 'libcuda.so.1'; dlerror: libcuda.so.1: cannot open shared object file: No such file or directory\n",
      "2021-11-15 09:03:00.041711: W tensorflow/stream_executor/cuda/cuda_driver.cc:269] failed call to cuInit: UNKNOWN ERROR (303)\n",
      "2021-11-15 09:03:00.041726: I tensorflow/stream_executor/cuda/cuda_diagnostics.cc:156] kernel driver does not appear to be running on this host (68ca66e711d1): /proc/driver/nvidia/version does not exist\n",
      "2021-11-15 09:03:00.041882: I tensorflow/core/platform/cpu_feature_guard.cc:142] This TensorFlow binary is optimized with oneAPI Deep Neural Network Library (oneDNN) to use the following CPU instructions in performance-critical operations:  AVX2 FMA\n",
      "To enable them in other operations, rebuild TensorFlow with the appropriate compiler flags.\n"
     ]
    }
   ],
   "source": [
    "x = tf.Variable(10)"
   ]
  },
  {
   "cell_type": "code",
   "execution_count": 3,
   "id": "2129ac97",
   "metadata": {},
   "outputs": [
    {
     "name": "stdout",
     "output_type": "stream",
     "text": [
      "<tf.Variable 'Variable:0' shape=() dtype=int32, numpy=10>\n"
     ]
    }
   ],
   "source": [
    "print(x)"
   ]
  },
  {
   "cell_type": "code",
   "execution_count": null,
   "id": "b998fc7a",
   "metadata": {},
   "outputs": [],
   "source": []
  },
  {
   "cell_type": "code",
   "execution_count": 4,
   "id": "c1b1b430",
   "metadata": {},
   "outputs": [],
   "source": [
    "init = tf.compat.v1.global_variables_initializer()"
   ]
  },
  {
   "cell_type": "code",
   "execution_count": 11,
   "id": "0ab4f0c8",
   "metadata": {},
   "outputs": [],
   "source": [
    "def print_test():\n",
    "    return x"
   ]
  },
  {
   "cell_type": "code",
   "execution_count": 12,
   "id": "2905ec78",
   "metadata": {},
   "outputs": [
    {
     "data": {
      "text/plain": [
       "<tf.Variable 'Variable:0' shape=() dtype=int32, numpy=10>"
      ]
     },
     "execution_count": 12,
     "metadata": {},
     "output_type": "execute_result"
    }
   ],
   "source": [
    "print_test()"
   ]
  },
  {
   "cell_type": "code",
   "execution_count": null,
   "id": "1522f93e",
   "metadata": {},
   "outputs": [],
   "source": [
    "x = tf.Variable(10)"
   ]
  },
  {
   "cell_type": "code",
   "execution_count": null,
   "id": "45bbd51a",
   "metadata": {},
   "outputs": [],
   "source": [
    "init = tf.compat.v1.global_variables_initializer()"
   ]
  },
  {
   "cell_type": "code",
   "execution_count": null,
   "id": "8ad4ee2a",
   "metadata": {},
   "outputs": [],
   "source": [
    "with tf.compat.v1.Session() as sess:\n",
    "    sess.run(init)\n",
    "    output = sess.run(x)"
   ]
  },
  {
   "cell_type": "code",
   "execution_count": null,
   "id": "e1dca0cc",
   "metadata": {},
   "outputs": [],
   "source": [
    "print(output)"
   ]
  },
  {
   "cell_type": "code",
   "execution_count": null,
   "id": "80f3d884",
   "metadata": {},
   "outputs": [],
   "source": [
    "print(type(x))"
   ]
  },
  {
   "cell_type": "code",
   "execution_count": null,
   "id": "e98e6c96",
   "metadata": {},
   "outputs": [],
   "source": [
    "init = tf.compat.v1.global_variables_initializer()"
   ]
  },
  {
   "cell_type": "code",
   "execution_count": null,
   "id": "465daa97",
   "metadata": {},
   "outputs": [],
   "source": [
    "x = tf.Variable(10)"
   ]
  },
  {
   "cell_type": "code",
   "execution_count": null,
   "id": "9c1a7342",
   "metadata": {},
   "outputs": [],
   "source": [
    "y = tf.Variable(2)"
   ]
  },
  {
   "cell_type": "code",
   "execution_count": null,
   "id": "ab302160",
   "metadata": {},
   "outputs": [],
   "source": [
    "z = x / y"
   ]
  },
  {
   "cell_type": "code",
   "execution_count": null,
   "id": "bb391d0f",
   "metadata": {},
   "outputs": [],
   "source": [
    "w = z - 1"
   ]
  },
  {
   "cell_type": "code",
   "execution_count": null,
   "id": "79683a2e",
   "metadata": {},
   "outputs": [],
   "source": [
    "with tf.compat.v1.Session() as sess:\n",
    "    sess.run(init)\n",
    "    output = sess.run(x)\n",
    "print(output)"
   ]
  },
  {
   "cell_type": "code",
   "execution_count": null,
   "id": "e3c4762a",
   "metadata": {},
   "outputs": [],
   "source": [
    "init = tf.compat.v1.global_variables_initializer()"
   ]
  },
  {
   "cell_type": "code",
   "execution_count": null,
   "id": "7892276b",
   "metadata": {},
   "outputs": [],
   "source": [
    "with tf.compat.v1.Session() as sess:\n",
    "    sess.run(init)\n",
    "    output = sess.run(y)\n",
    "print(output)"
   ]
  },
  {
   "cell_type": "code",
   "execution_count": null,
   "id": "09936b41",
   "metadata": {},
   "outputs": [],
   "source": [
    "init = tf.compat.v1.global_variables_initializer()"
   ]
  },
  {
   "cell_type": "code",
   "execution_count": null,
   "id": "e4ce646f",
   "metadata": {},
   "outputs": [],
   "source": [
    "with tf.compat.v1.Session() as sess:\n",
    "    sess.run(init)\n",
    "    output = sess.run(z)\n",
    "print(output)"
   ]
  },
  {
   "cell_type": "code",
   "execution_count": null,
   "id": "d3923d80",
   "metadata": {},
   "outputs": [],
   "source": [
    "z1 = y / z"
   ]
  },
  {
   "cell_type": "code",
   "execution_count": null,
   "id": "0f5fb4ea",
   "metadata": {},
   "outputs": [],
   "source": []
  },
  {
   "cell_type": "code",
   "execution_count": null,
   "id": "28458be0",
   "metadata": {},
   "outputs": [],
   "source": [
    "init = tf.compat.v1.global_variables_initializer()"
   ]
  },
  {
   "cell_type": "code",
   "execution_count": null,
   "id": "96baf5bc",
   "metadata": {},
   "outputs": [],
   "source": [
    "x = tf.compat.v1.placeholder(tf.int32)"
   ]
  },
  {
   "cell_type": "code",
   "execution_count": null,
   "id": "a86194df",
   "metadata": {},
   "outputs": [],
   "source": [
    "y = tf.compat.v1.placeholder(tf.int32)"
   ]
  },
  {
   "cell_type": "code",
   "execution_count": null,
   "id": "ff053dbd",
   "metadata": {},
   "outputs": [],
   "source": []
  },
  {
   "cell_type": "code",
   "execution_count": null,
   "id": "ab255159",
   "metadata": {},
   "outputs": [],
   "source": [
    "z = x / y"
   ]
  },
  {
   "cell_type": "code",
   "execution_count": null,
   "id": "13bd15e8",
   "metadata": {},
   "outputs": [],
   "source": [
    "w = z - 1"
   ]
  },
  {
   "cell_type": "code",
   "execution_count": null,
   "id": "f2e3c004",
   "metadata": {},
   "outputs": [],
   "source": [
    "with tf.compat.v1.Session() as sess:\n",
    "    output = sess.run([z, w ,x], feed_dict = {x : 10, y : 2})\n",
    "print(output)"
   ]
  },
  {
   "cell_type": "code",
   "execution_count": null,
   "id": "a7f0defd",
   "metadata": {},
   "outputs": [],
   "source": [
    "import tensorflow as tf"
   ]
  },
  {
   "cell_type": "code",
   "execution_count": null,
   "id": "9721fcf2",
   "metadata": {},
   "outputs": [],
   "source": []
  },
  {
   "cell_type": "code",
   "execution_count": null,
   "id": "aa03ea32",
   "metadata": {},
   "outputs": [],
   "source": [
    "x = tf.Variable(10, dtype = tf.int32)\n",
    "y = tf.Variable(2, dtype = tf.int32)\n",
    "z = x + y"
   ]
  },
  {
   "cell_type": "code",
   "execution_count": null,
   "id": "a4f517d8",
   "metadata": {},
   "outputs": [],
   "source": []
  },
  {
   "cell_type": "code",
   "execution_count": null,
   "id": "447fc25e",
   "metadata": {},
   "outputs": [],
   "source": [
    "init = tf.compat.v1.global_variables_initializer()"
   ]
  },
  {
   "cell_type": "code",
   "execution_count": null,
   "id": "0564e7bb",
   "metadata": {},
   "outputs": [],
   "source": []
  },
  {
   "cell_type": "code",
   "execution_count": null,
   "id": "d936cfbc",
   "metadata": {},
   "outputs": [],
   "source": [
    "with tf.compat.v1.Session() as sess:\n",
    "    sess.run(init)\n",
    "    output = sess.run(z) # feed_dict = {x: 10, y: 2}\n",
    "print(output)"
   ]
  },
  {
   "cell_type": "code",
   "execution_count": null,
   "id": "45281987",
   "metadata": {},
   "outputs": [],
   "source": [
    "x = tf.compat.v1.placeholder(tf.int32)\n",
    "y = tf.compat.v1.placeholder(tf.int32)\n",
    "\n",
    "z = x + y\n",
    "\n",
    "with tf.compat.v1.Session() as sess:\n",
    "    sess.run(init)\n",
    "    output = sess.run(z, feed_dict={x:10, y:2}) # feed_dict = {x: 10, y: 2}\n",
    "print(output)"
   ]
  },
  {
   "cell_type": "code",
   "execution_count": null,
   "id": "86cc5b7a",
   "metadata": {},
   "outputs": [],
   "source": []
  },
  {
   "cell_type": "code",
   "execution_count": null,
   "id": "fc72004c",
   "metadata": {},
   "outputs": [],
   "source": []
  },
  {
   "cell_type": "code",
   "execution_count": null,
   "id": "d4b139a0",
   "metadata": {},
   "outputs": [],
   "source": []
  },
  {
   "cell_type": "code",
   "execution_count": null,
   "id": "dce55a4b",
   "metadata": {},
   "outputs": [],
   "source": [
    "x = tf.compat.v1.placeholder(tf.float64)\n",
    "#x = tf.Variable(1.0, dtype = tf.float64)"
   ]
  },
  {
   "cell_type": "code",
   "execution_count": null,
   "id": "52aed6ed",
   "metadata": {},
   "outputs": [],
   "source": [
    "y = tf.compat.v1.placeholder(tf.float64)\n",
    "y = tf.exp(x)"
   ]
  },
  {
   "cell_type": "code",
   "execution_count": null,
   "id": "74a441fa",
   "metadata": {},
   "outputs": [],
   "source": []
  },
  {
   "cell_type": "code",
   "execution_count": null,
   "id": "6c6502f8",
   "metadata": {},
   "outputs": [],
   "source": [
    "z = tf.compat.v1.placeholder(tf.float64)\n",
    "z = tf.math.log(y)"
   ]
  },
  {
   "cell_type": "code",
   "execution_count": null,
   "id": "da5e85d4",
   "metadata": {},
   "outputs": [],
   "source": []
  },
  {
   "cell_type": "code",
   "execution_count": null,
   "id": "c8efc71f",
   "metadata": {},
   "outputs": [],
   "source": [
    "with tf.compat.v1.Session() as sess:\n",
    "    output = sess.run([y, z], feed_dict={x:1.0})\n",
    "print(output)"
   ]
  },
  {
   "cell_type": "code",
   "execution_count": null,
   "id": "e06fac7f",
   "metadata": {},
   "outputs": [],
   "source": []
  },
  {
   "cell_type": "code",
   "execution_count": null,
   "id": "859cd859",
   "metadata": {},
   "outputs": [],
   "source": [
    "x = tf.constant([1, 2, 3, 4, 5, 6, 7, 8, 9, 10])"
   ]
  },
  {
   "cell_type": "code",
   "execution_count": null,
   "id": "7e2c707b",
   "metadata": {},
   "outputs": [],
   "source": [
    "y = tf.reduce_min(x)"
   ]
  },
  {
   "cell_type": "code",
   "execution_count": null,
   "id": "5d346379",
   "metadata": {},
   "outputs": [],
   "source": [
    "z = tf.reduce_max(x)"
   ]
  },
  {
   "cell_type": "code",
   "execution_count": null,
   "id": "a8bb1683",
   "metadata": {},
   "outputs": [],
   "source": [
    "with tf.compat.v1.Session() as sess:\n",
    "    output = sess.run([y, z])\n",
    "print(output)"
   ]
  },
  {
   "cell_type": "code",
   "execution_count": null,
   "id": "6422064d",
   "metadata": {},
   "outputs": [],
   "source": []
  },
  {
   "cell_type": "code",
   "execution_count": null,
   "id": "a0e9e012",
   "metadata": {},
   "outputs": [],
   "source": [
    "x = tf.compat.v1.placeholder(tf.int32)\n",
    "y = tf.reduce_min(x)\n",
    "z = tf.reduce_max(x)"
   ]
  },
  {
   "cell_type": "code",
   "execution_count": null,
   "id": "898e143f",
   "metadata": {},
   "outputs": [],
   "source": [
    "with tf.compat.v1.Session() as sess:\n",
    "    output = sess.run([y, z], feed_dict={x:[1,2,3,4,5,6,7,8,9,10]})\n",
    "print(output)"
   ]
  },
  {
   "cell_type": "code",
   "execution_count": null,
   "id": "d8a6234b",
   "metadata": {},
   "outputs": [],
   "source": [
    "result = tf.reduce_sum(x)"
   ]
  },
  {
   "cell_type": "code",
   "execution_count": null,
   "id": "105fb836",
   "metadata": {},
   "outputs": [],
   "source": [
    "result1 = tf.reduce_mean(x)"
   ]
  },
  {
   "cell_type": "code",
   "execution_count": null,
   "id": "a875bedd",
   "metadata": {},
   "outputs": [],
   "source": []
  },
  {
   "cell_type": "code",
   "execution_count": null,
   "id": "21daed90",
   "metadata": {},
   "outputs": [],
   "source": [
    "with tf.compat.v1.Session() as sess:\n",
    "    output = sess.run([result, result1], feed_dict={x:[1,2,3,4,5,6,7,8,9,10]})\n",
    "print(output)"
   ]
  },
  {
   "cell_type": "code",
   "execution_count": null,
   "id": "640292d4",
   "metadata": {},
   "outputs": [],
   "source": []
  },
  {
   "cell_type": "code",
   "execution_count": null,
   "id": "53054255",
   "metadata": {},
   "outputs": [],
   "source": [
    "x = tf.placeholder(tf.float32, (3, 1))"
   ]
  },
  {
   "cell_type": "code",
   "execution_count": null,
   "id": "499d8503",
   "metadata": {},
   "outputs": [],
   "source": [
    "y = tf.placeholder(tf.float32, (3, 1))"
   ]
  },
  {
   "cell_type": "code",
   "execution_count": null,
   "id": "1077cdf5",
   "metadata": {},
   "outputs": [],
   "source": [
    "xT = tf.transpose(x)"
   ]
  },
  {
   "cell_type": "code",
   "execution_count": null,
   "id": "71b17827",
   "metadata": {},
   "outputs": [],
   "source": [
    "inner_product = tf.matmul(xT, y) #행렬곱!"
   ]
  },
  {
   "cell_type": "code",
   "execution_count": null,
   "id": "c1634a89",
   "metadata": {},
   "outputs": [],
   "source": [
    "with tf.compat.v1.Session() as sess:\n",
    "    output = sess.run(inner_product, feed_dict={x:[[1],[2],[3]], y: [[4], [5], [6]]})\n",
    "print(output)\n",
    "print(\"{0}\".format(output))"
   ]
  },
  {
   "cell_type": "code",
   "execution_count": null,
   "id": "c1fcabba",
   "metadata": {},
   "outputs": [],
   "source": [
    "inner_product = tf.matmul(y, xT) #행렬곱!\n",
    "\n",
    "with tf.compat.v1.Session() as sess:\n",
    "    output = sess.run(inner_product, feed_dict={x:[[1],[2],[3]], y: [[4], [5], [6]]})\n",
    "print(output)\n",
    "print(\"{0}\".format(output))"
   ]
  },
  {
   "cell_type": "code",
   "execution_count": null,
   "id": "8b02ce3f",
   "metadata": {},
   "outputs": [],
   "source": [
    "x = tf.placeholder(tf.float32, (3, 1))\n",
    "xT = tf.transpose(x)\n",
    "x_normalized = tf.sqrt(tf.matmul(xT, x))\n",
    "with tf.compat.v1.Session() as sess:\n",
    "    output = sess.run(x_normalized, feed_dict={x:[[1],[2],[3]]})\n",
    "print(output)\n",
    "print(\"{}\".format(output))"
   ]
  },
  {
   "cell_type": "code",
   "execution_count": null,
   "id": "2d011f81",
   "metadata": {},
   "outputs": [],
   "source": [
    "x = tf.placeholder(tf.float32, (3, 1))\n",
    "x_normalized = tf.norm(x)\n",
    "with tf.compat.v1.Session() as sess:\n",
    "    output = sess.run(x_normalized, feed_dict={x:[[1],[2],[3]]})\n",
    "print(output)\n",
    "print(\"{}\".format(output))"
   ]
  }
 ],
 "metadata": {
  "kernelspec": {
   "display_name": "TensorFlow 2.6.0",
   "language": "python",
   "name": "tf2"
  },
  "language_info": {
   "codemirror_mode": {
    "name": "ipython",
    "version": 3
   },
   "file_extension": ".py",
   "mimetype": "text/x-python",
   "name": "python",
   "nbconvert_exporter": "python",
   "pygments_lexer": "ipython3",
   "version": "3.9.7"
  }
 },
 "nbformat": 4,
 "nbformat_minor": 5
}

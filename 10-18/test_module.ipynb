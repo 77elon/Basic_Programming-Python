{
 "cells": [
  {
   "cell_type": "code",
   "execution_count": null,
   "id": "1d2e2d70",
   "metadata": {},
   "outputs": [],
   "source": [
    "PI=3.14"
   ]
  },
  {
   "cell_type": "code",
   "execution_count": 4,
   "id": "d7cb3add",
   "metadata": {},
   "outputs": [],
   "source": [
    "def number_input():\n",
    "    output = input(\"숫자 입력 >>\")\n",
    "    return float(output)"
   ]
  },
  {
   "cell_type": "code",
   "execution_count": 6,
   "id": "093ccf36",
   "metadata": {},
   "outputs": [],
   "source": [
    "def get_circumference(radius):\n",
    "    return 2 * PI * radius"
   ]
  },
  {
   "cell_type": "code",
   "execution_count": 7,
   "id": "e185918a",
   "metadata": {},
   "outputs": [],
   "source": [
    "def get_circle_area(radius):\n",
    "    return PI * radius * radius"
   ]
  },
  {
   "cell_type": "code",
   "execution_count": null,
   "id": "87b2ae75",
   "metadata": {},
   "outputs": [],
   "source": []
  }
 ],
 "metadata": {
  "kernelspec": {
   "display_name": "Python 3 (ipykernel)",
   "language": "python",
   "name": "python3"
  },
  "language_info": {
   "codemirror_mode": {
    "name": "ipython",
    "version": 3
   },
   "file_extension": ".py",
   "mimetype": "text/x-python",
   "name": "python",
   "nbconvert_exporter": "python",
   "pygments_lexer": "ipython3",
   "version": "3.9.7"
  }
 },
 "nbformat": 4,
 "nbformat_minor": 5
}

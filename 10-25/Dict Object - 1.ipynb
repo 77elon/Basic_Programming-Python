{
 "cells": [
  {
   "cell_type": "code",
   "execution_count": 1,
   "id": "021c6038",
   "metadata": {},
   "outputs": [],
   "source": [
    "students =[\n",
    "    {\n",
    "        \"name\": \"윤인성\", \"korean\" : 87, \"math\" : 90, \"english\" : 88\n",
    "    },\n",
    "    {\n",
    "        \"name\" : \"연하진\", \"korean\" : 92, \"math\" : 80, \"english\" : 78\n",
    "    },\n",
    "    {\n",
    "        \"name\" : \"구지연\", \"korean\" : 57, \"math\" : 95, \"english\" : 98\n",
    "    },\n",
    "    {\n",
    "        \"name\" : \"나선주\", \"korean\" : 81, \"math\" : 68, \"english\" : 88\n",
    "    }\n",
    "]"
   ]
  },
  {
   "cell_type": "code",
   "execution_count": 2,
   "id": "44e91ff0",
   "metadata": {},
   "outputs": [
    {
     "name": "stdout",
     "output_type": "stream",
     "text": [
      "이름\t총점\t평균\n"
     ]
    }
   ],
   "source": [
    "print(\"이름\", \"총점\", \"평균\", sep=\"\\t\")"
   ]
  },
  {
   "cell_type": "code",
   "execution_count": 3,
   "id": "bfcd88a8",
   "metadata": {},
   "outputs": [
    {
     "name": "stdout",
     "output_type": "stream",
     "text": [
      "윤인성\t265\t88.33333333333333\n",
      "연하진\t250\t83.33333333333333\n",
      "구지연\t250\t83.33333333333333\n",
      "나선주\t237\t79.0\n"
     ]
    }
   ],
   "source": [
    "for student in students:\n",
    "    score_sum = student[\"korean\"]+student[\"math\"]+student[\"english\"]\n",
    "    score_average = score_sum / 3\n",
    "    print(student[\"name\"], score_sum, score_average, sep=\"\\t\")"
   ]
  },
  {
   "cell_type": "code",
   "execution_count": null,
   "id": "bba4b64e",
   "metadata": {},
   "outputs": [],
   "source": []
  },
  {
   "cell_type": "code",
   "execution_count": 4,
   "id": "347b27f2",
   "metadata": {},
   "outputs": [],
   "source": [
    "def create_student(name, korean, math, english):\n",
    "    return {\n",
    "        \"name\" : name,\n",
    "        \"korean\" : korean,\n",
    "        \"math\" : math,\n",
    "        \"english\" : english\n",
    "    }"
   ]
  },
  {
   "cell_type": "code",
   "execution_count": 5,
   "id": "c64d09a7",
   "metadata": {},
   "outputs": [],
   "source": [
    "def student_get_sum(student):\n",
    "    return student[\"korean\"] + student[\"math\"] + student[\"english\"]"
   ]
  },
  {
   "cell_type": "code",
   "execution_count": null,
   "id": "4a6f2e47",
   "metadata": {},
   "outputs": [],
   "source": []
  },
  {
   "cell_type": "code",
   "execution_count": 6,
   "id": "0d81a8fa",
   "metadata": {},
   "outputs": [],
   "source": [
    "def student_get_average(student):\n",
    "    return student_get_sum(student) / 3"
   ]
  },
  {
   "cell_type": "code",
   "execution_count": 7,
   "id": "6b69611d",
   "metadata": {},
   "outputs": [],
   "source": [
    "def student_to_string(student):\n",
    "    return \"{} {} {}\".format(student[\"name\"], student_get_sum(student), student_get_average(student))"
   ]
  },
  {
   "cell_type": "code",
   "execution_count": null,
   "id": "859342a3",
   "metadata": {},
   "outputs": [],
   "source": []
  },
  {
   "cell_type": "code",
   "execution_count": 8,
   "id": "3553135c",
   "metadata": {},
   "outputs": [
    {
     "name": "stdout",
     "output_type": "stream",
     "text": [
      "이름\t총점\t평균\n"
     ]
    }
   ],
   "source": [
    "print(\"이름\", \"총점\", \"평균\", sep=\"\\t\")"
   ]
  },
  {
   "cell_type": "code",
   "execution_count": 9,
   "id": "87d243ce",
   "metadata": {},
   "outputs": [
    {
     "data": {
      "text/plain": [
       "'윤인성 265 88.33333333333333'"
      ]
     },
     "execution_count": 9,
     "metadata": {},
     "output_type": "execute_result"
    }
   ],
   "source": [
    "student_to_string(students[0])"
   ]
  },
  {
   "cell_type": "code",
   "execution_count": 10,
   "id": "e8089750",
   "metadata": {},
   "outputs": [
    {
     "name": "stdout",
     "output_type": "stream",
     "text": [
      "윤인성 265 88.33333333333333\n",
      "연하진 250 83.33333333333333\n",
      "구지연 250 83.33333333333333\n",
      "나선주 237 79.0\n"
     ]
    }
   ],
   "source": [
    "for object in students:\n",
    "    print(student_to_string(object))"
   ]
  },
  {
   "cell_type": "code",
   "execution_count": null,
   "id": "7eaed5ef",
   "metadata": {},
   "outputs": [],
   "source": []
  },
  {
   "cell_type": "code",
   "execution_count": null,
   "id": "b0454236",
   "metadata": {},
   "outputs": [],
   "source": []
  }
 ],
 "metadata": {
  "kernelspec": {
   "display_name": "Python 3 (ipykernel)",
   "language": "python",
   "name": "python3"
  },
  "language_info": {
   "codemirror_mode": {
    "name": "ipython",
    "version": 3
   },
   "file_extension": ".py",
   "mimetype": "text/x-python",
   "name": "python",
   "nbconvert_exporter": "python",
   "pygments_lexer": "ipython3",
   "version": "3.9.7"
  }
 },
 "nbformat": 4,
 "nbformat_minor": 5
}

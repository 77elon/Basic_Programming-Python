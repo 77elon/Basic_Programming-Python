{
 "cells": [
  {
   "cell_type": "code",
   "execution_count": 1,
   "id": "f9107816",
   "metadata": {},
   "outputs": [],
   "source": [
    "items = [[1, 2] , [3, 4], [5, 6]]"
   ]
  },
  {
   "cell_type": "code",
   "execution_count": 2,
   "id": "cc97a7f1",
   "metadata": {},
   "outputs": [
    {
     "name": "stdout",
     "output_type": "stream",
     "text": [
      "1 2\n",
      "3 4\n",
      "5 6\n"
     ]
    }
   ],
   "source": [
    "for item in items: # Line-By-Line\n",
    "    print(item[0], item[1]) "
   ]
  },
  {
   "cell_type": "code",
   "execution_count": 3,
   "id": "68689e57",
   "metadata": {},
   "outputs": [
    {
     "name": "stdout",
     "output_type": "stream",
     "text": [
      "1 2\n",
      "3 4\n",
      "5 6\n"
     ]
    }
   ],
   "source": [
    "for item1, item2 in items: # Per Token \n",
    "    print(item1, item2)"
   ]
  },
  {
   "cell_type": "code",
   "execution_count": null,
   "id": "a2d05d8e",
   "metadata": {},
   "outputs": [],
   "source": []
  },
  {
   "cell_type": "code",
   "execution_count": 4,
   "id": "69dea638",
   "metadata": {},
   "outputs": [],
   "source": [
    "info = {'A':1, 'B':2, 'C':3}"
   ]
  },
  {
   "cell_type": "code",
   "execution_count": 5,
   "id": "f83dd140",
   "metadata": {},
   "outputs": [
    {
     "name": "stdout",
     "output_type": "stream",
     "text": [
      "A 1\n",
      "B 2\n",
      "C 3\n"
     ]
    }
   ],
   "source": [
    "for key in info:\n",
    "    print(key, info[key])"
   ]
  },
  {
   "cell_type": "code",
   "execution_count": 6,
   "id": "7737a321",
   "metadata": {},
   "outputs": [
    {
     "name": "stdout",
     "output_type": "stream",
     "text": [
      "A 1\n",
      "B 2\n",
      "C 3\n"
     ]
    }
   ],
   "source": [
    "for key, value in info.items():\n",
    "    print(key, value)"
   ]
  },
  {
   "cell_type": "code",
   "execution_count": 7,
   "id": "0b19bbde",
   "metadata": {},
   "outputs": [],
   "source": [
    "items1 = [[1, 2], [3, 4], [5, 6]]"
   ]
  },
  {
   "cell_type": "code",
   "execution_count": 8,
   "id": "aa44249d",
   "metadata": {},
   "outputs": [],
   "source": [
    "items2 = [['A', 'B'], ['C', 'D'], ['E', 'F']]"
   ]
  },
  {
   "cell_type": "code",
   "execution_count": 9,
   "id": "5be1df8d",
   "metadata": {},
   "outputs": [
    {
     "name": "stdout",
     "output_type": "stream",
     "text": [
      "[[1, 2], [3, 4], [5, 6]]\n"
     ]
    }
   ],
   "source": [
    "print(items1)"
   ]
  },
  {
   "cell_type": "code",
   "execution_count": 10,
   "id": "2f1f54de",
   "metadata": {},
   "outputs": [
    {
     "name": "stdout",
     "output_type": "stream",
     "text": [
      "[['A', 'B'], ['C', 'D'], ['E', 'F']]\n"
     ]
    }
   ],
   "source": [
    "print(items2)"
   ]
  },
  {
   "cell_type": "code",
   "execution_count": null,
   "id": "512fd06f",
   "metadata": {},
   "outputs": [],
   "source": []
  },
  {
   "cell_type": "code",
   "execution_count": 11,
   "id": "a035fa60",
   "metadata": {},
   "outputs": [
    {
     "name": "stdout",
     "output_type": "stream",
     "text": [
      "[1, 2] ['A', 'B']\n",
      "[3, 4] ['C', 'D']\n",
      "[5, 6] ['E', 'F']\n"
     ]
    }
   ],
   "source": [
    "for digits, characters in zip(items1, items2): #zip: 해당 iter의 Value를 묶어서 출력해주는 것.\n",
    "    print(digits, characters)"
   ]
  },
  {
   "cell_type": "code",
   "execution_count": null,
   "id": "748d71bc",
   "metadata": {},
   "outputs": [],
   "source": []
  },
  {
   "cell_type": "code",
   "execution_count": 12,
   "id": "312ddfd5",
   "metadata": {},
   "outputs": [],
   "source": [
    "a = []"
   ]
  },
  {
   "cell_type": "code",
   "execution_count": 13,
   "id": "4180af0d",
   "metadata": {},
   "outputs": [],
   "source": [
    "for k in range(0, 5):\n",
    "    a.append(k)"
   ]
  },
  {
   "cell_type": "code",
   "execution_count": 14,
   "id": "09210ea1",
   "metadata": {},
   "outputs": [
    {
     "name": "stdout",
     "output_type": "stream",
     "text": [
      "[0, 1, 2, 3, 4]\n"
     ]
    }
   ],
   "source": [
    "print(a)"
   ]
  },
  {
   "cell_type": "code",
   "execution_count": null,
   "id": "c1d0439e",
   "metadata": {},
   "outputs": [],
   "source": []
  },
  {
   "cell_type": "code",
   "execution_count": 15,
   "id": "6fc5fe0a",
   "metadata": {},
   "outputs": [],
   "source": [
    "a = [k for k in range(5)]"
   ]
  },
  {
   "cell_type": "code",
   "execution_count": 16,
   "id": "a9a7d514",
   "metadata": {},
   "outputs": [
    {
     "name": "stdout",
     "output_type": "stream",
     "text": [
      "[0, 1, 2, 3, 4]\n"
     ]
    }
   ],
   "source": [
    "print(a)"
   ]
  },
  {
   "cell_type": "code",
   "execution_count": null,
   "id": "60237b84",
   "metadata": {},
   "outputs": [],
   "source": []
  },
  {
   "cell_type": "code",
   "execution_count": 17,
   "id": "bc249866",
   "metadata": {},
   "outputs": [],
   "source": [
    "a = [k for k in range(5) if k % 2 == 0]"
   ]
  },
  {
   "cell_type": "code",
   "execution_count": 18,
   "id": "6f92c69c",
   "metadata": {},
   "outputs": [
    {
     "name": "stdout",
     "output_type": "stream",
     "text": [
      "[0, 2, 4]\n"
     ]
    }
   ],
   "source": [
    "print(a)"
   ]
  },
  {
   "cell_type": "code",
   "execution_count": null,
   "id": "a2a964dd",
   "metadata": {},
   "outputs": [],
   "source": []
  },
  {
   "cell_type": "code",
   "execution_count": 20,
   "id": "1bfd832c",
   "metadata": {},
   "outputs": [],
   "source": [
    "import numpy as np"
   ]
  },
  {
   "cell_type": "code",
   "execution_count": null,
   "id": "1563d563",
   "metadata": {},
   "outputs": [],
   "source": []
  },
  {
   "cell_type": "code",
   "execution_count": 21,
   "id": "60ccd026",
   "metadata": {},
   "outputs": [],
   "source": [
    "a = np.array([1, 2, 3, 4, 5, 6])"
   ]
  },
  {
   "cell_type": "code",
   "execution_count": 22,
   "id": "a288a4e2",
   "metadata": {},
   "outputs": [
    {
     "name": "stdout",
     "output_type": "stream",
     "text": [
      "[[1 2]\n",
      " [3 4]\n",
      " [5 6]]\n"
     ]
    }
   ],
   "source": [
    "print(a.reshape(3, 2))"
   ]
  },
  {
   "cell_type": "code",
   "execution_count": 23,
   "id": "8a13faf5",
   "metadata": {},
   "outputs": [
    {
     "name": "stdout",
     "output_type": "stream",
     "text": [
      "[[1 2]\n",
      " [3 4]\n",
      " [5 6]]\n"
     ]
    }
   ],
   "source": [
    "print(a.reshape(3, -1))"
   ]
  },
  {
   "cell_type": "code",
   "execution_count": 24,
   "id": "0ffa79a4",
   "metadata": {},
   "outputs": [
    {
     "name": "stdout",
     "output_type": "stream",
     "text": [
      "[[1 2]\n",
      " [3 4]\n",
      " [5 6]]\n"
     ]
    }
   ],
   "source": [
    "print(a.reshape(-1, 2))"
   ]
  },
  {
   "cell_type": "code",
   "execution_count": null,
   "id": "5a54c8e9",
   "metadata": {},
   "outputs": [],
   "source": []
  },
  {
   "cell_type": "code",
   "execution_count": 25,
   "id": "dbe0d07a",
   "metadata": {},
   "outputs": [],
   "source": [
    "a = np.array([10, 20, 30, 40, 50, 60])"
   ]
  },
  {
   "cell_type": "code",
   "execution_count": 26,
   "id": "d486d17e",
   "metadata": {},
   "outputs": [
    {
     "name": "stdout",
     "output_type": "stream",
     "text": [
      "[10 20 30 40 50 60]\n"
     ]
    }
   ],
   "source": [
    "print(a)"
   ]
  },
  {
   "cell_type": "code",
   "execution_count": 27,
   "id": "6a5627c6",
   "metadata": {},
   "outputs": [],
   "source": [
    "b = a[[4, 2, 0]]"
   ]
  },
  {
   "cell_type": "code",
   "execution_count": 28,
   "id": "3b7ae919",
   "metadata": {},
   "outputs": [
    {
     "name": "stdout",
     "output_type": "stream",
     "text": [
      "[50 30 10]\n"
     ]
    }
   ],
   "source": [
    "print(b)"
   ]
  },
  {
   "cell_type": "code",
   "execution_count": null,
   "id": "87d9c646",
   "metadata": {},
   "outputs": [],
   "source": []
  },
  {
   "cell_type": "code",
   "execution_count": 29,
   "id": "c15a62ca",
   "metadata": {},
   "outputs": [],
   "source": [
    "a = np.array([10, 20, 30, 40, 50, 60])"
   ]
  },
  {
   "cell_type": "code",
   "execution_count": 30,
   "id": "8b322285",
   "metadata": {},
   "outputs": [
    {
     "name": "stdout",
     "output_type": "stream",
     "text": [
      "[10 20 30 40 50 60]\n"
     ]
    }
   ],
   "source": [
    "print(a)"
   ]
  },
  {
   "cell_type": "code",
   "execution_count": 31,
   "id": "2a93b08c",
   "metadata": {},
   "outputs": [],
   "source": [
    "b = a[[4, 2, 0]]"
   ]
  },
  {
   "cell_type": "code",
   "execution_count": 32,
   "id": "c5fe4895",
   "metadata": {},
   "outputs": [
    {
     "name": "stdout",
     "output_type": "stream",
     "text": [
      "[50 30 10]\n"
     ]
    }
   ],
   "source": [
    "print(b)"
   ]
  },
  {
   "cell_type": "code",
   "execution_count": null,
   "id": "d1a904a6",
   "metadata": {},
   "outputs": [],
   "source": []
  },
  {
   "cell_type": "code",
   "execution_count": 36,
   "id": "a3890598",
   "metadata": {},
   "outputs": [],
   "source": [
    "idx = np.arange(0, len(a))"
   ]
  },
  {
   "cell_type": "code",
   "execution_count": 37,
   "id": "7b66c01a",
   "metadata": {},
   "outputs": [
    {
     "name": "stdout",
     "output_type": "stream",
     "text": [
      "[0 1 2 3 4 5]\n"
     ]
    }
   ],
   "source": [
    "print(idx)"
   ]
  },
  {
   "cell_type": "code",
   "execution_count": 38,
   "id": "531bc5dc",
   "metadata": {},
   "outputs": [],
   "source": [
    "np.random.shuffle(idx)"
   ]
  },
  {
   "cell_type": "code",
   "execution_count": 39,
   "id": "942b90b5",
   "metadata": {},
   "outputs": [
    {
     "name": "stdout",
     "output_type": "stream",
     "text": [
      "[3 4 1 0 5 2]\n"
     ]
    }
   ],
   "source": [
    "print(idx)"
   ]
  },
  {
   "cell_type": "code",
   "execution_count": 40,
   "id": "501b7481",
   "metadata": {},
   "outputs": [
    {
     "name": "stdout",
     "output_type": "stream",
     "text": [
      "[40 50 20 10 60 30]\n"
     ]
    }
   ],
   "source": [
    "print(a[idx])"
   ]
  },
  {
   "cell_type": "code",
   "execution_count": null,
   "id": "8490f3ae",
   "metadata": {},
   "outputs": [],
   "source": []
  }
 ],
 "metadata": {
  "kernelspec": {
   "display_name": "Python 3 (ipykernel)",
   "language": "python",
   "name": "python3"
  },
  "language_info": {
   "codemirror_mode": {
    "name": "ipython",
    "version": 3
   },
   "file_extension": ".py",
   "mimetype": "text/x-python",
   "name": "python",
   "nbconvert_exporter": "python",
   "pygments_lexer": "ipython3",
   "version": "3.9.7"
  }
 },
 "nbformat": 4,
 "nbformat_minor": 5
}

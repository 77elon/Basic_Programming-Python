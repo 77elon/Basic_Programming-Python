{
 "cells": [
  {
   "cell_type": "code",
   "execution_count": 1,
   "id": "89efbddc",
   "metadata": {},
   "outputs": [],
   "source": [
    "class Student:\n",
    "    def __init__(self, name, korean, math, english):\n",
    "        self.name = name\n",
    "        self.korean = korean\n",
    "        self.math = math\n",
    "        self.english = english\n",
    "    \n",
    "    def get_sum(self):\n",
    "        return self[\"korean\"] + self[\"math\"] + self[\"english\"]\n",
    "    \n",
    "    def get_average(self):\n",
    "        return Student.get_sum(self)/3\n",
    "    \n",
    "    def to_string(self):\n",
    "        return \"{} {} {}\" .format(self[\"name\"], Student.get_sum(self), Student.get_average(self))\n",
    "    "
   ]
  },
  {
   "cell_type": "code",
   "execution_count": 2,
   "id": "fa969bf5",
   "metadata": {},
   "outputs": [],
   "source": [
    "students = [\n",
    "    {\n",
    "        \"name\" : \"윤인성\", \"korean\" : 87, \"math\" : 90, \"english\" : 88\n",
    "    },\n",
    "    {\n",
    "        \"name\" : \"연하진\", \"korean\" : 92, \"math\" : 80, \"english\" : 78\n",
    "    },\n",
    "    {\n",
    "        \"name\" : \"구지연\", \"korean\" : 57, \"math\" : 95, \"english\" : 98\n",
    "    },\n",
    "    {\n",
    "        \"name\" : \"나선주\", \"korean\" : 81, \"math\" : 68, \"english\" : 88\n",
    "    }\n",
    "]"
   ]
  },
  {
   "cell_type": "code",
   "execution_count": 3,
   "id": "8f3eb59a",
   "metadata": {},
   "outputs": [
    {
     "data": {
      "text/plain": [
       "'윤인성'"
      ]
     },
     "execution_count": 3,
     "metadata": {},
     "output_type": "execute_result"
    }
   ],
   "source": [
    "students[0][\"name\"]"
   ]
  },
  {
   "cell_type": "code",
   "execution_count": 4,
   "id": "57cbf367",
   "metadata": {},
   "outputs": [
    {
     "data": {
      "text/plain": [
       "87"
      ]
     },
     "execution_count": 4,
     "metadata": {},
     "output_type": "execute_result"
    }
   ],
   "source": [
    "students[0][\"korean\"]"
   ]
  },
  {
   "cell_type": "code",
   "execution_count": 5,
   "id": "0738a6ed",
   "metadata": {},
   "outputs": [
    {
     "data": {
      "text/plain": [
       "90"
      ]
     },
     "execution_count": 5,
     "metadata": {},
     "output_type": "execute_result"
    }
   ],
   "source": [
    "students[0][\"math\"]"
   ]
  },
  {
   "cell_type": "code",
   "execution_count": 6,
   "id": "0e33bbe8",
   "metadata": {},
   "outputs": [
    {
     "data": {
      "text/plain": [
       "88"
      ]
     },
     "execution_count": 6,
     "metadata": {},
     "output_type": "execute_result"
    }
   ],
   "source": [
    "students[0][\"english\"]"
   ]
  },
  {
   "cell_type": "code",
   "execution_count": null,
   "id": "2ddef967",
   "metadata": {},
   "outputs": [],
   "source": []
  },
  {
   "cell_type": "code",
   "execution_count": 7,
   "id": "f92a02bd",
   "metadata": {},
   "outputs": [
    {
     "name": "stdout",
     "output_type": "stream",
     "text": [
      "윤인성\n",
      "265\n",
      "88.33333333333333\n",
      "윤인성 265 88.33333333333333\n",
      "연하진\n",
      "250\n",
      "83.33333333333333\n",
      "연하진 250 83.33333333333333\n",
      "구지연\n",
      "250\n",
      "83.33333333333333\n",
      "구지연 250 83.33333333333333\n",
      "나선주\n",
      "237\n",
      "79.0\n",
      "나선주 237 79.0\n"
     ]
    }
   ],
   "source": [
    "for object in students:\n",
    "    print(object[\"name\"])\n",
    "    print(Student.get_sum(object))\n",
    "    print(Student.get_average(object))\n",
    "    print(Student.to_string(object))"
   ]
  }
 ],
 "metadata": {
  "kernelspec": {
   "display_name": "Python 3 (ipykernel)",
   "language": "python",
   "name": "python3"
  },
  "language_info": {
   "codemirror_mode": {
    "name": "ipython",
    "version": 3
   },
   "file_extension": ".py",
   "mimetype": "text/x-python",
   "name": "python",
   "nbconvert_exporter": "python",
   "pygments_lexer": "ipython3",
   "version": "3.9.7"
  }
 },
 "nbformat": 4,
 "nbformat_minor": 5
}

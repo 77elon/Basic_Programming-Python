{
 "cells": [
  {
   "cell_type": "code",
   "execution_count": 1,
   "id": "ffb39a6a",
   "metadata": {},
   "outputs": [],
   "source": [
    "import datetime"
   ]
  },
  {
   "cell_type": "code",
   "execution_count": 2,
   "id": "ce5ee628",
   "metadata": {},
   "outputs": [],
   "source": [
    "now = datetime.datetime.now()"
   ]
  },
  {
   "cell_type": "code",
   "execution_count": 3,
   "id": "81048e07",
   "metadata": {},
   "outputs": [
    {
     "name": "stdout",
     "output_type": "stream",
     "text": [
      "2021 년\n"
     ]
    }
   ],
   "source": [
    "print(now.year, \"년\")"
   ]
  },
  {
   "cell_type": "code",
   "execution_count": 5,
   "id": "9067561a",
   "metadata": {
    "scrolled": true
   },
   "outputs": [
    {
     "name": "stdout",
     "output_type": "stream",
     "text": [
      "9 월\n"
     ]
    }
   ],
   "source": [
    "print(now.month, \"월\")"
   ]
  },
  {
   "cell_type": "code",
   "execution_count": 6,
   "id": "9e8be71d",
   "metadata": {},
   "outputs": [
    {
     "name": "stdout",
     "output_type": "stream",
     "text": [
      "13 일\n"
     ]
    }
   ],
   "source": [
    "print(now.day, \"일\")"
   ]
  },
  {
   "cell_type": "code",
   "execution_count": 7,
   "id": "d18c5175",
   "metadata": {},
   "outputs": [
    {
     "name": "stdout",
     "output_type": "stream",
     "text": [
      "19 시\n"
     ]
    }
   ],
   "source": [
    "print(now.hour, \"시\")"
   ]
  },
  {
   "cell_type": "code",
   "execution_count": 8,
   "id": "15c49bb2",
   "metadata": {},
   "outputs": [
    {
     "name": "stdout",
     "output_type": "stream",
     "text": [
      "33 분\n"
     ]
    }
   ],
   "source": [
    "print(now.minute, \"분\")"
   ]
  },
  {
   "cell_type": "code",
   "execution_count": 9,
   "id": "da094dd0",
   "metadata": {},
   "outputs": [
    {
     "name": "stdout",
     "output_type": "stream",
     "text": [
      "2 초\n"
     ]
    }
   ],
   "source": [
    "print(now.second, \"초\")"
   ]
  },
  {
   "cell_type": "code",
   "execution_count": null,
   "id": "affbf504",
   "metadata": {},
   "outputs": [],
   "source": []
  },
  {
   "cell_type": "code",
   "execution_count": 14,
   "id": "49203e03",
   "metadata": {},
   "outputs": [
    {
     "name": "stdout",
     "output_type": "stream",
     "text": [
      "2021년 9월 13일 19시 33분 2초\n"
     ]
    }
   ],
   "source": [
    "print(\"{}년 {}월 {}일 {}시 {}분 {}초\".format(now.year, now.month, now.day, now.hour, now.minute, now.second))"
   ]
  },
  {
   "cell_type": "code",
   "execution_count": null,
   "id": "135b3733",
   "metadata": {},
   "outputs": [],
   "source": []
  }
 ],
 "metadata": {
  "kernelspec": {
   "display_name": "Python 3 (ipykernel)",
   "language": "python",
   "name": "python3"
  },
  "language_info": {
   "codemirror_mode": {
    "name": "ipython",
    "version": 3
   },
   "file_extension": ".py",
   "mimetype": "text/x-python",
   "name": "python",
   "nbconvert_exporter": "python",
   "pygments_lexer": "ipython3",
   "version": "3.8.11"
  }
 },
 "nbformat": 4,
 "nbformat_minor": 5
}

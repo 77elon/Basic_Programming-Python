{
 "cells": [
  {
   "cell_type": "code",
   "execution_count": 1,
   "id": "556230f9",
   "metadata": {},
   "outputs": [],
   "source": [
    "pi = 3.141593"
   ]
  },
  {
   "cell_type": "code",
   "execution_count": 2,
   "id": "ce6de0cd",
   "metadata": {},
   "outputs": [
    {
     "data": {
      "text/plain": [
       "5.141593"
      ]
     },
     "execution_count": 2,
     "metadata": {},
     "output_type": "execute_result"
    }
   ],
   "source": [
    "pi + 2"
   ]
  },
  {
   "cell_type": "code",
   "execution_count": 3,
   "id": "590e66ec",
   "metadata": {},
   "outputs": [
    {
     "data": {
      "text/plain": [
       "9.869606577649"
      ]
     },
     "execution_count": 3,
     "metadata": {},
     "output_type": "execute_result"
    }
   ],
   "source": [
    "pi * pi"
   ]
  },
  {
   "cell_type": "code",
   "execution_count": 4,
   "id": "70c055bb",
   "metadata": {},
   "outputs": [
    {
     "ename": "TypeError",
     "evalue": "unsupported operand type(s) for +: 'float' and 'str'",
     "output_type": "error",
     "traceback": [
      "\u001b[0;31m---------------------------------------------------------------------------\u001b[0m",
      "\u001b[0;31mTypeError\u001b[0m                                 Traceback (most recent call last)",
      "\u001b[0;32m/var/folders/ry/n03c1c9162vb1zm_qbrc4qb00000gn/T/ipykernel_2350/2988974617.py\u001b[0m in \u001b[0;36m<module>\u001b[0;34m\u001b[0m\n\u001b[0;32m----> 1\u001b[0;31m \u001b[0mpi\u001b[0m \u001b[0;34m+\u001b[0m \u001b[0;34m\"String\"\u001b[0m\u001b[0;34m\u001b[0m\u001b[0;34m\u001b[0m\u001b[0m\n\u001b[0m",
      "\u001b[0;31mTypeError\u001b[0m: unsupported operand type(s) for +: 'float' and 'str'"
     ]
    }
   ],
   "source": [
    "pi + \"String\""
   ]
  },
  {
   "cell_type": "code",
   "execution_count": null,
   "id": "27c92d43",
   "metadata": {},
   "outputs": [],
   "source": []
  }
 ],
 "metadata": {
  "kernelspec": {
   "display_name": "Python 3 (ipykernel)",
   "language": "python",
   "name": "python3"
  },
  "language_info": {
   "codemirror_mode": {
    "name": "ipython",
    "version": 3
   },
   "file_extension": ".py",
   "mimetype": "text/x-python",
   "name": "python",
   "nbconvert_exporter": "python",
   "pygments_lexer": "ipython3",
   "version": "3.8.11"
  }
 },
 "nbformat": 4,
 "nbformat_minor": 5
}

{
 "cells": [
  {
   "cell_type": "code",
   "execution_count": 1,
   "id": "27482b69",
   "metadata": {},
   "outputs": [],
   "source": [
    "number = 100"
   ]
  },
  {
   "cell_type": "code",
   "execution_count": 2,
   "id": "ffca57ff",
   "metadata": {},
   "outputs": [],
   "source": [
    "number += 10"
   ]
  },
  {
   "cell_type": "code",
   "execution_count": 3,
   "id": "cbeba04b",
   "metadata": {},
   "outputs": [],
   "source": [
    "number += 20"
   ]
  },
  {
   "cell_type": "code",
   "execution_count": 4,
   "id": "eaa16505",
   "metadata": {},
   "outputs": [
    {
     "name": "stdout",
     "output_type": "stream",
     "text": [
      "number :  130\n"
     ]
    }
   ],
   "source": [
    "print(\"number : \", number)"
   ]
  },
  {
   "cell_type": "code",
   "execution_count": 7,
   "id": "9e6689c1",
   "metadata": {},
   "outputs": [],
   "source": [
    "number *= 2"
   ]
  },
  {
   "cell_type": "code",
   "execution_count": 6,
   "id": "cfe26752",
   "metadata": {},
   "outputs": [
    {
     "name": "stdout",
     "output_type": "stream",
     "text": [
      "number :  260\n"
     ]
    }
   ],
   "source": [
    "print(\"number : \", number)"
   ]
  },
  {
   "cell_type": "code",
   "execution_count": null,
   "id": "05d71809",
   "metadata": {},
   "outputs": [],
   "source": []
  },
  {
   "cell_type": "code",
   "execution_count": 8,
   "id": "ce31d49b",
   "metadata": {},
   "outputs": [],
   "source": [
    "string = \"Hello\""
   ]
  },
  {
   "cell_type": "code",
   "execution_count": 10,
   "id": "1205cb50",
   "metadata": {},
   "outputs": [],
   "source": [
    "string += \"i\""
   ]
  },
  {
   "cell_type": "code",
   "execution_count": 11,
   "id": "cba22c21",
   "metadata": {},
   "outputs": [],
   "source": [
    "string += \"i\""
   ]
  },
  {
   "cell_type": "code",
   "execution_count": 12,
   "id": "8b8dd787",
   "metadata": {},
   "outputs": [
    {
     "name": "stdout",
     "output_type": "stream",
     "text": [
      "String:  Helloii\n"
     ]
    }
   ],
   "source": [
    "print(\"String: \", string)"
   ]
  },
  {
   "cell_type": "code",
   "execution_count": 17,
   "id": "2a37545f",
   "metadata": {},
   "outputs": [],
   "source": [
    "string *= 2"
   ]
  },
  {
   "cell_type": "code",
   "execution_count": 18,
   "id": "518f3277",
   "metadata": {},
   "outputs": [
    {
     "name": "stdout",
     "output_type": "stream",
     "text": [
      "String :  HelloiiHelloii\n"
     ]
    }
   ],
   "source": [
    "print(\"String : \", string)"
   ]
  },
  {
   "cell_type": "code",
   "execution_count": null,
   "id": "f2e32e3a",
   "metadata": {},
   "outputs": [],
   "source": []
  }
 ],
 "metadata": {
  "kernelspec": {
   "display_name": "Python 3 (ipykernel)",
   "language": "python",
   "name": "python3"
  },
  "language_info": {
   "codemirror_mode": {
    "name": "ipython",
    "version": 3
   },
   "file_extension": ".py",
   "mimetype": "text/x-python",
   "name": "python",
   "nbconvert_exporter": "python",
   "pygments_lexer": "ipython3",
   "version": "3.8.11"
  }
 },
 "nbformat": 4,
 "nbformat_minor": 5
}

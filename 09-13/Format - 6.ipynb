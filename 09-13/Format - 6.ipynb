{
 "cells": [
  {
   "cell_type": "code",
   "execution_count": 1,
   "id": "65e1fd68",
   "metadata": {},
   "outputs": [],
   "source": [
    "string_a = \"{}\".format(10)"
   ]
  },
  {
   "cell_type": "code",
   "execution_count": 2,
   "id": "5d471a78",
   "metadata": {},
   "outputs": [
    {
     "name": "stdout",
     "output_type": "stream",
     "text": [
      "10\n"
     ]
    }
   ],
   "source": [
    "print(string_a)"
   ]
  },
  {
   "cell_type": "code",
   "execution_count": 3,
   "id": "ed8894f2",
   "metadata": {},
   "outputs": [
    {
     "name": "stdout",
     "output_type": "stream",
     "text": [
      "<class 'str'>\n"
     ]
    }
   ],
   "source": [
    "print(type(string_a))"
   ]
  },
  {
   "cell_type": "code",
   "execution_count": null,
   "id": "8dacc001",
   "metadata": {},
   "outputs": [],
   "source": []
  },
  {
   "cell_type": "code",
   "execution_count": 8,
   "id": "228c0311",
   "metadata": {},
   "outputs": [],
   "source": [
    "output_a = \"{:d}\".format(52)"
   ]
  },
  {
   "cell_type": "code",
   "execution_count": 9,
   "id": "7ddd48ae",
   "metadata": {},
   "outputs": [],
   "source": [
    "output_b = \"{:5d}\".format(52)"
   ]
  },
  {
   "cell_type": "code",
   "execution_count": 10,
   "id": "71effdc6",
   "metadata": {},
   "outputs": [],
   "source": [
    "output_c = \"{:10d}\".format(52)"
   ]
  },
  {
   "cell_type": "code",
   "execution_count": 11,
   "id": "39999843",
   "metadata": {},
   "outputs": [],
   "source": [
    "output_d = \"{:05d}\".format(52)"
   ]
  },
  {
   "cell_type": "code",
   "execution_count": 12,
   "id": "6c8d03f7",
   "metadata": {},
   "outputs": [],
   "source": [
    "output_e = \"{:05d}\".format(-52)"
   ]
  },
  {
   "cell_type": "code",
   "execution_count": 14,
   "id": "a75cc5f0",
   "metadata": {},
   "outputs": [
    {
     "name": "stdout",
     "output_type": "stream",
     "text": [
      "52\n"
     ]
    }
   ],
   "source": [
    "print(output_a)"
   ]
  },
  {
   "cell_type": "code",
   "execution_count": 15,
   "id": "aefbb9eb",
   "metadata": {},
   "outputs": [
    {
     "name": "stdout",
     "output_type": "stream",
     "text": [
      "   52\n"
     ]
    }
   ],
   "source": [
    "print(output_b)"
   ]
  },
  {
   "cell_type": "code",
   "execution_count": 16,
   "id": "f23a891a",
   "metadata": {},
   "outputs": [
    {
     "name": "stdout",
     "output_type": "stream",
     "text": [
      "        52\n"
     ]
    }
   ],
   "source": [
    "print(output_c)"
   ]
  },
  {
   "cell_type": "code",
   "execution_count": 17,
   "id": "b18442dc",
   "metadata": {},
   "outputs": [
    {
     "name": "stdout",
     "output_type": "stream",
     "text": [
      "-0052\n"
     ]
    }
   ],
   "source": [
    "print(output_e)"
   ]
  },
  {
   "cell_type": "code",
   "execution_count": null,
   "id": "8c903268",
   "metadata": {},
   "outputs": [],
   "source": []
  }
 ],
 "metadata": {
  "kernelspec": {
   "display_name": "Python 3 (ipykernel)",
   "language": "python",
   "name": "python3"
  },
  "language_info": {
   "codemirror_mode": {
    "name": "ipython",
    "version": 3
   },
   "file_extension": ".py",
   "mimetype": "text/x-python",
   "name": "python",
   "nbconvert_exporter": "python",
   "pygments_lexer": "ipython3",
   "version": "3.8.11"
  }
 },
 "nbformat": 4,
 "nbformat_minor": 5
}

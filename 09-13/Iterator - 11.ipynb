{
 "cells": [
  {
   "cell_type": "code",
   "execution_count": 1,
   "id": "7aab872f",
   "metadata": {},
   "outputs": [
    {
     "name": "stdout",
     "output_type": "stream",
     "text": [
      "Output\n",
      "Output\n",
      "Output\n",
      "Output\n",
      "Output\n",
      "Output\n",
      "Output\n",
      "Output\n",
      "Output\n",
      "Output\n",
      "Output\n",
      "Output\n",
      "Output\n",
      "Output\n",
      "Output\n",
      "Output\n",
      "Output\n",
      "Output\n",
      "Output\n",
      "Output\n",
      "Output\n",
      "Output\n",
      "Output\n",
      "Output\n",
      "Output\n",
      "Output\n",
      "Output\n",
      "Output\n",
      "Output\n",
      "Output\n",
      "Output\n",
      "Output\n",
      "Output\n",
      "Output\n",
      "Output\n",
      "Output\n",
      "Output\n",
      "Output\n",
      "Output\n",
      "Output\n",
      "Output\n",
      "Output\n",
      "Output\n",
      "Output\n",
      "Output\n",
      "Output\n",
      "Output\n",
      "Output\n",
      "Output\n",
      "Output\n",
      "Output\n",
      "Output\n",
      "Output\n",
      "Output\n",
      "Output\n",
      "Output\n",
      "Output\n",
      "Output\n",
      "Output\n",
      "Output\n",
      "Output\n",
      "Output\n",
      "Output\n",
      "Output\n",
      "Output\n",
      "Output\n",
      "Output\n",
      "Output\n",
      "Output\n",
      "Output\n",
      "Output\n",
      "Output\n",
      "Output\n",
      "Output\n",
      "Output\n",
      "Output\n",
      "Output\n",
      "Output\n",
      "Output\n",
      "Output\n",
      "Output\n",
      "Output\n",
      "Output\n",
      "Output\n",
      "Output\n",
      "Output\n",
      "Output\n",
      "Output\n",
      "Output\n",
      "Output\n",
      "Output\n",
      "Output\n",
      "Output\n",
      "Output\n",
      "Output\n",
      "Output\n",
      "Output\n",
      "Output\n",
      "Output\n",
      "Output\n"
     ]
    }
   ],
   "source": [
    "for _ in range (100):\n",
    "    print(\"Output\")"
   ]
  },
  {
   "cell_type": "code",
   "execution_count": 2,
   "id": "de5ea1ef",
   "metadata": {},
   "outputs": [],
   "source": [
    "array = [273, 32, 103, 57, 52]"
   ]
  },
  {
   "cell_type": "code",
   "execution_count": 3,
   "id": "9526be33",
   "metadata": {},
   "outputs": [
    {
     "name": "stdout",
     "output_type": "stream",
     "text": [
      "273\n",
      "32\n",
      "103\n",
      "57\n",
      "52\n"
     ]
    }
   ],
   "source": [
    "for element in array:\n",
    "    print(element)"
   ]
  },
  {
   "cell_type": "code",
   "execution_count": null,
   "id": "ca3d569d",
   "metadata": {},
   "outputs": [],
   "source": []
  },
  {
   "cell_type": "code",
   "execution_count": 4,
   "id": "7f14087a",
   "metadata": {},
   "outputs": [],
   "source": [
    "numbers = [273, 103, 5, 32, 65, 9, 72, 800, 90]"
   ]
  },
  {
   "cell_type": "code",
   "execution_count": 5,
   "id": "7109df9f",
   "metadata": {},
   "outputs": [
    {
     "name": "stdout",
     "output_type": "stream",
     "text": [
      "100 이상의 수 :  273\n",
      "100 이상의 수 :  103\n",
      "100 이상의 수 :  800\n"
     ]
    }
   ],
   "source": [
    "for number in numbers:\n",
    "    if number > 100:\n",
    "        print(\"100 이상의 수 : \", number)"
   ]
  },
  {
   "cell_type": "code",
   "execution_count": null,
   "id": "27cbcfd5",
   "metadata": {},
   "outputs": [],
   "source": []
  },
  {
   "cell_type": "code",
   "execution_count": 6,
   "id": "59620d83",
   "metadata": {},
   "outputs": [
    {
     "data": {
      "text/plain": [
       "[0, 1, 2, 3, 4, 5, 6, 7, 8, 9]"
      ]
     },
     "execution_count": 6,
     "metadata": {},
     "output_type": "execute_result"
    }
   ],
   "source": [
    "list(range(10))"
   ]
  },
  {
   "cell_type": "code",
   "execution_count": 7,
   "id": "f890ae35",
   "metadata": {},
   "outputs": [
    {
     "data": {
      "text/plain": [
       "[5, 6, 7, 8, 9]"
      ]
     },
     "execution_count": 7,
     "metadata": {},
     "output_type": "execute_result"
    }
   ],
   "source": [
    "list(range(5, 10))"
   ]
  },
  {
   "cell_type": "code",
   "execution_count": 8,
   "id": "6e909c28",
   "metadata": {},
   "outputs": [
    {
     "data": {
      "text/plain": [
       "[0, 3, 6, 9]"
      ]
     },
     "execution_count": 8,
     "metadata": {},
     "output_type": "execute_result"
    }
   ],
   "source": [
    "list(range(0, 10, 3))"
   ]
  },
  {
   "cell_type": "code",
   "execution_count": 9,
   "id": "ec7c2201",
   "metadata": {},
   "outputs": [],
   "source": [
    "list_removed = [1, 2, 1, 2]"
   ]
  },
  {
   "cell_type": "code",
   "execution_count": 10,
   "id": "1f5d91ec",
   "metadata": {},
   "outputs": [],
   "source": [
    "value = 2"
   ]
  },
  {
   "cell_type": "code",
   "execution_count": 11,
   "id": "cca1b314",
   "metadata": {},
   "outputs": [],
   "source": [
    "while value in list_removed:\n",
    "    list_removed.remove(value)"
   ]
  },
  {
   "cell_type": "code",
   "execution_count": 12,
   "id": "912d4452",
   "metadata": {},
   "outputs": [
    {
     "name": "stdout",
     "output_type": "stream",
     "text": [
      "[1, 1]\n"
     ]
    }
   ],
   "source": [
    "print(list_removed)"
   ]
  },
  {
   "cell_type": "code",
   "execution_count": null,
   "id": "a3a94b11",
   "metadata": {},
   "outputs": [],
   "source": []
  },
  {
   "cell_type": "code",
   "execution_count": 13,
   "id": "8dbd0b93",
   "metadata": {},
   "outputs": [],
   "source": [
    "import time"
   ]
  },
  {
   "cell_type": "code",
   "execution_count": 14,
   "id": "efa2b395",
   "metadata": {},
   "outputs": [],
   "source": [
    "number = 0"
   ]
  },
  {
   "cell_type": "code",
   "execution_count": 15,
   "id": "d2066808",
   "metadata": {},
   "outputs": [],
   "source": [
    "target_tick = time.time() + 5"
   ]
  },
  {
   "cell_type": "code",
   "execution_count": 16,
   "id": "2b812256",
   "metadata": {},
   "outputs": [],
   "source": [
    "while time.time() < target_tick:\n",
    "    number += 1"
   ]
  },
  {
   "cell_type": "code",
   "execution_count": 17,
   "id": "31d17af2",
   "metadata": {},
   "outputs": [
    {
     "name": "stdout",
     "output_type": "stream",
     "text": [
      "5초 동안 15493333번 반복했습니다.\n"
     ]
    }
   ],
   "source": [
    "print(\"5초 동안 {}번 반복했습니다.\".format(number))"
   ]
  },
  {
   "cell_type": "code",
   "execution_count": null,
   "id": "831a36a5",
   "metadata": {},
   "outputs": [],
   "source": []
  }
 ],
 "metadata": {
  "kernelspec": {
   "display_name": "Python 3 (ipykernel)",
   "language": "python",
   "name": "python3"
  },
  "language_info": {
   "codemirror_mode": {
    "name": "ipython",
    "version": 3
   },
   "file_extension": ".py",
   "mimetype": "text/x-python",
   "name": "python",
   "nbconvert_exporter": "python",
   "pygments_lexer": "ipython3",
   "version": "3.8.11"
  }
 },
 "nbformat": 4,
 "nbformat_minor": 5
}

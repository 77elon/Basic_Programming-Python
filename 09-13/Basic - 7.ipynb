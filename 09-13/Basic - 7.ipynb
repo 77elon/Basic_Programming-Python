{
 "cells": [
  {
   "cell_type": "code",
   "execution_count": 1,
   "id": "9ce4d407",
   "metadata": {},
   "outputs": [],
   "source": [
    "a = \"Hello Python\""
   ]
  },
  {
   "cell_type": "code",
   "execution_count": 2,
   "id": "56097185",
   "metadata": {},
   "outputs": [
    {
     "data": {
      "text/plain": [
       "'HELLO PYTHON'"
      ]
     },
     "execution_count": 2,
     "metadata": {},
     "output_type": "execute_result"
    }
   ],
   "source": [
    "a.upper()"
   ]
  },
  {
   "cell_type": "code",
   "execution_count": 3,
   "id": "13fdc3b5",
   "metadata": {},
   "outputs": [
    {
     "data": {
      "text/plain": [
       "'hello python'"
      ]
     },
     "execution_count": 3,
     "metadata": {},
     "output_type": "execute_result"
    }
   ],
   "source": [
    "a.lower()"
   ]
  },
  {
   "cell_type": "code",
   "execution_count": 4,
   "id": "5dfc0ebc",
   "metadata": {},
   "outputs": [
    {
     "data": {
      "text/plain": [
       "'Hello Python'"
      ]
     },
     "execution_count": 4,
     "metadata": {},
     "output_type": "execute_result"
    }
   ],
   "source": [
    "a.strip()"
   ]
  },
  {
   "cell_type": "code",
   "execution_count": 5,
   "id": "2811ce40",
   "metadata": {},
   "outputs": [
    {
     "data": {
      "text/plain": [
       "'Hello Python'"
      ]
     },
     "execution_count": 5,
     "metadata": {},
     "output_type": "execute_result"
    }
   ],
   "source": [
    "a.lstrip()"
   ]
  },
  {
   "cell_type": "code",
   "execution_count": 6,
   "id": "f9bb1f5d",
   "metadata": {},
   "outputs": [
    {
     "data": {
      "text/plain": [
       "'Hello Python'"
      ]
     },
     "execution_count": 6,
     "metadata": {},
     "output_type": "execute_result"
    }
   ],
   "source": [
    "a.rstrip()"
   ]
  },
  {
   "cell_type": "code",
   "execution_count": null,
   "id": "8c1d7b13",
   "metadata": {},
   "outputs": [],
   "source": []
  },
  {
   "cell_type": "code",
   "execution_count": 9,
   "id": "a0de59f9",
   "metadata": {},
   "outputs": [
    {
     "name": "stdout",
     "output_type": "stream",
     "text": [
      "True\n"
     ]
    }
   ],
   "source": [
    "print(\"TrainA10\".isalnum())"
   ]
  },
  {
   "cell_type": "code",
   "execution_count": 11,
   "id": "f39f9956",
   "metadata": {},
   "outputs": [
    {
     "name": "stdout",
     "output_type": "stream",
     "text": [
      "True\n"
     ]
    }
   ],
   "source": [
    "print(\"10\".isdigit())"
   ]
  },
  {
   "cell_type": "code",
   "execution_count": null,
   "id": "e15fe626",
   "metadata": {},
   "outputs": [],
   "source": [
    "# Pos"
   ]
  },
  {
   "cell_type": "code",
   "execution_count": 12,
   "id": "483b0bfb",
   "metadata": {},
   "outputs": [],
   "source": [
    "output_a = \"안녕안녕하세요\".find(\"안녕\")"
   ]
  },
  {
   "cell_type": "code",
   "execution_count": 13,
   "id": "18f721f4",
   "metadata": {},
   "outputs": [
    {
     "name": "stdout",
     "output_type": "stream",
     "text": [
      "0\n"
     ]
    }
   ],
   "source": [
    "print(output_a)"
   ]
  },
  {
   "cell_type": "code",
   "execution_count": 14,
   "id": "1ef22216",
   "metadata": {},
   "outputs": [],
   "source": [
    "output_b = \"안녕안녕하세요\".rfind(\"안녕\")"
   ]
  },
  {
   "cell_type": "code",
   "execution_count": 15,
   "id": "b17ed40b",
   "metadata": {},
   "outputs": [
    {
     "name": "stdout",
     "output_type": "stream",
     "text": [
      "2\n"
     ]
    }
   ],
   "source": [
    "print(output_b)"
   ]
  },
  {
   "cell_type": "code",
   "execution_count": 19,
   "id": "b92362ec",
   "metadata": {},
   "outputs": [],
   "source": [
    "output_c = \"안녕안녕하세요\".rfind(\"안녕하세요\")"
   ]
  },
  {
   "cell_type": "code",
   "execution_count": 20,
   "id": "c5a09bc5",
   "metadata": {},
   "outputs": [
    {
     "name": "stdout",
     "output_type": "stream",
     "text": [
      "2\n"
     ]
    }
   ],
   "source": [
    "print(output_c)"
   ]
  },
  {
   "cell_type": "code",
   "execution_count": null,
   "id": "2f2a6b23",
   "metadata": {},
   "outputs": [],
   "source": []
  }
 ],
 "metadata": {
  "kernelspec": {
   "display_name": "Python 3 (ipykernel)",
   "language": "python",
   "name": "python3"
  },
  "language_info": {
   "codemirror_mode": {
    "name": "ipython",
    "version": 3
   },
   "file_extension": ".py",
   "mimetype": "text/x-python",
   "name": "python",
   "nbconvert_exporter": "python",
   "pygments_lexer": "ipython3",
   "version": "3.8.11"
  }
 },
 "nbformat": 4,
 "nbformat_minor": 5
}

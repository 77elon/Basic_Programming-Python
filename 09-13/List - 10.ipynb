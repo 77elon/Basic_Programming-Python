{
 "cells": [
  {
   "cell_type": "code",
   "execution_count": 1,
   "id": "bfd445f4",
   "metadata": {},
   "outputs": [],
   "source": [
    "list_a = [273, 31, 103, \"문자열\", True, False]"
   ]
  },
  {
   "cell_type": "code",
   "execution_count": 2,
   "id": "7c0394f8",
   "metadata": {},
   "outputs": [
    {
     "data": {
      "text/plain": [
       "103"
      ]
     },
     "execution_count": 2,
     "metadata": {},
     "output_type": "execute_result"
    }
   ],
   "source": [
    "list_a[2]"
   ]
  },
  {
   "cell_type": "code",
   "execution_count": 3,
   "id": "05ec6ad7",
   "metadata": {},
   "outputs": [
    {
     "data": {
      "text/plain": [
       "[31, 103]"
      ]
     },
     "execution_count": 3,
     "metadata": {},
     "output_type": "execute_result"
    }
   ],
   "source": [
    "list_a[1:3]"
   ]
  },
  {
   "cell_type": "code",
   "execution_count": 4,
   "id": "3784dfed",
   "metadata": {},
   "outputs": [
    {
     "data": {
      "text/plain": [
       "'문자열'"
      ]
     },
     "execution_count": 4,
     "metadata": {},
     "output_type": "execute_result"
    }
   ],
   "source": [
    "list_a[3]"
   ]
  },
  {
   "cell_type": "code",
   "execution_count": 5,
   "id": "ead8357d",
   "metadata": {},
   "outputs": [
    {
     "data": {
      "text/plain": [
       "'문'"
      ]
     },
     "execution_count": 5,
     "metadata": {},
     "output_type": "execute_result"
    }
   ],
   "source": [
    "list_a[3][0]"
   ]
  },
  {
   "cell_type": "code",
   "execution_count": null,
   "id": "cd87584f",
   "metadata": {},
   "outputs": [],
   "source": []
  },
  {
   "cell_type": "code",
   "execution_count": 6,
   "id": "cdc22f39",
   "metadata": {},
   "outputs": [],
   "source": [
    "list_b = [[1, 2, 3], [4, 5, 6], [7, 8, 9]]"
   ]
  },
  {
   "cell_type": "code",
   "execution_count": 7,
   "id": "e4fc3245",
   "metadata": {},
   "outputs": [
    {
     "data": {
      "text/plain": [
       "[4, 5, 6]"
      ]
     },
     "execution_count": 7,
     "metadata": {},
     "output_type": "execute_result"
    }
   ],
   "source": [
    "list_b[1]"
   ]
  },
  {
   "cell_type": "code",
   "execution_count": 8,
   "id": "52074316",
   "metadata": {},
   "outputs": [
    {
     "data": {
      "text/plain": [
       "5"
      ]
     },
     "execution_count": 8,
     "metadata": {},
     "output_type": "execute_result"
    }
   ],
   "source": [
    "list_b[1][1]"
   ]
  },
  {
   "cell_type": "code",
   "execution_count": 9,
   "id": "4b3f8af1",
   "metadata": {},
   "outputs": [
    {
     "data": {
      "text/plain": [
       "1"
      ]
     },
     "execution_count": 9,
     "metadata": {},
     "output_type": "execute_result"
    }
   ],
   "source": [
    "list_b[0][0]"
   ]
  },
  {
   "cell_type": "code",
   "execution_count": 10,
   "id": "e4d7accb",
   "metadata": {},
   "outputs": [
    {
     "data": {
      "text/plain": [
       "9"
      ]
     },
     "execution_count": 10,
     "metadata": {},
     "output_type": "execute_result"
    }
   ],
   "source": [
    "list_b[2][2]"
   ]
  },
  {
   "cell_type": "code",
   "execution_count": null,
   "id": "4ae41ec0",
   "metadata": {},
   "outputs": [],
   "source": []
  },
  {
   "cell_type": "code",
   "execution_count": 11,
   "id": "d6a8c32f",
   "metadata": {},
   "outputs": [],
   "source": [
    "list_c = [1, 2, 3]"
   ]
  },
  {
   "cell_type": "code",
   "execution_count": 12,
   "id": "bec7b7e2",
   "metadata": {},
   "outputs": [],
   "source": [
    "list_d = [4, 5, 6]"
   ]
  },
  {
   "cell_type": "code",
   "execution_count": null,
   "id": "7c076fc3",
   "metadata": {},
   "outputs": [],
   "source": []
  },
  {
   "cell_type": "code",
   "execution_count": 13,
   "id": "5dc6c191",
   "metadata": {},
   "outputs": [
    {
     "name": "stdout",
     "output_type": "stream",
     "text": [
      "list_c + list_d =  [1, 2, 3, 4, 5, 6]\n"
     ]
    }
   ],
   "source": [
    "print(\"list_c + list_d = \", list_c + list_d)"
   ]
  },
  {
   "cell_type": "code",
   "execution_count": 14,
   "id": "668e2d17",
   "metadata": {},
   "outputs": [
    {
     "name": "stdout",
     "output_type": "stream",
     "text": [
      "list_c * 3 = [1, 2, 3, 1, 2, 3, 1, 2, 3]\n"
     ]
    }
   ],
   "source": [
    "print(\"list_c * 3 =\", list_c * 3)"
   ]
  },
  {
   "cell_type": "code",
   "execution_count": 15,
   "id": "79ca7850",
   "metadata": {},
   "outputs": [
    {
     "name": "stdout",
     "output_type": "stream",
     "text": [
      "len(list_c) =  3\n"
     ]
    }
   ],
   "source": [
    "print(\"len(list_c) = \", len(list_c))"
   ]
  },
  {
   "cell_type": "code",
   "execution_count": null,
   "id": "afbd2183",
   "metadata": {},
   "outputs": [],
   "source": []
  },
  {
   "cell_type": "code",
   "execution_count": 16,
   "id": "c706eb58",
   "metadata": {},
   "outputs": [],
   "source": [
    "list_e = [0, 1, 2, 3, 4, 5, 6]"
   ]
  },
  {
   "cell_type": "code",
   "execution_count": 17,
   "id": "d05e3ab1",
   "metadata": {},
   "outputs": [],
   "source": [
    "del list_e[3:6]"
   ]
  },
  {
   "cell_type": "code",
   "execution_count": 18,
   "id": "e2948e16",
   "metadata": {},
   "outputs": [
    {
     "name": "stdout",
     "output_type": "stream",
     "text": [
      "[0, 1, 2, 6]\n"
     ]
    }
   ],
   "source": [
    "print(list_e)"
   ]
  },
  {
   "cell_type": "code",
   "execution_count": 19,
   "id": "815942c5",
   "metadata": {},
   "outputs": [],
   "source": [
    "list_f = [0, 1, 2, 3, 4, 5, 6]"
   ]
  },
  {
   "cell_type": "code",
   "execution_count": 20,
   "id": "d6511ee3",
   "metadata": {},
   "outputs": [],
   "source": [
    "del list_f[3:]"
   ]
  },
  {
   "cell_type": "code",
   "execution_count": 21,
   "id": "b5338c85",
   "metadata": {},
   "outputs": [
    {
     "name": "stdout",
     "output_type": "stream",
     "text": [
      "[0, 1, 2]\n"
     ]
    }
   ],
   "source": [
    "print(list_f)"
   ]
  },
  {
   "cell_type": "code",
   "execution_count": 22,
   "id": "75a9714b",
   "metadata": {},
   "outputs": [],
   "source": [
    "list_f.clear()"
   ]
  },
  {
   "cell_type": "code",
   "execution_count": 23,
   "id": "05686bae",
   "metadata": {},
   "outputs": [
    {
     "name": "stdout",
     "output_type": "stream",
     "text": [
      "[]\n"
     ]
    }
   ],
   "source": [
    "print(list_f)"
   ]
  },
  {
   "cell_type": "code",
   "execution_count": null,
   "id": "c1d28da7",
   "metadata": {},
   "outputs": [],
   "source": []
  }
 ],
 "metadata": {
  "kernelspec": {
   "display_name": "Python 3 (ipykernel)",
   "language": "python",
   "name": "python3"
  },
  "language_info": {
   "codemirror_mode": {
    "name": "ipython",
    "version": 3
   },
   "file_extension": ".py",
   "mimetype": "text/x-python",
   "name": "python",
   "nbconvert_exporter": "python",
   "pygments_lexer": "ipython3",
   "version": "3.8.11"
  }
 },
 "nbformat": 4,
 "nbformat_minor": 5
}

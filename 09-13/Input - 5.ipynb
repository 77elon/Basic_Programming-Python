{
 "cells": [
  {
   "cell_type": "code",
   "execution_count": 1,
   "id": "45c7c441",
   "metadata": {},
   "outputs": [
    {
     "name": "stdout",
     "output_type": "stream",
     "text": [
      "Input Number >123\n"
     ]
    }
   ],
   "source": [
    "number = input(\"Input Number >\")"
   ]
  },
  {
   "cell_type": "code",
   "execution_count": 2,
   "id": "39be7bcc",
   "metadata": {},
   "outputs": [
    {
     "name": "stdout",
     "output_type": "stream",
     "text": [
      "123\n"
     ]
    }
   ],
   "source": [
    "print(number)"
   ]
  },
  {
   "cell_type": "code",
   "execution_count": 3,
   "id": "bb1ebe6a",
   "metadata": {},
   "outputs": [
    {
     "name": "stdout",
     "output_type": "stream",
     "text": [
      "input A >1\n"
     ]
    }
   ],
   "source": [
    "string_a = input(\"input A > \")"
   ]
  },
  {
   "cell_type": "code",
   "execution_count": 4,
   "id": "0d91f2df",
   "metadata": {},
   "outputs": [],
   "source": [
    "int_a = int(string_a)"
   ]
  },
  {
   "cell_type": "code",
   "execution_count": 9,
   "id": "25ade525",
   "metadata": {},
   "outputs": [
    {
     "name": "stdout",
     "output_type": "stream",
     "text": [
      "input B >2\n"
     ]
    }
   ],
   "source": [
    "string_b = input(\"input B > \")"
   ]
  },
  {
   "cell_type": "code",
   "execution_count": 10,
   "id": "3dcb6994",
   "metadata": {},
   "outputs": [],
   "source": [
    "int_b = int(string_b)"
   ]
  },
  {
   "cell_type": "code",
   "execution_count": 11,
   "id": "ff3bc860",
   "metadata": {},
   "outputs": [
    {
     "name": "stdout",
     "output_type": "stream",
     "text": [
      "char :  12\n"
     ]
    }
   ],
   "source": [
    "print(\"char : \", string_a + string_b)"
   ]
  },
  {
   "cell_type": "code",
   "execution_count": 12,
   "id": "1b2198bf",
   "metadata": {},
   "outputs": [
    {
     "name": "stdout",
     "output_type": "stream",
     "text": [
      "Number:  3\n"
     ]
    }
   ],
   "source": [
    "print(\"Number: \", int_a + int_b)"
   ]
  },
  {
   "cell_type": "code",
   "execution_count": null,
   "id": "eced707c",
   "metadata": {},
   "outputs": [],
   "source": []
  }
 ],
 "metadata": {
  "kernelspec": {
   "display_name": "Python 3 (ipykernel)",
   "language": "python",
   "name": "python3"
  },
  "language_info": {
   "codemirror_mode": {
    "name": "ipython",
    "version": 3
   },
   "file_extension": ".py",
   "mimetype": "text/x-python",
   "name": "python",
   "nbconvert_exporter": "python",
   "pygments_lexer": "ipython3",
   "version": "3.8.11"
  }
 },
 "nbformat": 4,
 "nbformat_minor": 5
}

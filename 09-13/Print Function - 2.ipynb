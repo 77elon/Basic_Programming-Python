{
 "cells": [
  {
   "cell_type": "code",
   "execution_count": 1,
   "id": "8bce9b4b",
   "metadata": {},
   "outputs": [
    {
     "name": "stdout",
     "output_type": "stream",
     "text": [
      "5 / 7 = 0.7142857142857143\n"
     ]
    }
   ],
   "source": [
    "print(\"5 / 7 =\", 5/7)"
   ]
  },
  {
   "cell_type": "code",
   "execution_count": 2,
   "id": "1ee01b14",
   "metadata": {},
   "outputs": [
    {
     "name": "stdout",
     "output_type": "stream",
     "text": [
      "5 % 2 =  1\n"
     ]
    }
   ],
   "source": [
    "print(\"5 % 2 = \", 5 % 2)"
   ]
  },
  {
   "cell_type": "code",
   "execution_count": 3,
   "id": "aec320c7",
   "metadata": {},
   "outputs": [
    {
     "name": "stdout",
     "output_type": "stream",
     "text": [
      "3**2 9\n"
     ]
    }
   ],
   "source": [
    "print(\"3**2 = \", 3**2)"
   ]
  },
  {
   "cell_type": "code",
   "execution_count": 4,
   "id": "a40badc9",
   "metadata": {},
   "outputs": [
    {
     "name": "stdout",
     "output_type": "stream",
     "text": [
      "11\n"
     ]
    }
   ],
   "source": [
    "print(5 + 3 * 2)"
   ]
  },
  {
   "cell_type": "code",
   "execution_count": 5,
   "id": "882da09a",
   "metadata": {},
   "outputs": [
    {
     "name": "stdout",
     "output_type": "stream",
     "text": [
      "16\n"
     ]
    }
   ],
   "source": [
    "print((5 + 3) * 2)"
   ]
  },
  {
   "cell_type": "code",
   "execution_count": null,
   "id": "165a9515",
   "metadata": {},
   "outputs": [],
   "source": []
  }
 ],
 "metadata": {
  "kernelspec": {
   "display_name": "Python 3 (ipykernel)",
   "language": "python",
   "name": "python3"
  },
  "language_info": {
   "codemirror_mode": {
    "name": "ipython",
    "version": 3
   },
   "file_extension": ".py",
   "mimetype": "text/x-python",
   "name": "python",
   "nbconvert_exporter": "python",
   "pygments_lexer": "ipython3",
   "version": "3.8.11"
  }
 },
 "nbformat": 4,
 "nbformat_minor": 5
}

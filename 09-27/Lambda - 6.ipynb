{
 "cells": [
  {
   "cell_type": "code",
   "execution_count": 1,
   "id": "a6e17c62",
   "metadata": {},
   "outputs": [],
   "source": [
    "def call_10_times(func):\n",
    "    for i in range(10):\n",
    "        func()"
   ]
  },
  {
   "cell_type": "code",
   "execution_count": 2,
   "id": "f9955937",
   "metadata": {},
   "outputs": [],
   "source": [
    "def print_hello():\n",
    "    print(\"Hello\")"
   ]
  },
  {
   "cell_type": "code",
   "execution_count": 3,
   "id": "53a5891f",
   "metadata": {},
   "outputs": [
    {
     "name": "stdout",
     "output_type": "stream",
     "text": [
      "Hello\n",
      "Hello\n",
      "Hello\n",
      "Hello\n",
      "Hello\n",
      "Hello\n",
      "Hello\n",
      "Hello\n",
      "Hello\n",
      "Hello\n"
     ]
    }
   ],
   "source": [
    "call_10_times(print_hello)"
   ]
  },
  {
   "cell_type": "code",
   "execution_count": 4,
   "id": "2d5ec096",
   "metadata": {},
   "outputs": [],
   "source": [
    "def power(item):\n",
    "    return item * item"
   ]
  },
  {
   "cell_type": "code",
   "execution_count": 5,
   "id": "d50cbbbb",
   "metadata": {},
   "outputs": [],
   "source": [
    "def under_3(item):\n",
    "    return item < 3"
   ]
  },
  {
   "cell_type": "code",
   "execution_count": 6,
   "id": "08acb543",
   "metadata": {},
   "outputs": [],
   "source": [
    "list_input_a = [1, 2, 3, 4, 5]"
   ]
  },
  {
   "cell_type": "code",
   "execution_count": 7,
   "id": "2ab7313f",
   "metadata": {},
   "outputs": [],
   "source": [
    "output_a = map(power, list_input_a)"
   ]
  },
  {
   "cell_type": "code",
   "execution_count": 8,
   "id": "74c54003",
   "metadata": {},
   "outputs": [
    {
     "name": "stdout",
     "output_type": "stream",
     "text": [
      "map(power, list_input_a) <map object at 0x00000182BFB73280>\n"
     ]
    }
   ],
   "source": [
    "print(\"map(power, list_input_a)\", output_a)"
   ]
  },
  {
   "cell_type": "code",
   "execution_count": 9,
   "id": "02252f49",
   "metadata": {},
   "outputs": [
    {
     "name": "stdout",
     "output_type": "stream",
     "text": [
      "map(power, list_input_a):  [1, 4, 9, 16, 25]\n"
     ]
    }
   ],
   "source": [
    "print(\"map(power, list_input_a): \", list(output_a))"
   ]
  },
  {
   "cell_type": "code",
   "execution_count": 10,
   "id": "7d123bea",
   "metadata": {},
   "outputs": [],
   "source": [
    "output_b = filter(under_3, list_input_a)"
   ]
  },
  {
   "cell_type": "code",
   "execution_count": 11,
   "id": "3493ddd0",
   "metadata": {},
   "outputs": [
    {
     "name": "stdout",
     "output_type": "stream",
     "text": [
      "filter(under_3, list_power_a) <filter object at 0x00000182BFB358B0>\n"
     ]
    }
   ],
   "source": [
    "print(\"filter(under_3, list_power_a)\", output_b)"
   ]
  },
  {
   "cell_type": "code",
   "execution_count": 12,
   "id": "23cb2f12",
   "metadata": {},
   "outputs": [
    {
     "name": "stdout",
     "output_type": "stream",
     "text": [
      "filter(under_3, list_power_a) [1, 2]\n"
     ]
    }
   ],
   "source": [
    "print(\"filter(under_3, list_power_a)\", list(output_b))"
   ]
  },
  {
   "cell_type": "code",
   "execution_count": null,
   "id": "e44ea17e",
   "metadata": {},
   "outputs": [],
   "source": []
  },
  {
   "cell_type": "code",
   "execution_count": 14,
   "id": "37e00514",
   "metadata": {},
   "outputs": [],
   "source": [
    "power_lambda = lambda x: x * x"
   ]
  },
  {
   "cell_type": "code",
   "execution_count": 15,
   "id": "021f7c08",
   "metadata": {},
   "outputs": [],
   "source": [
    "under_3_lambda = lambda x: x<3"
   ]
  },
  {
   "cell_type": "code",
   "execution_count": 17,
   "id": "aee6ccb7",
   "metadata": {},
   "outputs": [],
   "source": [
    "list_input_a_lambda = [1, 2, 3, 4, 5]"
   ]
  },
  {
   "cell_type": "code",
   "execution_count": 20,
   "id": "d627235d",
   "metadata": {},
   "outputs": [],
   "source": [
    "output_a_lambda = map(power_lambda, list_input_a_lambda)"
   ]
  },
  {
   "cell_type": "code",
   "execution_count": 22,
   "id": "1d4d8259",
   "metadata": {},
   "outputs": [
    {
     "name": "stdout",
     "output_type": "stream",
     "text": [
      "map(power_lambda, list_input_a_lambda): <map object at 0x00000182C0C3A700>\n"
     ]
    }
   ],
   "source": [
    "print(\"map(power_lambda, list_input_a_lambda):\", output_a_lambda)"
   ]
  },
  {
   "cell_type": "code",
   "execution_count": 24,
   "id": "b17d541f",
   "metadata": {},
   "outputs": [
    {
     "name": "stdout",
     "output_type": "stream",
     "text": [
      "map(power_lambda, list_input_a_lambda): [1, 4, 9, 16, 25]\n"
     ]
    }
   ],
   "source": [
    "print(\"map(power_lambda, list_input_a_lambda):\", list(output_a_lambda))"
   ]
  },
  {
   "cell_type": "code",
   "execution_count": 25,
   "id": "6211bfa3",
   "metadata": {},
   "outputs": [],
   "source": [
    "output_b_lambda = filter(under_3_lambda, list_input_a_lambda)"
   ]
  },
  {
   "cell_type": "code",
   "execution_count": 26,
   "id": "9ae20fe5",
   "metadata": {},
   "outputs": [
    {
     "name": "stdout",
     "output_type": "stream",
     "text": [
      "filter(under_3_lambda, list_input_a_lambda):  <filter object at 0x00000182C1449220>\n"
     ]
    }
   ],
   "source": [
    "print(\"filter(under_3_lambda, list_input_a_lambda): \", output_b_lambda)"
   ]
  },
  {
   "cell_type": "code",
   "execution_count": 27,
   "id": "473be3fa",
   "metadata": {},
   "outputs": [
    {
     "name": "stdout",
     "output_type": "stream",
     "text": [
      "filter(unter_3_lambda, list_input_a_lambda):  [1, 2]\n"
     ]
    }
   ],
   "source": [
    "print(\"filter(unter_3_lambda, list_input_a_lambda): \", list(output_b_lambda))"
   ]
  },
  {
   "cell_type": "code",
   "execution_count": null,
   "id": "cc961cf6",
   "metadata": {},
   "outputs": [],
   "source": []
  },
  {
   "cell_type": "code",
   "execution_count": null,
   "id": "c0ab8642",
   "metadata": {},
   "outputs": [],
   "source": []
  },
  {
   "cell_type": "code",
   "execution_count": null,
   "id": "04fe775d",
   "metadata": {},
   "outputs": [],
   "source": []
  },
  {
   "cell_type": "code",
   "execution_count": null,
   "id": "bf87944a",
   "metadata": {},
   "outputs": [],
   "source": []
  },
  {
   "cell_type": "code",
   "execution_count": null,
   "id": "62802577",
   "metadata": {},
   "outputs": [],
   "source": []
  },
  {
   "cell_type": "code",
   "execution_count": null,
   "id": "fb911e1b",
   "metadata": {},
   "outputs": [],
   "source": []
  }
 ],
 "metadata": {
  "kernelspec": {
   "display_name": "Python 3",
   "language": "python",
   "name": "python3"
  },
  "language_info": {
   "codemirror_mode": {
    "name": "ipython",
    "version": 3
   },
   "file_extension": ".py",
   "mimetype": "text/x-python",
   "name": "python",
   "nbconvert_exporter": "python",
   "pygments_lexer": "ipython3",
   "version": "3.8.8"
  }
 },
 "nbformat": 4,
 "nbformat_minor": 5
}

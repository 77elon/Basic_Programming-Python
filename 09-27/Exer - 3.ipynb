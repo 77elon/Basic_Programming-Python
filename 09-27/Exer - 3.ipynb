{
 "cells": [
  {
   "cell_type": "code",
   "execution_count": 1,
   "id": "b1f3f616",
   "metadata": {},
   "outputs": [],
   "source": [
    "key_list = [\"name\", \"hp\", \"mp\", \"level\"]"
   ]
  },
  {
   "cell_type": "code",
   "execution_count": 2,
   "id": "1b16f9bf",
   "metadata": {},
   "outputs": [],
   "source": [
    "value_list = [\"기사\", 200, 30, 5]"
   ]
  },
  {
   "cell_type": "code",
   "execution_count": 3,
   "id": "a4679454",
   "metadata": {},
   "outputs": [],
   "source": [
    "character = {}"
   ]
  },
  {
   "cell_type": "code",
   "execution_count": 4,
   "id": "973ed96c",
   "metadata": {},
   "outputs": [],
   "source": [
    "for i in range(0, len(key_list)):\n",
    "    character[key_list[i]] = value_list[i]"
   ]
  },
  {
   "cell_type": "code",
   "execution_count": 5,
   "id": "64cf8f9b",
   "metadata": {},
   "outputs": [
    {
     "name": "stdout",
     "output_type": "stream",
     "text": [
      "{'name': '기사', 'hp': 200, 'mp': 30, 'level': 5}\n"
     ]
    }
   ],
   "source": [
    "print(character)"
   ]
  },
  {
   "cell_type": "code",
   "execution_count": null,
   "id": "027bf05a",
   "metadata": {},
   "outputs": [],
   "source": []
  },
  {
   "cell_type": "code",
   "execution_count": 6,
   "id": "87ec5fee",
   "metadata": {},
   "outputs": [],
   "source": [
    "max_value = 0"
   ]
  },
  {
   "cell_type": "code",
   "execution_count": 7,
   "id": "11854b07",
   "metadata": {},
   "outputs": [],
   "source": [
    "a = 0"
   ]
  },
  {
   "cell_type": "code",
   "execution_count": 8,
   "id": "2f39022f",
   "metadata": {},
   "outputs": [],
   "source": [
    "b = 0"
   ]
  },
  {
   "cell_type": "code",
   "execution_count": 9,
   "id": "b7db1a37",
   "metadata": {},
   "outputs": [],
   "source": [
    "for i in range(51):\n",
    "    j = 100 - i\n",
    "    if max_value < i * j:\n",
    "        max_value = i * j\n",
    "        a = i\n",
    "        b = j\n"
   ]
  },
  {
   "cell_type": "code",
   "execution_count": 10,
   "id": "42d79bab",
   "metadata": {},
   "outputs": [
    {
     "name": "stdout",
     "output_type": "stream",
     "text": [
      "Maximum Result: 50x50 = 2500\n"
     ]
    }
   ],
   "source": [
    "print(\"Maximum Result: {}x{} = {}\".format(a, b, max_value))"
   ]
  },
  {
   "cell_type": "code",
   "execution_count": null,
   "id": "0c08ba83",
   "metadata": {},
   "outputs": [],
   "source": []
  },
  {
   "cell_type": "code",
   "execution_count": null,
   "id": "10cbb678",
   "metadata": {},
   "outputs": [],
   "source": []
  },
  {
   "cell_type": "code",
   "execution_count": null,
   "id": "f00a7c16",
   "metadata": {},
   "outputs": [],
   "source": []
  }
 ],
 "metadata": {
  "kernelspec": {
   "display_name": "Python 3",
   "language": "python",
   "name": "python3"
  },
  "language_info": {
   "codemirror_mode": {
    "name": "ipython",
    "version": 3
   },
   "file_extension": ".py",
   "mimetype": "text/x-python",
   "name": "python",
   "nbconvert_exporter": "python",
   "pygments_lexer": "ipython3",
   "version": "3.8.8"
  }
 },
 "nbformat": 4,
 "nbformat_minor": 5
}

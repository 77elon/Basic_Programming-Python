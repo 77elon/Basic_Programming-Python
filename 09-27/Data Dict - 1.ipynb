{
 "cells": [
  {
   "cell_type": "code",
   "execution_count": 1,
   "id": "5ff0bcdd",
   "metadata": {},
   "outputs": [],
   "source": [
    "dict_b = {\n",
    "    \"director\" : [\"안소니 루소\", \"조 루소\"], \n",
    "    \"cast\" : [\"아이언맨\", \"타노스\", \"닥터스트레인지\", \"헐크\"]\n",
    "}"
   ]
  },
  {
   "cell_type": "code",
   "execution_count": 2,
   "id": "db0475fd",
   "metadata": {},
   "outputs": [
    {
     "data": {
      "text/plain": [
       "{'director': ['안소니 루소', '조 루소'], 'cast': ['아이언맨', '타노스', '닥터스트레인지', '헐크']}"
      ]
     },
     "execution_count": 2,
     "metadata": {},
     "output_type": "execute_result"
    }
   ],
   "source": [
    "dict_b"
   ]
  },
  {
   "cell_type": "code",
   "execution_count": 3,
   "id": "e8da0a93",
   "metadata": {
    "scrolled": true
   },
   "outputs": [
    {
     "data": {
      "text/plain": [
       "['안소니 루소', '조 루소']"
      ]
     },
     "execution_count": 3,
     "metadata": {},
     "output_type": "execute_result"
    }
   ],
   "source": [
    "dict_b[\"director\"]"
   ]
  },
  {
   "cell_type": "code",
   "execution_count": null,
   "id": "2f64c9ec",
   "metadata": {},
   "outputs": [],
   "source": []
  },
  {
   "cell_type": "code",
   "execution_count": 4,
   "id": "7d636e47",
   "metadata": {},
   "outputs": [],
   "source": [
    "dictionary = {\n",
    "    \"name\" :\"7D건조망고\", \n",
    "    \"type\" : \"당절임\", \n",
    "    \"ingredient\" : [\"망고\", \"설탕\", \"나트륨\", \"황색소\"],\n",
    "    \"origin\" : \"필리핀\"\n",
    "}"
   ]
  },
  {
   "cell_type": "code",
   "execution_count": 5,
   "id": "26e1d4f8",
   "metadata": {},
   "outputs": [
    {
     "name": "stdout",
     "output_type": "stream",
     "text": [
      "name :  7D건조망고\n"
     ]
    }
   ],
   "source": [
    "print(\"name : \", dictionary[\"name\"])"
   ]
  },
  {
   "cell_type": "code",
   "execution_count": 6,
   "id": "3772193a",
   "metadata": {},
   "outputs": [
    {
     "name": "stdout",
     "output_type": "stream",
     "text": [
      "name :  ['망고', '설탕', '나트륨', '황색소']\n"
     ]
    }
   ],
   "source": [
    "print(\"name : \", dictionary[\"ingredient\"])"
   ]
  },
  {
   "cell_type": "code",
   "execution_count": 7,
   "id": "8fddd4cc",
   "metadata": {},
   "outputs": [],
   "source": [
    "dictionary[\"name\"] = \"8D건조망고\""
   ]
  },
  {
   "cell_type": "code",
   "execution_count": 8,
   "id": "a7a612a5",
   "metadata": {},
   "outputs": [],
   "source": [
    "dictionary[\"price\"] = 5000"
   ]
  },
  {
   "cell_type": "code",
   "execution_count": 9,
   "id": "343060fe",
   "metadata": {
    "scrolled": true
   },
   "outputs": [
    {
     "data": {
      "text/plain": [
       "{'name': '8D건조망고',\n",
       " 'type': '당절임',\n",
       " 'ingredient': ['망고', '설탕', '나트륨', '황색소'],\n",
       " 'origin': '필리핀',\n",
       " 'price': 5000}"
      ]
     },
     "execution_count": 9,
     "metadata": {},
     "output_type": "execute_result"
    }
   ],
   "source": [
    "dictionary"
   ]
  },
  {
   "cell_type": "code",
   "execution_count": null,
   "id": "3ff254fb",
   "metadata": {},
   "outputs": [],
   "source": []
  },
  {
   "cell_type": "code",
   "execution_count": 10,
   "id": "1a10ee25",
   "metadata": {},
   "outputs": [],
   "source": [
    "dictionary_1 = {\n",
    "    \"name\" :\"7D건조망고\", \n",
    "    \"type\" : \"당절임\", \n",
    "    \"ingredient\" : [\"망고\", \"설탕\", \"나트륨\", \"황색소\"],\n",
    "    \"origin\" : \"필리핀\"\n",
    "}"
   ]
  },
  {
   "cell_type": "code",
   "execution_count": 11,
   "id": "9346955c",
   "metadata": {},
   "outputs": [
    {
     "name": "stdout",
     "output_type": "stream",
     "text": [
      "접근하고자 하는 키 >>name\n"
     ]
    }
   ],
   "source": [
    "key = input(\"접근하고자 하는 키 >>\")"
   ]
  },
  {
   "cell_type": "code",
   "execution_count": 12,
   "id": "ea612d89",
   "metadata": {},
   "outputs": [
    {
     "name": "stdout",
     "output_type": "stream",
     "text": [
      "7D건조망고\n"
     ]
    }
   ],
   "source": [
    "if key in dictionary_1:\n",
    "    print(dictionary_1[key])\n",
    "else:\n",
    "    print(\"존재하지 않는 키\")"
   ]
  },
  {
   "cell_type": "code",
   "execution_count": 13,
   "id": "13467ff8",
   "metadata": {},
   "outputs": [
    {
     "name": "stdout",
     "output_type": "stream",
     "text": [
      "name : 7D건조망고\n",
      "type : 당절임\n",
      "ingredient : ['망고', '설탕', '나트륨', '황색소']\n",
      "origin : 필리핀\n"
     ]
    }
   ],
   "source": [
    "for key in dictionary_1:\n",
    "    print(key, \":\", dictionary_1[key])"
   ]
  },
  {
   "cell_type": "code",
   "execution_count": null,
   "id": "9b9b3a73",
   "metadata": {},
   "outputs": [],
   "source": []
  }
 ],
 "metadata": {
  "kernelspec": {
   "display_name": "Python 3",
   "language": "python",
   "name": "python3"
  },
  "language_info": {
   "codemirror_mode": {
    "name": "ipython",
    "version": 3
   },
   "file_extension": ".py",
   "mimetype": "text/x-python",
   "name": "python",
   "nbconvert_exporter": "python",
   "pygments_lexer": "ipython3",
   "version": "3.8.8"
  }
 },
 "nbformat": 4,
 "nbformat_minor": 5
}

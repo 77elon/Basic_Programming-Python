{
 "cells": [
  {
   "cell_type": "code",
   "execution_count": 1,
   "id": "3b5a6d7b",
   "metadata": {},
   "outputs": [],
   "source": [
    "def print_3times():\n",
    "    print(\"Hello\")\n",
    "    print(\"Hello\")\n",
    "    print(\"Hello\")\n"
   ]
  },
  {
   "cell_type": "code",
   "execution_count": 2,
   "id": "a2c309d3",
   "metadata": {},
   "outputs": [
    {
     "name": "stdout",
     "output_type": "stream",
     "text": [
      "Hello\n",
      "Hello\n",
      "Hello\n"
     ]
    }
   ],
   "source": [
    "print_3times()"
   ]
  },
  {
   "cell_type": "code",
   "execution_count": 3,
   "id": "cc4c54b9",
   "metadata": {},
   "outputs": [],
   "source": [
    "def print_multiple_times(output, times):\n",
    "    for i in range(times):\n",
    "        print(output)"
   ]
  },
  {
   "cell_type": "code",
   "execution_count": 4,
   "id": "27f42313",
   "metadata": {},
   "outputs": [
    {
     "name": "stdout",
     "output_type": "stream",
     "text": [
      "Hello\n",
      "Hello\n",
      "Hello\n"
     ]
    }
   ],
   "source": [
    "print_multiple_times(\"Hello\", 3)"
   ]
  },
  {
   "cell_type": "code",
   "execution_count": null,
   "id": "7fc639aa",
   "metadata": {},
   "outputs": [],
   "source": []
  },
  {
   "cell_type": "code",
   "execution_count": 5,
   "id": "c4b5eb42",
   "metadata": {},
   "outputs": [],
   "source": [
    "def dy_arg_print(times, *output):\n",
    "    for i in range(times):\n",
    "        for n in output:\n",
    "            print(n)\n",
    "        print()"
   ]
  },
  {
   "cell_type": "code",
   "execution_count": 6,
   "id": "7fe4e2be",
   "metadata": {
    "scrolled": true
   },
   "outputs": [
    {
     "name": "stdout",
     "output_type": "stream",
     "text": [
      "Hello\n",
      "Happy\n",
      "Python\n",
      "\n",
      "Hello\n",
      "Happy\n",
      "Python\n",
      "\n",
      "Hello\n",
      "Happy\n",
      "Python\n",
      "\n"
     ]
    }
   ],
   "source": [
    "dy_arg_print(3, \"Hello\", \"Happy\", \"Python\")"
   ]
  },
  {
   "cell_type": "code",
   "execution_count": null,
   "id": "79b1222b",
   "metadata": {},
   "outputs": [],
   "source": []
  },
  {
   "cell_type": "code",
   "execution_count": 7,
   "id": "b5cf0bf1",
   "metadata": {},
   "outputs": [],
   "source": [
    "def pre_print_times(output, times = 2):\n",
    "    for i in range(times):\n",
    "        print(output)"
   ]
  },
  {
   "cell_type": "code",
   "execution_count": 8,
   "id": "707cdf97",
   "metadata": {},
   "outputs": [
    {
     "name": "stdout",
     "output_type": "stream",
     "text": [
      "Happy\n",
      "Happy\n"
     ]
    }
   ],
   "source": [
    "pre_print_times(\"Happy\")"
   ]
  },
  {
   "cell_type": "code",
   "execution_count": null,
   "id": "e3053067",
   "metadata": {},
   "outputs": [],
   "source": []
  },
  {
   "cell_type": "code",
   "execution_count": 9,
   "id": "a0014f40",
   "metadata": {},
   "outputs": [],
   "source": [
    "def test(a, b=10, c=100):\n",
    "    print(a + b + c)"
   ]
  },
  {
   "cell_type": "code",
   "execution_count": 10,
   "id": "cbfe07d6",
   "metadata": {},
   "outputs": [
    {
     "name": "stdout",
     "output_type": "stream",
     "text": [
      "60\n"
     ]
    }
   ],
   "source": [
    "test(10, 20, 30)"
   ]
  },
  {
   "cell_type": "code",
   "execution_count": 11,
   "id": "aaabbe77",
   "metadata": {},
   "outputs": [
    {
     "name": "stdout",
     "output_type": "stream",
     "text": [
      "230\n"
     ]
    }
   ],
   "source": [
    "test(a=10, b=20, c=200)"
   ]
  },
  {
   "cell_type": "code",
   "execution_count": 12,
   "id": "87c4450d",
   "metadata": {},
   "outputs": [
    {
     "name": "stdout",
     "output_type": "stream",
     "text": [
      "220\n"
     ]
    }
   ],
   "source": [
    "test(10, c=200)"
   ]
  },
  {
   "cell_type": "code",
   "execution_count": null,
   "id": "474ea056",
   "metadata": {},
   "outputs": [],
   "source": []
  },
  {
   "cell_type": "code",
   "execution_count": 13,
   "id": "43d22035",
   "metadata": {},
   "outputs": [],
   "source": [
    "def return_test():\n",
    "    print(\"A position\")\n",
    "    return\n",
    "    print(\"B position\")"
   ]
  },
  {
   "cell_type": "code",
   "execution_count": 14,
   "id": "d1a52219",
   "metadata": {},
   "outputs": [
    {
     "name": "stdout",
     "output_type": "stream",
     "text": [
      "A position\n"
     ]
    }
   ],
   "source": [
    "return_test()"
   ]
  },
  {
   "cell_type": "code",
   "execution_count": null,
   "id": "536a7399",
   "metadata": {},
   "outputs": [],
   "source": []
  },
  {
   "cell_type": "code",
   "execution_count": 15,
   "id": "9ab5c979",
   "metadata": {},
   "outputs": [],
   "source": [
    "def return_test_with_data():\n",
    "    return 100"
   ]
  },
  {
   "cell_type": "code",
   "execution_count": 16,
   "id": "66a77643",
   "metadata": {},
   "outputs": [],
   "source": [
    "value = return_test_with_data()"
   ]
  },
  {
   "cell_type": "code",
   "execution_count": 17,
   "id": "a4fdcf58",
   "metadata": {},
   "outputs": [
    {
     "name": "stdout",
     "output_type": "stream",
     "text": [
      "100\n"
     ]
    }
   ],
   "source": [
    "print(value)"
   ]
  },
  {
   "cell_type": "code",
   "execution_count": null,
   "id": "0f58c937",
   "metadata": {},
   "outputs": [],
   "source": []
  },
  {
   "cell_type": "code",
   "execution_count": 18,
   "id": "d1e86938",
   "metadata": {},
   "outputs": [],
   "source": [
    "def sum_all(start, end):\n",
    "    output = 0\n",
    "    for i in range(start, end + 1):\n",
    "        output += i\n",
    "    return output"
   ]
  },
  {
   "cell_type": "code",
   "execution_count": null,
   "id": "7bdad405",
   "metadata": {},
   "outputs": [],
   "source": []
  },
  {
   "cell_type": "code",
   "execution_count": 19,
   "id": "227f1cc3",
   "metadata": {},
   "outputs": [
    {
     "name": "stdout",
     "output_type": "stream",
     "text": [
      "0 to 100:  5050\n"
     ]
    }
   ],
   "source": [
    "print(\"0 to 100: \", sum_all(0, 100))"
   ]
  },
  {
   "cell_type": "code",
   "execution_count": 20,
   "id": "b4757447",
   "metadata": {},
   "outputs": [
    {
     "name": "stdout",
     "output_type": "stream",
     "text": [
      "50 to 100:  3825\n"
     ]
    }
   ],
   "source": [
    "print(\"50 to 100: \", sum_all(50, 100))"
   ]
  },
  {
   "cell_type": "code",
   "execution_count": null,
   "id": "a44daa66",
   "metadata": {},
   "outputs": [],
   "source": []
  },
  {
   "cell_type": "code",
   "execution_count": 21,
   "id": "d82e2576",
   "metadata": {},
   "outputs": [],
   "source": [
    "def sum_all_with_step(start = 0, end = 100, step = 1):\n",
    "    output = 0\n",
    "    for i in range(start, end+1, step):\n",
    "        output += i\n",
    "    return output"
   ]
  },
  {
   "cell_type": "code",
   "execution_count": 22,
   "id": "bb358ead",
   "metadata": {},
   "outputs": [
    {
     "name": "stdout",
     "output_type": "stream",
     "text": [
      "A:  550\n"
     ]
    }
   ],
   "source": [
    "print(\"A: \", sum_all_with_step(0, 100, 10))"
   ]
  },
  {
   "cell_type": "code",
   "execution_count": 23,
   "id": "5734f7aa",
   "metadata": {},
   "outputs": [
    {
     "name": "stdout",
     "output_type": "stream",
     "text": [
      "B:  5050\n"
     ]
    }
   ],
   "source": [
    "print(\"B: \", sum_all_with_step(end = 100))"
   ]
  },
  {
   "cell_type": "code",
   "execution_count": 24,
   "id": "231834d3",
   "metadata": {},
   "outputs": [
    {
     "name": "stdout",
     "output_type": "stream",
     "text": [
      "C:  2550\n"
     ]
    }
   ],
   "source": [
    "print(\"C: \", sum_all_with_step(end = 100, step = 2))"
   ]
  },
  {
   "cell_type": "code",
   "execution_count": null,
   "id": "62f3fc09",
   "metadata": {},
   "outputs": [],
   "source": []
  },
  {
   "cell_type": "code",
   "execution_count": null,
   "id": "a7976268",
   "metadata": {},
   "outputs": [],
   "source": []
  }
 ],
 "metadata": {
  "kernelspec": {
   "display_name": "Python 3",
   "language": "python",
   "name": "python3"
  },
  "language_info": {
   "codemirror_mode": {
    "name": "ipython",
    "version": 3
   },
   "file_extension": ".py",
   "mimetype": "text/x-python",
   "name": "python",
   "nbconvert_exporter": "python",
   "pygments_lexer": "ipython3",
   "version": "3.8.8"
  }
 },
 "nbformat": 4,
 "nbformat_minor": 5
}

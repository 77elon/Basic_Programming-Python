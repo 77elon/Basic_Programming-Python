{
 "cells": [
  {
   "cell_type": "code",
   "execution_count": 1,
   "id": "15be5220",
   "metadata": {},
   "outputs": [],
   "source": [
    "i = 1"
   ]
  },
  {
   "cell_type": "code",
   "execution_count": 2,
   "id": "e39ff164",
   "metadata": {},
   "outputs": [
    {
     "name": "stdout",
     "output_type": "stream",
     "text": [
      "1번째 반복문입니다.\n",
      "종료하시겠습니까? (Y/N) >>N\n",
      "2번째 반복문입니다.\n",
      "종료하시겠습니까? (Y/N) >>N\n",
      "3번째 반복문입니다.\n",
      "종료하시겠습니까? (Y/N) >>N\n",
      "4번째 반복문입니다.\n",
      "종료하시겠습니까? (Y/N) >>N\n",
      "5번째 반복문입니다.\n",
      "종료하시겠습니까? (Y/N) >>N\n",
      "6번째 반복문입니다.\n",
      "종료하시겠습니까? (Y/N) >>Y\n",
      "반복문을 종료합니다.\n"
     ]
    }
   ],
   "source": [
    "while True:\n",
    "    print(\"{}번째 반복문입니다.\".format(i))\n",
    "    i = i+1\n",
    "    input_text = input(\"종료하시겠습니까? (Y/N) >>\")\n",
    "    if input_text in [\"y\", \"Y\"]:\n",
    "        print(\"반복문을 종료합니다.\")\n",
    "        break"
   ]
  },
  {
   "cell_type": "code",
   "execution_count": null,
   "id": "0c0765a9",
   "metadata": {},
   "outputs": [],
   "source": []
  },
  {
   "cell_type": "code",
   "execution_count": null,
   "id": "52091424",
   "metadata": {},
   "outputs": [],
   "source": []
  },
  {
   "cell_type": "code",
   "execution_count": null,
   "id": "6ceef055",
   "metadata": {},
   "outputs": [],
   "source": []
  }
 ],
 "metadata": {
  "kernelspec": {
   "display_name": "Python 3",
   "language": "python",
   "name": "python3"
  },
  "language_info": {
   "codemirror_mode": {
    "name": "ipython",
    "version": 3
   },
   "file_extension": ".py",
   "mimetype": "text/x-python",
   "name": "python",
   "nbconvert_exporter": "python",
   "pygments_lexer": "ipython3",
   "version": "3.8.8"
  }
 },
 "nbformat": 4,
 "nbformat_minor": 5
}

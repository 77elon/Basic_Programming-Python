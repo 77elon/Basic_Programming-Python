{
 "cells": [
  {
   "cell_type": "code",
   "execution_count": 1,
   "id": "c752b6d8",
   "metadata": {},
   "outputs": [],
   "source": [
    "key_list = [\"name\", \"hp\", \"mp\", \"level\"]"
   ]
  },
  {
   "cell_type": "code",
   "execution_count": 2,
   "id": "166ea59c",
   "metadata": {},
   "outputs": [],
   "source": [
    "value_list = [\"기사\", 200, 30, 5]"
   ]
  },
  {
   "cell_type": "code",
   "execution_count": 3,
   "id": "b7f42b20",
   "metadata": {},
   "outputs": [],
   "source": [
    "character = {}"
   ]
  },
  {
   "cell_type": "code",
   "execution_count": 4,
   "id": "4ec9eae8",
   "metadata": {},
   "outputs": [],
   "source": [
    "for i in range(0, len(key_list)):\n",
    "    character[key_list[i]] = value_list[i]"
   ]
  },
  {
   "cell_type": "code",
   "execution_count": 5,
   "id": "828dca75",
   "metadata": {},
   "outputs": [
    {
     "name": "stdout",
     "output_type": "stream",
     "text": [
      "{'name': '기사', 'hp': 200, 'mp': 30, 'level': 5}\n"
     ]
    }
   ],
   "source": [
    "print(character)"
   ]
  },
  {
   "cell_type": "code",
   "execution_count": null,
   "id": "8438ff92",
   "metadata": {},
   "outputs": [],
   "source": []
  },
  {
   "cell_type": "code",
   "execution_count": 14,
   "id": "b6233406",
   "metadata": {},
   "outputs": [],
   "source": [
    "max_value = 0"
   ]
  },
  {
   "cell_type": "code",
   "execution_count": null,
   "id": "e2ae8447",
   "metadata": {},
   "outputs": [],
   "source": [
    "a = 0"
   ]
  },
  {
   "cell_type": "code",
   "execution_count": 8,
   "id": "f0e2d96e",
   "metadata": {},
   "outputs": [],
   "source": [
    "b = 0"
   ]
  },
  {
   "cell_type": "code",
   "execution_count": 12,
   "id": "e1b4c0e5",
   "metadata": {},
   "outputs": [],
   "source": [
    "for i in range(51):\n",
    "    j = 100 - i\n",
    "    if max_value < i * j:\n",
    "        max_value = i * j\n",
    "        a = i\n",
    "        b = j\n"
   ]
  },
  {
   "cell_type": "code",
   "execution_count": 13,
   "id": "60cd07fa",
   "metadata": {},
   "outputs": [
    {
     "name": "stdout",
     "output_type": "stream",
     "text": [
      "2500\n"
     ]
    }
   ],
   "source": [
    "print(max_value)"
   ]
  },
  {
   "cell_type": "code",
   "execution_count": null,
   "id": "ce847512",
   "metadata": {},
   "outputs": [],
   "source": []
  },
  {
   "cell_type": "code",
   "execution_count": null,
   "id": "1ada32ff",
   "metadata": {},
   "outputs": [],
   "source": []
  }
 ],
 "metadata": {
  "kernelspec": {
   "display_name": "Python 3",
   "language": "python",
   "name": "python3"
  },
  "language_info": {
   "codemirror_mode": {
    "name": "ipython",
    "version": 3
   },
   "file_extension": ".py",
   "mimetype": "text/x-python",
   "name": "python",
   "nbconvert_exporter": "python",
   "pygments_lexer": "ipython3",
   "version": "3.8.8"
  }
 },
 "nbformat": 4,
 "nbformat_minor": 5
}

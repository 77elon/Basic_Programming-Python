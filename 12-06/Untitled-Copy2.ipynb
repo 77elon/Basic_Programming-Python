{
 "cells": [
  {
   "cell_type": "code",
   "execution_count": 40,
   "id": "97951f0c",
   "metadata": {},
   "outputs": [],
   "source": [
    "import tensorflow as tf\n",
    "import numpy as np\n",
    "\n",
    "from tensorflow.keras.models import Sequential\n",
    "from tensorflow.keras.layers import Dense, Activation"
   ]
  },
  {
   "cell_type": "code",
   "execution_count": 41,
   "id": "0055e1e6",
   "metadata": {},
   "outputs": [],
   "source": [
    "x_train = np.genfromtxt('train.in', dtype=np.float32)"
   ]
  },
  {
   "cell_type": "code",
   "execution_count": 42,
   "id": "57081d0b",
   "metadata": {},
   "outputs": [],
   "source": [
    "y_train = np.genfromtxt('train.out', dtype=np.float32)"
   ]
  },
  {
   "cell_type": "code",
   "execution_count": 43,
   "id": "77ed527b",
   "metadata": {},
   "outputs": [],
   "source": [
    "x_test = np.genfromtxt('result.in', dtype=np.float32)"
   ]
  },
  {
   "cell_type": "code",
   "execution_count": 44,
   "id": "76387a41",
   "metadata": {},
   "outputs": [],
   "source": [
    "y_test = np.genfromtxt('result.out', dtype=np.float32)"
   ]
  },
  {
   "cell_type": "code",
   "execution_count": 45,
   "id": "ecf420b9",
   "metadata": {},
   "outputs": [],
   "source": [
    "y_train = y_train.reshape(-1, 1)\n",
    "y_test = y_test.reshape(-1, 1)"
   ]
  },
  {
   "cell_type": "code",
   "execution_count": 46,
   "id": "b56402d6",
   "metadata": {},
   "outputs": [
    {
     "data": {
      "text/plain": [
       "array([[1.],\n",
       "       [0.],\n",
       "       [1.],\n",
       "       ...,\n",
       "       [0.],\n",
       "       [0.],\n",
       "       [1.]], dtype=float32)"
      ]
     },
     "execution_count": 46,
     "metadata": {},
     "output_type": "execute_result"
    }
   ],
   "source": [
    "y_train"
   ]
  },
  {
   "cell_type": "code",
   "execution_count": 47,
   "id": "ba342794",
   "metadata": {},
   "outputs": [
    {
     "name": "stdout",
     "output_type": "stream",
     "text": [
      "Epoch 1/100\n",
      "10000/10000 [==============================] - 4s 406us/step - loss: 1.8083 - accuracy: 0.6729\n",
      "Epoch 2/100\n",
      "10000/10000 [==============================] - 4s 406us/step - loss: 0.4532 - accuracy: 0.8271\n",
      "Epoch 3/100\n",
      "10000/10000 [==============================] - 4s 407us/step - loss: 0.3709 - accuracy: 0.8866\n",
      "Epoch 4/100\n",
      "10000/10000 [==============================] - 4s 401us/step - loss: 0.3200 - accuracy: 0.9118\n",
      "Epoch 5/100\n",
      "10000/10000 [==============================] - 4s 410us/step - loss: 0.2859 - accuracy: 0.9247\n",
      "Epoch 6/100\n",
      "10000/10000 [==============================] - 4s 405us/step - loss: 0.2595 - accuracy: 0.9324\n",
      "Epoch 7/100\n",
      "10000/10000 [==============================] - 4s 403us/step - loss: 0.2395 - accuracy: 0.9374\n",
      "Epoch 8/100\n",
      "10000/10000 [==============================] - 4s 404us/step - loss: 0.2256 - accuracy: 0.9438\n",
      "Epoch 9/100\n",
      "10000/10000 [==============================] - 4s 402us/step - loss: 0.2123 - accuracy: 0.9492\n",
      "Epoch 10/100\n",
      "10000/10000 [==============================] - 4s 404us/step - loss: 0.2008 - accuracy: 0.9502\n",
      "Epoch 11/100\n",
      "10000/10000 [==============================] - 4s 408us/step - loss: 0.1923 - accuracy: 0.9510\n",
      "Epoch 12/100\n",
      "10000/10000 [==============================] - 4s 411us/step - loss: 0.1841 - accuracy: 0.9556\n",
      "Epoch 13/100\n",
      "10000/10000 [==============================] - 4s 419us/step - loss: 0.1791 - accuracy: 0.9522\n",
      "Epoch 14/100\n",
      "10000/10000 [==============================] - 4s 397us/step - loss: 0.1708 - accuracy: 0.9591\n",
      "Epoch 15/100\n",
      "10000/10000 [==============================] - 4s 412us/step - loss: 0.1673 - accuracy: 0.9583\n",
      "Epoch 16/100\n",
      "10000/10000 [==============================] - 4s 394us/step - loss: 0.1609 - accuracy: 0.9616\n",
      "Epoch 17/100\n",
      "10000/10000 [==============================] - 4s 392us/step - loss: 0.1571 - accuracy: 0.9593\n",
      "Epoch 18/100\n",
      "10000/10000 [==============================] - 4s 394us/step - loss: 0.1531 - accuracy: 0.9611\n",
      "Epoch 19/100\n",
      "10000/10000 [==============================] - 4s 390us/step - loss: 0.1495 - accuracy: 0.9594\n",
      "Epoch 20/100\n",
      "10000/10000 [==============================] - 4s 390us/step - loss: 0.1468 - accuracy: 0.9607\n",
      "Epoch 21/100\n",
      "10000/10000 [==============================] - 4s 388us/step - loss: 0.1431 - accuracy: 0.9645\n",
      "Epoch 22/100\n",
      "10000/10000 [==============================] - 4s 397us/step - loss: 0.1393 - accuracy: 0.9644\n",
      "Epoch 23/100\n",
      "10000/10000 [==============================] - 4s 408us/step - loss: 0.1351 - accuracy: 0.9665\n",
      "Epoch 24/100\n",
      "10000/10000 [==============================] - 4s 406us/step - loss: 0.1347 - accuracy: 0.9655\n",
      "Epoch 25/100\n",
      "10000/10000 [==============================] - 4s 390us/step - loss: 0.1309 - accuracy: 0.9672\n",
      "Epoch 26/100\n",
      "10000/10000 [==============================] - 4s 390us/step - loss: 0.1298 - accuracy: 0.9675\n",
      "Epoch 27/100\n",
      "10000/10000 [==============================] - 4s 401us/step - loss: 0.1272 - accuracy: 0.9688\n",
      "Epoch 28/100\n",
      "10000/10000 [==============================] - 4s 397us/step - loss: 0.1250 - accuracy: 0.9666\n",
      "Epoch 29/100\n",
      "10000/10000 [==============================] - 4s 391us/step - loss: 0.1244 - accuracy: 0.9672\n",
      "Epoch 30/100\n",
      "10000/10000 [==============================] - 4s 410us/step - loss: 0.1218 - accuracy: 0.9679\n",
      "Epoch 31/100\n",
      "10000/10000 [==============================] - 4s 413us/step - loss: 0.1194 - accuracy: 0.9677\n",
      "Epoch 32/100\n",
      "10000/10000 [==============================] - 4s 405us/step - loss: 0.1190 - accuracy: 0.9685\n",
      "Epoch 33/100\n",
      "10000/10000 [==============================] - 4s 386us/step - loss: 0.1183 - accuracy: 0.9693\n",
      "Epoch 34/100\n",
      "10000/10000 [==============================] - 4s 383us/step - loss: 0.1154 - accuracy: 0.9697\n",
      "Epoch 35/100\n",
      "10000/10000 [==============================] - 4s 381us/step - loss: 0.1150 - accuracy: 0.9682\n",
      "Epoch 36/100\n",
      "10000/10000 [==============================] - 4s 387us/step - loss: 0.1125 - accuracy: 0.9712\n",
      "Epoch 37/100\n",
      "10000/10000 [==============================] - 4s 392us/step - loss: 0.1111 - accuracy: 0.9704\n",
      "Epoch 38/100\n",
      "10000/10000 [==============================] - 4s 398us/step - loss: 0.1090 - accuracy: 0.9722\n",
      "Epoch 39/100\n",
      "10000/10000 [==============================] - 4s 386us/step - loss: 0.1090 - accuracy: 0.9706\n",
      "Epoch 40/100\n",
      "10000/10000 [==============================] - 4s 384us/step - loss: 0.1084 - accuracy: 0.9698\n",
      "Epoch 41/100\n",
      "10000/10000 [==============================] - 4s 387us/step - loss: 0.1064 - accuracy: 0.9733\n",
      "Epoch 42/100\n",
      "10000/10000 [==============================] - 4s 388us/step - loss: 0.1064 - accuracy: 0.9722\n",
      "Epoch 43/100\n",
      "10000/10000 [==============================] - 4s 378us/step - loss: 0.1048 - accuracy: 0.9738\n",
      "Epoch 44/100\n",
      "10000/10000 [==============================] - 4s 385us/step - loss: 0.1041 - accuracy: 0.9728\n",
      "Epoch 45/100\n",
      "10000/10000 [==============================] - 4s 380us/step - loss: 0.1034 - accuracy: 0.9737\n",
      "Epoch 46/100\n",
      "10000/10000 [==============================] - 4s 390us/step - loss: 0.1018 - accuracy: 0.9724\n",
      "Epoch 47/100\n",
      "10000/10000 [==============================] - 4s 402us/step - loss: 0.1022 - accuracy: 0.97360s - loss: 0.1021 - accuracy: 0.\n",
      "Epoch 48/100\n",
      "10000/10000 [==============================] - 4s 410us/step - loss: 0.0996 - accuracy: 0.9741\n",
      "Epoch 49/100\n",
      "10000/10000 [==============================] - 4s 410us/step - loss: 0.0986 - accuracy: 0.9721\n",
      "Epoch 50/100\n",
      "10000/10000 [==============================] - 4s 404us/step - loss: 0.0980 - accuracy: 0.9741\n",
      "Epoch 51/100\n",
      "10000/10000 [==============================] - 4s 402us/step - loss: 0.0970 - accuracy: 0.9750\n",
      "Epoch 52/100\n",
      "10000/10000 [==============================] - 4s 377us/step - loss: 0.0963 - accuracy: 0.9762\n",
      "Epoch 53/100\n",
      "10000/10000 [==============================] - 4s 383us/step - loss: 0.0968 - accuracy: 0.9733\n",
      "Epoch 54/100\n",
      "10000/10000 [==============================] - 4s 396us/step - loss: 0.0962 - accuracy: 0.9742\n",
      "Epoch 55/100\n",
      "10000/10000 [==============================] - 4s 395us/step - loss: 0.0947 - accuracy: 0.9749\n",
      "Epoch 56/100\n",
      "10000/10000 [==============================] - 4s 388us/step - loss: 0.0946 - accuracy: 0.9746\n",
      "Epoch 57/100\n",
      "10000/10000 [==============================] - 4s 374us/step - loss: 0.0938 - accuracy: 0.9755\n",
      "Epoch 58/100\n",
      "10000/10000 [==============================] - 4s 386us/step - loss: 0.0931 - accuracy: 0.9732\n",
      "Epoch 59/100\n",
      "10000/10000 [==============================] - 4s 391us/step - loss: 0.0919 - accuracy: 0.9758\n",
      "Epoch 60/100\n",
      "10000/10000 [==============================] - 4s 389us/step - loss: 0.0911 - accuracy: 0.9738\n",
      "Epoch 61/100\n",
      "10000/10000 [==============================] - 4s 379us/step - loss: 0.0903 - accuracy: 0.9763\n",
      "Epoch 62/100\n",
      "10000/10000 [==============================] - 4s 375us/step - loss: 0.0895 - accuracy: 0.9758\n",
      "Epoch 63/100\n",
      "10000/10000 [==============================] - 4s 392us/step - loss: 0.0896 - accuracy: 0.9751\n",
      "Epoch 64/100\n",
      "10000/10000 [==============================] - 4s 397us/step - loss: 0.0886 - accuracy: 0.9768\n",
      "Epoch 65/100\n",
      "10000/10000 [==============================] - 4s 403us/step - loss: 0.0876 - accuracy: 0.9764\n",
      "Epoch 66/100\n",
      "10000/10000 [==============================] - 4s 394us/step - loss: 0.0875 - accuracy: 0.9766\n",
      "Epoch 67/100\n",
      "10000/10000 [==============================] - 4s 379us/step - loss: 0.0869 - accuracy: 0.9778\n",
      "Epoch 68/100\n",
      "10000/10000 [==============================] - 4s 383us/step - loss: 0.0869 - accuracy: 0.9777\n",
      "Epoch 69/100\n",
      "10000/10000 [==============================] - 4s 385us/step - loss: 0.0863 - accuracy: 0.9747\n",
      "Epoch 70/100\n",
      "10000/10000 [==============================] - 4s 383us/step - loss: 0.0858 - accuracy: 0.9776\n",
      "Epoch 71/100\n",
      "10000/10000 [==============================] - 4s 403us/step - loss: 0.0847 - accuracy: 0.9770\n",
      "Epoch 72/100\n",
      "10000/10000 [==============================] - 4s 396us/step - loss: 0.0848 - accuracy: 0.9769\n",
      "Epoch 73/100\n",
      "10000/10000 [==============================] - 4s 383us/step - loss: 0.0843 - accuracy: 0.9786\n",
      "Epoch 74/100\n",
      "10000/10000 [==============================] - 4s 393us/step - loss: 0.0833 - accuracy: 0.9774\n",
      "Epoch 75/100\n",
      "10000/10000 [==============================] - 4s 394us/step - loss: 0.0830 - accuracy: 0.9773\n",
      "Epoch 76/100\n",
      "10000/10000 [==============================] - 4s 392us/step - loss: 0.0830 - accuracy: 0.9780\n",
      "Epoch 77/100\n",
      "10000/10000 [==============================] - 4s 388us/step - loss: 0.0824 - accuracy: 0.9783\n",
      "Epoch 78/100\n",
      "10000/10000 [==============================] - 4s 383us/step - loss: 0.0817 - accuracy: 0.9791\n",
      "Epoch 79/100\n",
      "10000/10000 [==============================] - 4s 389us/step - loss: 0.0807 - accuracy: 0.9774\n",
      "Epoch 80/100\n",
      "10000/10000 [==============================] - 4s 386us/step - loss: 0.0812 - accuracy: 0.9775\n",
      "Epoch 81/100\n",
      "10000/10000 [==============================] - 4s 385us/step - loss: 0.0813 - accuracy: 0.9785\n",
      "Epoch 82/100\n",
      "10000/10000 [==============================] - 4s 394us/step - loss: 0.0810 - accuracy: 0.9785\n",
      "Epoch 83/100\n",
      "10000/10000 [==============================] - 4s 400us/step - loss: 0.0799 - accuracy: 0.9773\n",
      "Epoch 84/100\n",
      "10000/10000 [==============================] - 4s 393us/step - loss: 0.0804 - accuracy: 0.9780\n",
      "Epoch 85/100\n",
      "10000/10000 [==============================] - 4s 396us/step - loss: 0.0794 - accuracy: 0.9790\n",
      "Epoch 86/100\n",
      "10000/10000 [==============================] - 4s 375us/step - loss: 0.0795 - accuracy: 0.9778\n",
      "Epoch 87/100\n",
      "10000/10000 [==============================] - 4s 378us/step - loss: 0.0793 - accuracy: 0.9772\n",
      "Epoch 88/100\n",
      "10000/10000 [==============================] - 4s 373us/step - loss: 0.0781 - accuracy: 0.9787\n",
      "Epoch 89/100\n",
      "10000/10000 [==============================] - 4s 372us/step - loss: 0.0778 - accuracy: 0.9782\n",
      "Epoch 90/100\n",
      "10000/10000 [==============================] - 4s 376us/step - loss: 0.0770 - accuracy: 0.9774\n",
      "Epoch 91/100\n",
      "10000/10000 [==============================] - 4s 377us/step - loss: 0.0770 - accuracy: 0.9784\n",
      "Epoch 92/100\n",
      "10000/10000 [==============================] - 4s 379us/step - loss: 0.0769 - accuracy: 0.9803\n",
      "Epoch 93/100\n",
      "10000/10000 [==============================] - 4s 374us/step - loss: 0.0766 - accuracy: 0.9782\n",
      "Epoch 94/100\n",
      "10000/10000 [==============================] - 4s 379us/step - loss: 0.0760 - accuracy: 0.9804\n",
      "Epoch 95/100\n",
      "10000/10000 [==============================] - 4s 382us/step - loss: 0.0760 - accuracy: 0.9785\n",
      "Epoch 96/100\n",
      "10000/10000 [==============================] - 4s 376us/step - loss: 0.0753 - accuracy: 0.9795\n",
      "Epoch 97/100\n",
      "10000/10000 [==============================] - 4s 373us/step - loss: 0.0757 - accuracy: 0.9785\n",
      "Epoch 98/100\n",
      "10000/10000 [==============================] - 4s 372us/step - loss: 0.0755 - accuracy: 0.9769\n",
      "Epoch 99/100\n",
      "10000/10000 [==============================] - 4s 399us/step - loss: 0.0740 - accuracy: 0.9794\n",
      "Epoch 100/100\n",
      "10000/10000 [==============================] - 4s 388us/step - loss: 0.0745 - accuracy: 0.9803\n"
     ]
    },
    {
     "data": {
      "text/plain": [
       "<keras.callbacks.History at 0x2b5b5ad5700>"
      ]
     },
     "execution_count": 47,
     "metadata": {},
     "output_type": "execute_result"
    }
   ],
   "source": [
    "model = Sequential([\n",
    "    Dense(units = 1, input_dim=4),  # input_shape=(2,)\n",
    "    Activation('sigmoid')\n",
    "])\n",
    "\n",
    "model.compile(loss='binary_crossentropy', optimizer='adam', metrics=['accuracy'])\n",
    "\n",
    "model.fit(x_train, y_train, epochs=100, batch_size=1, verbose=1)"
   ]
  },
  {
   "cell_type": "code",
   "execution_count": 48,
   "id": "a8d1742a",
   "metadata": {
    "scrolled": true
   },
   "outputs": [
    {
     "name": "stdout",
     "output_type": "stream",
     "text": [
      "32/32 [==============================] - 0s 371us/step - loss: 4.0286 - accuracy: 0.5070\n",
      "[4.028575897216797, 0.5070000290870667]\n"
     ]
    }
   ],
   "source": [
    "meval_test = model.evaluate(x_test, y_test)\n",
    "print(meval_test) \n"
   ]
  },
  {
   "cell_type": "code",
   "execution_count": 49,
   "id": "03768a4c",
   "metadata": {},
   "outputs": [
    {
     "name": "stdout",
     "output_type": "stream",
     "text": [
      "313/313 [==============================] - 0s 361us/step - loss: 0.0693 - accuracy: 0.9858\n",
      "[0.06925129145383835, 0.98580002784729]\n"
     ]
    }
   ],
   "source": [
    "meval = model.evaluate(x_train, y_train)\n",
    "print(meval) "
   ]
  },
  {
   "cell_type": "code",
   "execution_count": 50,
   "id": "bb26dad7",
   "metadata": {},
   "outputs": [
    {
     "name": "stdout",
     "output_type": "stream",
     "text": [
      "예측 결과 :  tf.Tensor(\n",
      "[[1.]\n",
      " [0.]\n",
      " [1.]\n",
      " ...\n",
      " [0.]\n",
      " [0.]\n",
      " [1.]], shape=(10000, 1), dtype=float32)\n"
     ]
    }
   ],
   "source": [
    "y_predict = model.predict(x_train)\n",
    "y_predict = tf.cast(y_predict >= 0.5, dtype=tf.float32)\n",
    "\n",
    "print('예측 결과 : ', y_predict) "
   ]
  },
  {
   "cell_type": "code",
   "execution_count": 51,
   "id": "782f2794",
   "metadata": {},
   "outputs": [
    {
     "name": "stdout",
     "output_type": "stream",
     "text": [
      "False\n"
     ]
    }
   ],
   "source": [
    "print((y_predict.numpy() == y_train).all())"
   ]
  }
 ],
 "metadata": {
  "interpreter": {
   "hash": "249592030b694058314b2c127fc8baa77cf5e8e38946dd9ddbc0c2ddb49e9888"
  },
  "kernelspec": {
   "display_name": "TensorFlow 2.6.0",
   "language": "python",
   "name": "tf2"
  },
  "language_info": {
   "codemirror_mode": {
    "name": "ipython",
    "version": 3
   },
   "file_extension": ".py",
   "mimetype": "text/x-python",
   "name": "python",
   "nbconvert_exporter": "python",
   "pygments_lexer": "ipython3",
   "version": "3.9.7"
  }
 },
 "nbformat": 4,
 "nbformat_minor": 5
}

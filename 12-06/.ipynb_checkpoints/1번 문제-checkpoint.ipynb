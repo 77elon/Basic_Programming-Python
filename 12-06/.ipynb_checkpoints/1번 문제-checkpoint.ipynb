{
 "cells": [
  {
   "cell_type": "code",
   "execution_count": 1,
   "id": "97951f0c",
   "metadata": {},
   "outputs": [],
   "source": [
    "import os\n",
    "os.environ['TF_CPP_MIN_LOG_LEVEL'] = '2'\n",
    "\n",
    "import numpy as np\n",
    "import matplotlib.pylab as plt\n",
    "import tensorflow as tf\n",
    "\n",
    "tf.compat.v1.disable_eager_execution()"
   ]
  },
  {
   "cell_type": "code",
   "execution_count": 2,
   "id": "4bc19442",
   "metadata": {},
   "outputs": [],
   "source": [
    "x_train = np.genfromtxt('train.in')"
   ]
  },
  {
   "cell_type": "code",
   "execution_count": 3,
   "id": "688f2132",
   "metadata": {},
   "outputs": [],
   "source": [
    "y_train = np.genfromtxt('train.out')"
   ]
  },
  {
   "cell_type": "code",
   "execution_count": 4,
   "id": "738bce5a",
   "metadata": {},
   "outputs": [],
   "source": [
    "x_test = np.genfromtxt('result.in')"
   ]
  },
  {
   "cell_type": "code",
   "execution_count": 5,
   "id": "76387a41",
   "metadata": {},
   "outputs": [],
   "source": [
    "y_test = np.genfromtxt('result.out')"
   ]
  },
  {
   "cell_type": "code",
   "execution_count": 6,
   "id": "912df17f",
   "metadata": {},
   "outputs": [
    {
     "data": {
      "text/plain": [
       "array([[75., 89., 43., 87.],\n",
       "       [34., 17., 15., 16.],\n",
       "       [49., 58., 52., 88.],\n",
       "       ...,\n",
       "       [29., 25., 27., 87.],\n",
       "       [19., 13., 75., 35.],\n",
       "       [95., 87., 41., 14.]])"
      ]
     },
     "execution_count": 6,
     "metadata": {},
     "output_type": "execute_result"
    }
   ],
   "source": [
    "x_train"
   ]
  },
  {
   "cell_type": "code",
   "execution_count": 7,
   "id": "ac246a35",
   "metadata": {},
   "outputs": [],
   "source": [
    "y_train = y_train.reshape(-1, 1)\n",
    "y_test = y_test.reshape(-1, 1)"
   ]
  },
  {
   "cell_type": "code",
   "execution_count": 8,
   "id": "2ffc1a06",
   "metadata": {},
   "outputs": [
    {
     "data": {
      "text/plain": [
       "(10000, 4)"
      ]
     },
     "execution_count": 8,
     "metadata": {},
     "output_type": "execute_result"
    }
   ],
   "source": [
    "x_train.shape"
   ]
  },
  {
   "cell_type": "code",
   "execution_count": 9,
   "id": "c5138b61",
   "metadata": {},
   "outputs": [
    {
     "data": {
      "text/plain": [
       "(10000, 1)"
      ]
     },
     "execution_count": 9,
     "metadata": {},
     "output_type": "execute_result"
    }
   ],
   "source": [
    "y_train.shape"
   ]
  },
  {
   "cell_type": "code",
   "execution_count": 10,
   "id": "5628874a",
   "metadata": {},
   "outputs": [],
   "source": [
    "w = tf.Variable(tf.zeros([4, 1]), dtype=tf.float32)\n",
    "b = tf.Variable(tf.zeros([1]), dtype=tf.float32)\n",
    "\n",
    "x = tf.compat.v1.placeholder(tf.float32, [None, 4])\n",
    "y = tf.compat.v1.placeholder(tf.float32, [None, 1])\n"
   ]
  },
  {
   "cell_type": "code",
   "execution_count": 11,
   "id": "3c9dd2b8",
   "metadata": {},
   "outputs": [],
   "source": [
    "yhat = tf.nn.sigmoid(tf.matmul(x, w) + b)\n",
    "loss = tf.reduce_mean(-y * tf.math.log(yhat) - (1 - y) * tf.math.log(1 - yhat))"
   ]
  },
  {
   "cell_type": "code",
   "execution_count": null,
   "id": "68dd3a66",
   "metadata": {},
   "outputs": [],
   "source": []
  },
  {
   "cell_type": "code",
   "execution_count": 12,
   "id": "333d667e-95c6-455c-814c-3a9a7c104d6a",
   "metadata": {
    "scrolled": true
   },
   "outputs": [
    {
     "name": "stdout",
     "output_type": "stream",
     "text": [
      "0 0.69314605\n",
      "1000 0.5748195\n",
      "2000 0.50044036\n",
      "3000 0.44126034\n",
      "4000 0.39316761\n",
      "5000 0.35334864\n",
      "6000 0.3198814\n",
      "7000 0.29141653\n",
      "8000 0.26703402\n",
      "9000 0.24582139\n",
      "10000 0.22738354\n",
      "11000 0.2112125\n",
      "12000 0.19694719\n",
      "13000 0.18429643\n",
      "14000 0.17302185\n",
      "15000 0.16292405\n",
      "16000 0.15384318\n",
      "17000 0.14564231\n",
      "18000 0.13820723\n",
      "19000 0.13144131\n",
      "\n",
      " Train Data Hypothesis:  [[9.9976522e-01]\n",
      " [4.1533502e-05]\n",
      " [9.8570621e-01]\n",
      " ...\n",
      " [6.6527247e-02]\n",
      " [7.1196556e-03]\n",
      " [9.6870482e-01]] \n",
      " Predicted:  [[1.]\n",
      " [0.]\n",
      " [1.]\n",
      " ...\n",
      " [0.]\n",
      " [0.]\n",
      " [1.]] \n",
      " Accuracy:  0.9912\n",
      "test Data Accuracy:  0.509\n"
     ]
    }
   ],
   "source": [
    "MaxEpochs = 20000\n",
    "batch_size = 1\n",
    "\n",
    "hypothesis = tf.nn.sigmoid(tf.matmul(x, w) + b)\n",
    "\n",
    "cost = -tf.reduce_mean(y * tf.math.log(hypothesis) + (1 - y) * (tf.math.log(1 - hypothesis)))\n",
    " \n",
    "train = tf.compat.v1.train.AdamOptimizer(learning_rate=0.001).minimize(cost)\n",
    "\n",
    "predicted = tf.cast(hypothesis > 0.5, dtype=tf.float32)\n",
    "\n",
    "predicted_test = tf.cast(hypothesis > 0.5, dtype=tf.float32)\n",
    "\n",
    "accuracy = tf.reduce_mean(tf.cast(tf.equal(predicted, y), dtype=tf.float32))\n",
    "\n",
    "accuracy_test = tf.reduce_mean(tf.cast(tf.equal(predicted_test, y), dtype=tf.float32))\n",
    "\n",
    "\n",
    "with tf.compat.v1.Session() as sess:\n",
    "    sess.run(tf.compat.v1.global_variables_initializer())\n",
    "    \n",
    "    for step in range(MaxEpochs):\n",
    "        cost_val, _ = sess.run([cost, train], feed_dict={x: x_train, y: y_train})\n",
    "        if step % 1000 == 0:\n",
    "            print(step, cost_val)\n",
    "            \n",
    "    h, c, a = sess.run([hypothesis, predicted, accuracy], feed_dict={x: x_train, y: y_train})\n",
    "    print(\"\\n Train Data Hypothesis: \", h, \"\\n Predicted: \", c, \"\\n Accuracy: \", a)\n",
    "\n",
    "    prediction_values, acc_test = sess.run([predicted_test, accuracy_test], feed_dict={x: x_test, y: y_test})\n",
    "    print(\"test Data Accuracy: \", acc_test)\n",
    "    #print(prediction_values)    "
   ]
  },
  {
   "cell_type": "code",
   "execution_count": 13,
   "id": "42d40db6-8cf9-4db2-af52-fbd62e0a2b0e",
   "metadata": {
    "scrolled": true
   },
   "outputs": [
    {
     "name": "stdout",
     "output_type": "stream",
     "text": [
      "test Data Accuracy: 0.509\n"
     ]
    }
   ],
   "source": [
    "error = np.mean(y_test != prediction_values)\n",
    "print(\"test Data Accuracy:\", 1 - error)"
   ]
  }
 ],
 "metadata": {
  "interpreter": {
   "hash": "ecc94a84cec4e59265442ba89994077d25c8bad7b5dbac8793171efaff97d6ad"
  },
  "kernelspec": {
   "display_name": "tensorflow-cpu",
   "language": "python",
   "name": "tensorflow-cpu"
  },
  "language_info": {
   "codemirror_mode": {
    "name": "ipython",
    "version": 3
   },
   "file_extension": ".py",
   "mimetype": "text/x-python",
   "name": "python",
   "nbconvert_exporter": "python",
   "pygments_lexer": "ipython3",
   "version": "3.9.7"
  }
 },
 "nbformat": 4,
 "nbformat_minor": 5
}

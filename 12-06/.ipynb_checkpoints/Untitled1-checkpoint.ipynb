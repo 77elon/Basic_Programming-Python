{
 "cells": [
  {
   "cell_type": "code",
   "execution_count": 1,
   "id": "eb61cc74",
   "metadata": {},
   "outputs": [],
   "source": [
    "import numpy as np\n",
    "import matplotlib.pylab as plt\n",
    "import tensorflow as tf"
   ]
  },
  {
   "cell_type": "code",
   "execution_count": 2,
   "id": "bc4346a0",
   "metadata": {},
   "outputs": [],
   "source": [
    "x_train = np.genfromtxt('train.in')\n",
    "y_train = np.genfromtxt('train.out')\n",
    "\n",
    "y_train = y_train.reshape(-1, 1)"
   ]
  },
  {
   "cell_type": "code",
   "execution_count": 3,
   "id": "0eced6c9",
   "metadata": {},
   "outputs": [],
   "source": [
    "w = tf.Variable(tf.zeros([4, 1]), dtype=tf.float32)\n",
    "b = tf.Variable(tf.zeros([1]), dtype=tf.float32)\n",
    "\n",
    "x = tf.compat.v1.placeholder(tf.float32, [None, 4])\n",
    "y = tf.compat.v1.placeholder(tf.float32, [None, 1])"
   ]
  },
  {
   "cell_type": "code",
   "execution_count": 4,
   "id": "1de3a6bf",
   "metadata": {},
   "outputs": [
    {
     "data": {
      "text/plain": [
       "(10000, 4)"
      ]
     },
     "execution_count": 4,
     "metadata": {},
     "output_type": "execute_result"
    }
   ],
   "source": [
    "x_train.shape"
   ]
  },
  {
   "cell_type": "code",
   "execution_count": 5,
   "id": "bbb9ffc8",
   "metadata": {},
   "outputs": [
    {
     "data": {
      "text/plain": [
       "(10000, 1)"
      ]
     },
     "execution_count": 5,
     "metadata": {},
     "output_type": "execute_result"
    }
   ],
   "source": [
    "y_train.shape"
   ]
  },
  {
   "cell_type": "code",
   "execution_count": 6,
   "id": "bf64843d",
   "metadata": {},
   "outputs": [
    {
     "name": "stdout",
     "output_type": "stream",
     "text": [
      "WARNING:tensorflow:From /tmp/ipykernel_8639/2728727120.py:6: The name tf.train.AdamOptimizer is deprecated. Please use tf.compat.v1.train.AdamOptimizer instead.\n",
      "\n",
      "WARNING:tensorflow:From /tmp/ipykernel_8639/2728727120.py:8: The name tf.log is deprecated. Please use tf.math.log instead.\n",
      "\n",
      "WARNING:tensorflow:From /tmp/ipykernel_8639/2728727120.py:19: The name tf.global_variables_initializer is deprecated. Please use tf.compat.v1.global_variables_initializer instead.\n",
      "\n",
      "WARNING:tensorflow:From /tmp/ipykernel_8639/2728727120.py:20: The name tf.Session is deprecated. Please use tf.compat.v1.Session instead.\n",
      "\n"
     ]
    },
    {
     "name": "stderr",
     "output_type": "stream",
     "text": [
      "2021-12-12 05:49:06.027449: W tensorflow/stream_executor/platform/default/dso_loader.cc:55] Could not load dynamic library 'libcuda.so.1'; dlerror: libcuda.so.1: cannot open shared object file: No such file or directory\n",
      "2021-12-12 05:49:06.027472: E tensorflow/stream_executor/cuda/cuda_driver.cc:318] failed call to cuInit: UNKNOWN ERROR (303)\n",
      "2021-12-12 05:49:06.027489: I tensorflow/stream_executor/cuda/cuda_diagnostics.cc:156] kernel driver does not appear to be running on this host (68ca66e711d1): /proc/driver/nvidia/version does not exist\n",
      "2021-12-12 05:49:06.028097: I tensorflow/core/platform/cpu_feature_guard.cc:142] Your CPU supports instructions that this TensorFlow binary was not compiled to use: AVX2 FMA\n",
      "2021-12-12 05:49:06.033055: I tensorflow/core/platform/profile_utils/cpu_utils.cc:94] CPU Frequency: 3292170000 Hz\n",
      "2021-12-12 05:49:06.033210: I tensorflow/compiler/xla/service/service.cc:168] XLA service 0x559e05376470 initialized for platform Host (this does not guarantee that XLA will be used). Devices:\n",
      "2021-12-12 05:49:06.033224: I tensorflow/compiler/xla/service/service.cc:176]   StreamExecutor device (0): Host, Default Version\n"
     ]
    }
   ],
   "source": [
    "import Batch \n",
    "\n",
    "MaxEpochs = 100\n",
    "lr = 0.01\n",
    "\n",
    "optimizer = tf.train.AdamOptimizer(lr)\n",
    "hypothesis = tf.sigmoid(tf.matmul(x, w) + b)\n",
    "cost = -tf.reduce_mean(y * tf.log(hypothesis) + (1 - y) * (tf.log(1 - hypothesis)))\n",
    "train = optimizer.minimize(cost)\n",
    "\n",
    "idx = np.arange(0, len(x_train))\n",
    "np.random.shuffle(idx)\n",
    "shuffled_features = x_train[idx]\n",
    "shuffled_labels = y_train[idx]\n",
    "batch_size = 1\n",
    "\n",
    "\n",
    "\n",
    "init = tf.global_variables_initializer()\n",
    "sess = tf.Session()\n",
    "sess.run(init)\n",
    "\n",
    "for epoch in range(MaxEpochs) :\n",
    "    for x_batch, y_batch in Batch.generate_batches(batch_size, shuffled_features, shuffled_labels) :\n",
    "        cost_val, predicted = sess.run([cost, train], feed_dict = {x : x_batch, y : y_batch})\n",
    "        print(cost_val)\n"
   ]
  },
  {
   "cell_type": "code",
   "execution_count": 8,
   "id": "7e5489d6",
   "metadata": {
    "scrolled": true
   },
   "outputs": [
    {
     "name": "stdout",
     "output_type": "stream",
     "text": [
      "None\n"
     ]
    }
   ],
   "source": [
    "print(predicted)"
   ]
  },
  {
   "cell_type": "code",
   "execution_count": null,
   "id": "6287fa7a",
   "metadata": {},
   "outputs": [],
   "source": []
  },
  {
   "cell_type": "code",
   "execution_count": null,
   "id": "bd6e9dec",
   "metadata": {},
   "outputs": [],
   "source": [
    "prob = np.prod(predict)\n",
    "print(-np.log(np.prod(predict)), loss_value * len(x_train))"
   ]
  }
 ],
 "metadata": {
  "kernelspec": {
   "display_name": "TensorFlow 1.15.5",
   "language": "python",
   "name": "tf1"
  },
  "language_info": {
   "codemirror_mode": {
    "name": "ipython",
    "version": 3
   },
   "file_extension": ".py",
   "mimetype": "text/x-python",
   "name": "python",
   "nbconvert_exporter": "python",
   "pygments_lexer": "ipython3",
   "version": "3.7.12"
  }
 },
 "nbformat": 4,
 "nbformat_minor": 5
}

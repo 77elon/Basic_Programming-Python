{
 "cells": [
  {
   "cell_type": "code",
   "execution_count": 1,
   "id": "97951f0c",
   "metadata": {},
   "outputs": [],
   "source": [
    "import numpy as np\n",
    "import matplotlib.pylab as plt\n",
    "import tensorflow as tf"
   ]
  },
  {
   "cell_type": "code",
   "execution_count": 2,
   "id": "4bc19442",
   "metadata": {},
   "outputs": [],
   "source": [
    "x_train = np.genfromtxt('train.in')"
   ]
  },
  {
   "cell_type": "code",
   "execution_count": 3,
   "id": "688f2132",
   "metadata": {},
   "outputs": [],
   "source": [
    "y_train = np.genfromtxt('train.out')"
   ]
  },
  {
   "cell_type": "code",
   "execution_count": 4,
   "id": "738bce5a",
   "metadata": {},
   "outputs": [],
   "source": [
    "x_test = np.genfromtxt('result.in')"
   ]
  },
  {
   "cell_type": "code",
   "execution_count": 5,
   "id": "76387a41",
   "metadata": {},
   "outputs": [],
   "source": [
    "y_test = np.genfromtxt('result.out')"
   ]
  },
  {
   "cell_type": "code",
   "execution_count": 6,
   "id": "912df17f",
   "metadata": {},
   "outputs": [
    {
     "data": {
      "text/plain": [
       "array([[75., 89., 43., 87.],\n",
       "       [34., 17., 15., 16.],\n",
       "       [49., 58., 52., 88.],\n",
       "       ...,\n",
       "       [29., 25., 27., 87.],\n",
       "       [19., 13., 75., 35.],\n",
       "       [95., 87., 41., 14.]])"
      ]
     },
     "execution_count": 6,
     "metadata": {},
     "output_type": "execute_result"
    }
   ],
   "source": [
    "x_train"
   ]
  },
  {
   "cell_type": "code",
   "execution_count": 7,
   "id": "ac246a35",
   "metadata": {},
   "outputs": [],
   "source": [
    "y_train = y_train.reshape(-1, 1)"
   ]
  },
  {
   "cell_type": "code",
   "execution_count": 8,
   "id": "2ffc1a06",
   "metadata": {},
   "outputs": [
    {
     "data": {
      "text/plain": [
       "(10000, 4)"
      ]
     },
     "execution_count": 8,
     "metadata": {},
     "output_type": "execute_result"
    }
   ],
   "source": [
    "x_train.shape"
   ]
  },
  {
   "cell_type": "code",
   "execution_count": 9,
   "id": "d4ae8faa",
   "metadata": {},
   "outputs": [
    {
     "data": {
      "text/plain": [
       "(10000, 1)"
      ]
     },
     "execution_count": 9,
     "metadata": {},
     "output_type": "execute_result"
    }
   ],
   "source": [
    "y_train.shape"
   ]
  },
  {
   "cell_type": "code",
   "execution_count": null,
   "id": "5628874a",
   "metadata": {},
   "outputs": [],
   "source": [
    "w = tf.Variable(tf.zeros([4, 1]), dtype=tf.float32)\n",
    "b = tf.Variable(tf.zeros([1]), dtype=tf.float32)\n",
    "\n",
    "x = tf.compat.v1.placeholder(tf.float32, [None, 4])\n",
    "y = tf.compat.v1.placeholder(tf.float32, [None, 1])\n"
   ]
  },
  {
   "cell_type": "code",
   "execution_count": null,
   "id": "3c9dd2b8",
   "metadata": {},
   "outputs": [],
   "source": [
    "yhat = tf.nn.sigmoid(tf.matmul(x, w) + b)\n",
    "loss = tf.reduce_mean(-y * tf.log(yhat) - (1 - y) * tf.log(1 - yhat))"
   ]
  },
  {
   "cell_type": "code",
   "execution_count": null,
   "id": "68dd3a66",
   "metadata": {},
   "outputs": [],
   "source": []
  },
  {
   "cell_type": "code",
   "execution_count": null,
   "id": "0d753a50",
   "metadata": {},
   "outputs": [],
   "source": [
    "sess = tf.Session()\n",
    "init = tf.global_variables_initializer()\n",
    "sess.run(init)\n",
    "predict, loss_value = sess.run([yhat, loss], feed_dict={x:scaled_xtrain, y:y_train})\n",
    "print(predict)"
   ]
  },
  {
   "cell_type": "code",
   "execution_count": null,
   "id": "32f5e596",
   "metadata": {
    "scrolled": true
   },
   "outputs": [],
   "source": [
    "MaxEpochs = 10000\n",
    "batch_size = 1\n",
    "\n",
    "hypothesis = tf.sigmoid(tf.matmul(x, w) + b)\n",
    "\n",
    "cost = -tf.reduce_mean(y * tf.log(hypothesis) + (1 - y) * (tf.log(1 - hypothesis)))\n",
    " \n",
    "train = tf.compat.v1.train.AdamOptimizer(learning_rate=0.001).minimize(cost)\n",
    "\n",
    "predicted = tf.cast(hypothesis > 0.5, dtype=tf.float32)\n",
    "\n",
    "accuracy = tf.reduce_mean(tf.cast(tf.equal(predicted, y), dtype=tf.float32))\n",
    "\n",
    "\n",
    "with tf.Session() as sess:\n",
    "    sess.run(tf.global_variables_initializer())\n",
    "    \n",
    "    for step in range(MaxEpochs):\n",
    "        cost_val, _ = sess.run([cost, train], feed_dict={x: x_train, y: y_train})\n",
    "        if step % 200 == 0:\n",
    "            print(step, cost_val)\n",
    "            \n",
    "    # Accuracy report\n",
    "    h, c, a = sess.run([hypothesis, predicted, accuracy],\n",
    "                      feed_dict={x: x_train, y: y_train})\n",
    "    \n",
    "    print(\"\\nHypothesis: \", h, \"\\nCorrect (Y): \", c, \"\\nAccuracy: \", a)"
   ]
  }
 ],
 "metadata": {
  "kernelspec": {
   "display_name": "TensorFlow 1.15.5",
   "language": "python",
   "name": "tf1"
  },
  "language_info": {
   "codemirror_mode": {
    "name": "ipython",
    "version": 3
   },
   "file_extension": ".py",
   "mimetype": "text/x-python",
   "name": "python",
   "nbconvert_exporter": "python",
   "pygments_lexer": "ipython3",
   "version": "3.7.12"
  }
 },
 "nbformat": 4,
 "nbformat_minor": 5
}

{
 "cells": [
  {
   "cell_type": "code",
   "execution_count": 1,
   "id": "92901f48",
   "metadata": {},
   "outputs": [],
   "source": [
    "list = [1, 2, 3, 4, 5, 6, 7, 8 ,9, 10]"
   ]
  },
  {
   "cell_type": "code",
   "execution_count": null,
   "id": "54af1581",
   "metadata": {},
   "outputs": [],
   "source": []
  },
  {
   "cell_type": "code",
   "execution_count": 2,
   "id": "6415e05b",
   "metadata": {},
   "outputs": [
    {
     "data": {
      "text/plain": [
       "10"
      ]
     },
     "execution_count": 2,
     "metadata": {},
     "output_type": "execute_result"
    }
   ],
   "source": [
    "max(list)"
   ]
  },
  {
   "cell_type": "code",
   "execution_count": 3,
   "id": "e1b587d7",
   "metadata": {},
   "outputs": [],
   "source": [
    "file = open(\"data.in\", \"w\")"
   ]
  },
  {
   "cell_type": "code",
   "execution_count": 4,
   "id": "ad8d1779",
   "metadata": {},
   "outputs": [
    {
     "name": "stdout",
     "output_type": "stream",
     "text": [
      "Maximum Number is 10\n"
     ]
    }
   ],
   "source": [
    "print(\"Maximum Number is \" + str(max(list)))"
   ]
  },
  {
   "cell_type": "code",
   "execution_count": 5,
   "id": "0e763068",
   "metadata": {},
   "outputs": [
    {
     "data": {
      "text/plain": [
       "21"
      ]
     },
     "execution_count": 5,
     "metadata": {},
     "output_type": "execute_result"
    }
   ],
   "source": [
    "file.write(\"Maximum Number is \" + str(max(list)) + \"\\n\")"
   ]
  },
  {
   "cell_type": "code",
   "execution_count": 6,
   "id": "64f667e0",
   "metadata": {},
   "outputs": [],
   "source": [
    "file.close()"
   ]
  },
  {
   "cell_type": "code",
   "execution_count": null,
   "id": "679cc76c",
   "metadata": {},
   "outputs": [],
   "source": []
  },
  {
   "cell_type": "code",
   "execution_count": null,
   "id": "44b2a687",
   "metadata": {},
   "outputs": [],
   "source": []
  },
  {
   "cell_type": "code",
   "execution_count": 7,
   "id": "0c67296d",
   "metadata": {},
   "outputs": [],
   "source": [
    "file = open(\"data.in\", \"r\")"
   ]
  },
  {
   "cell_type": "code",
   "execution_count": null,
   "id": "6950d7ce",
   "metadata": {},
   "outputs": [],
   "source": []
  },
  {
   "cell_type": "code",
   "execution_count": 8,
   "id": "86a4ada7",
   "metadata": {},
   "outputs": [],
   "source": [
    "lines = file.readline()"
   ]
  },
  {
   "cell_type": "code",
   "execution_count": 9,
   "id": "474d4487",
   "metadata": {},
   "outputs": [],
   "source": [
    "temp = \"\""
   ]
  },
  {
   "cell_type": "code",
   "execution_count": null,
   "id": "aa8b5b4f",
   "metadata": {},
   "outputs": [],
   "source": []
  },
  {
   "cell_type": "code",
   "execution_count": 10,
   "id": "3443e9b7",
   "metadata": {},
   "outputs": [
    {
     "name": "stdout",
     "output_type": "stream",
     "text": [
      "Maximum Number is 10\n",
      "\n"
     ]
    }
   ],
   "source": [
    "print(lines)"
   ]
  },
  {
   "cell_type": "code",
   "execution_count": 11,
   "id": "59e25c71",
   "metadata": {},
   "outputs": [],
   "source": [
    "temp = int(lines[-3:])"
   ]
  },
  {
   "cell_type": "code",
   "execution_count": 12,
   "id": "681af097",
   "metadata": {},
   "outputs": [
    {
     "name": "stdout",
     "output_type": "stream",
     "text": [
      "10\n"
     ]
    }
   ],
   "source": [
    "print(temp)"
   ]
  },
  {
   "cell_type": "code",
   "execution_count": 13,
   "id": "b8c05bbc",
   "metadata": {},
   "outputs": [],
   "source": [
    "current = 0"
   ]
  },
  {
   "cell_type": "code",
   "execution_count": 14,
   "id": "fd1eac95",
   "metadata": {},
   "outputs": [],
   "source": [
    "result = 0"
   ]
  },
  {
   "cell_type": "code",
   "execution_count": null,
   "id": "5635969f",
   "metadata": {},
   "outputs": [],
   "source": []
  },
  {
   "cell_type": "code",
   "execution_count": 15,
   "id": "5f911201",
   "metadata": {},
   "outputs": [],
   "source": [
    "i = 0"
   ]
  },
  {
   "cell_type": "code",
   "execution_count": null,
   "id": "1cb3245c",
   "metadata": {},
   "outputs": [],
   "source": []
  },
  {
   "cell_type": "code",
   "execution_count": 16,
   "id": "c4a63dbd",
   "metadata": {},
   "outputs": [],
   "source": [
    "while (current != temp):\n",
    "        result += list[i]\n",
    "        current = list[i]\n",
    "        i+=1"
   ]
  },
  {
   "cell_type": "code",
   "execution_count": 17,
   "id": "30b2b3db",
   "metadata": {},
   "outputs": [
    {
     "name": "stdout",
     "output_type": "stream",
     "text": [
      "10\n"
     ]
    }
   ],
   "source": [
    "print(current)"
   ]
  },
  {
   "cell_type": "code",
   "execution_count": 18,
   "id": "ddeafbf9",
   "metadata": {},
   "outputs": [
    {
     "data": {
      "text/plain": [
       "55"
      ]
     },
     "execution_count": 18,
     "metadata": {},
     "output_type": "execute_result"
    }
   ],
   "source": [
    "result"
   ]
  },
  {
   "cell_type": "code",
   "execution_count": 19,
   "id": "2fe85629",
   "metadata": {},
   "outputs": [],
   "source": [
    "file = open(\"result.out\", \"w\")"
   ]
  },
  {
   "cell_type": "code",
   "execution_count": 20,
   "id": "8e10d1fc",
   "metadata": {},
   "outputs": [
    {
     "data": {
      "text/plain": [
       "9"
      ]
     },
     "execution_count": 20,
     "metadata": {},
     "output_type": "execute_result"
    }
   ],
   "source": [
    "file.write(\"Sum is \" + str(result))"
   ]
  },
  {
   "cell_type": "code",
   "execution_count": 21,
   "id": "5d6bb857",
   "metadata": {},
   "outputs": [],
   "source": [
    "file.close()"
   ]
  },
  {
   "cell_type": "code",
   "execution_count": null,
   "id": "c6b41d5a",
   "metadata": {},
   "outputs": [],
   "source": []
  },
  {
   "cell_type": "code",
   "execution_count": 22,
   "id": "806f146a",
   "metadata": {},
   "outputs": [],
   "source": [
    "import random"
   ]
  },
  {
   "cell_type": "code",
   "execution_count": 23,
   "id": "295ead4e",
   "metadata": {},
   "outputs": [],
   "source": [
    "with open(\"random.out\", \"w\") as file:\n",
    "    for i in range(1000):\n",
    "        temp = random.randrange(1, 1000)\n",
    "        file.write(str(temp) + \"\\n\")"
   ]
  },
  {
   "cell_type": "code",
   "execution_count": 24,
   "id": "4a8c7ba9",
   "metadata": {},
   "outputs": [],
   "source": [
    "file.close()"
   ]
  },
  {
   "cell_type": "code",
   "execution_count": 25,
   "id": "381d4dc7",
   "metadata": {},
   "outputs": [],
   "source": [
    "twice = []"
   ]
  },
  {
   "cell_type": "code",
   "execution_count": 26,
   "id": "8389ff5d",
   "metadata": {},
   "outputs": [],
   "source": [
    "threetimes = []"
   ]
  },
  {
   "cell_type": "code",
   "execution_count": 27,
   "id": "fe69f1ad",
   "metadata": {},
   "outputs": [],
   "source": [
    "with open(\"random.out\", \"r\") as file:\n",
    "    lines = file.readlines()\n",
    "    for i in lines:\n",
    "        if(int(i) % 2 == 0):\n",
    "            twice.append(i)\n",
    "        elif(int(i) % 3 == 0):\n",
    "            threetimes.append(i)"
   ]
  },
  {
   "cell_type": "code",
   "execution_count": null,
   "id": "c3f3c428",
   "metadata": {},
   "outputs": [],
   "source": []
  },
  {
   "cell_type": "code",
   "execution_count": 28,
   "id": "59c337d5",
   "metadata": {},
   "outputs": [],
   "source": [
    "file_twice = open(\"twice.out\", \"w\")"
   ]
  },
  {
   "cell_type": "code",
   "execution_count": 29,
   "id": "c9e8b8c7",
   "metadata": {},
   "outputs": [],
   "source": [
    "for i in twice:\n",
    "    file_twice.write(i)"
   ]
  },
  {
   "cell_type": "code",
   "execution_count": 30,
   "id": "5144a350",
   "metadata": {},
   "outputs": [],
   "source": [
    "file_twice.close()"
   ]
  },
  {
   "cell_type": "code",
   "execution_count": null,
   "id": "c8987bc9",
   "metadata": {},
   "outputs": [],
   "source": []
  },
  {
   "cell_type": "code",
   "execution_count": 31,
   "id": "17e5a2db",
   "metadata": {},
   "outputs": [],
   "source": [
    "file_threetimes = open(\"threetimes.out\", \"w\")"
   ]
  },
  {
   "cell_type": "code",
   "execution_count": 32,
   "id": "ad4a6eb2",
   "metadata": {},
   "outputs": [],
   "source": [
    "for i in threetimes:\n",
    "    file_threetimes.write(i)"
   ]
  },
  {
   "cell_type": "code",
   "execution_count": 33,
   "id": "e11ed768",
   "metadata": {},
   "outputs": [],
   "source": [
    "file_threetimes.close()"
   ]
  },
  {
   "cell_type": "code",
   "execution_count": null,
   "id": "a4f768ce",
   "metadata": {},
   "outputs": [],
   "source": []
  }
 ],
 "metadata": {
  "kernelspec": {
   "display_name": "Python 3 (ipykernel)",
   "language": "python",
   "name": "python3"
  },
  "language_info": {
   "codemirror_mode": {
    "name": "ipython",
    "version": 3
   },
   "file_extension": ".py",
   "mimetype": "text/x-python",
   "name": "python",
   "nbconvert_exporter": "python",
   "pygments_lexer": "ipython3",
   "version": "3.9.7"
  }
 },
 "nbformat": 4,
 "nbformat_minor": 5
}

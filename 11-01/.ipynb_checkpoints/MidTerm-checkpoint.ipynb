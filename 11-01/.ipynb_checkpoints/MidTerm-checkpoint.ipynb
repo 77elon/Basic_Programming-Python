{
 "cells": [
  {
   "cell_type": "code",
   "execution_count": 1,
   "id": "fec79828",
   "metadata": {},
   "outputs": [],
   "source": [
    "list = [1, 2, 3, 4, 5, 6, 7, 8 ,9, 10]"
   ]
  },
  {
   "cell_type": "code",
   "execution_count": null,
   "id": "87b1011d",
   "metadata": {},
   "outputs": [],
   "source": []
  },
  {
   "cell_type": "code",
   "execution_count": 2,
   "id": "3100ee1c",
   "metadata": {},
   "outputs": [
    {
     "data": {
      "text/plain": [
       "10"
      ]
     },
     "execution_count": 2,
     "metadata": {},
     "output_type": "execute_result"
    }
   ],
   "source": [
    "max(list)"
   ]
  },
  {
   "cell_type": "code",
   "execution_count": 3,
   "id": "be7bfc13",
   "metadata": {},
   "outputs": [],
   "source": [
    "file = open(\"data.in\", \"w\")"
   ]
  },
  {
   "cell_type": "code",
   "execution_count": 4,
   "id": "abba6fd6",
   "metadata": {},
   "outputs": [
    {
     "name": "stdout",
     "output_type": "stream",
     "text": [
      "Maximum Number is 10\n"
     ]
    }
   ],
   "source": [
    "print(\"Maximum Number is \" + str(max(list)))"
   ]
  },
  {
   "cell_type": "code",
   "execution_count": 5,
   "id": "748382ff",
   "metadata": {},
   "outputs": [
    {
     "data": {
      "text/plain": [
       "21"
      ]
     },
     "execution_count": 5,
     "metadata": {},
     "output_type": "execute_result"
    }
   ],
   "source": [
    "file.write(\"Maximum Number is \" + str(max(list)) + \"\\n\")"
   ]
  },
  {
   "cell_type": "code",
   "execution_count": 6,
   "id": "904d8ea3",
   "metadata": {},
   "outputs": [],
   "source": [
    "file.close()"
   ]
  },
  {
   "cell_type": "code",
   "execution_count": null,
   "id": "1162e4e1",
   "metadata": {},
   "outputs": [],
   "source": []
  },
  {
   "cell_type": "code",
   "execution_count": null,
   "id": "22ab1170",
   "metadata": {},
   "outputs": [],
   "source": []
  },
  {
   "cell_type": "code",
   "execution_count": 7,
   "id": "a8c584e5",
   "metadata": {},
   "outputs": [],
   "source": [
    "file = open(\"data.in\", \"r\")"
   ]
  },
  {
   "cell_type": "code",
   "execution_count": null,
   "id": "645ddb26",
   "metadata": {},
   "outputs": [],
   "source": []
  },
  {
   "cell_type": "code",
   "execution_count": 8,
   "id": "df321a88",
   "metadata": {},
   "outputs": [],
   "source": [
    "lines = file.readline()"
   ]
  },
  {
   "cell_type": "code",
   "execution_count": 9,
   "id": "457ab8e6",
   "metadata": {},
   "outputs": [],
   "source": [
    "temp = \"\""
   ]
  },
  {
   "cell_type": "code",
   "execution_count": null,
   "id": "41d681b9",
   "metadata": {},
   "outputs": [],
   "source": []
  },
  {
   "cell_type": "code",
   "execution_count": 10,
   "id": "8a18c7d4",
   "metadata": {},
   "outputs": [
    {
     "name": "stdout",
     "output_type": "stream",
     "text": [
      "Maximum Number is 10\n",
      "\n"
     ]
    }
   ],
   "source": [
    "print(lines)"
   ]
  },
  {
   "cell_type": "code",
   "execution_count": 11,
   "id": "2205c231",
   "metadata": {},
   "outputs": [],
   "source": [
    "temp = int(lines[-3:])"
   ]
  },
  {
   "cell_type": "code",
   "execution_count": 12,
   "id": "c07f17f6",
   "metadata": {},
   "outputs": [
    {
     "name": "stdout",
     "output_type": "stream",
     "text": [
      "10\n"
     ]
    }
   ],
   "source": [
    "print(temp)"
   ]
  },
  {
   "cell_type": "code",
   "execution_count": 13,
   "id": "d3af4a79",
   "metadata": {},
   "outputs": [],
   "source": [
    "current = 0"
   ]
  },
  {
   "cell_type": "code",
   "execution_count": 14,
   "id": "384732a4",
   "metadata": {},
   "outputs": [],
   "source": [
    "result = 0"
   ]
  },
  {
   "cell_type": "code",
   "execution_count": null,
   "id": "e90b7978",
   "metadata": {},
   "outputs": [],
   "source": []
  },
  {
   "cell_type": "code",
   "execution_count": 15,
   "id": "3112cd46",
   "metadata": {},
   "outputs": [],
   "source": [
    "i = 0"
   ]
  },
  {
   "cell_type": "code",
   "execution_count": null,
   "id": "f78906a5",
   "metadata": {},
   "outputs": [],
   "source": []
  },
  {
   "cell_type": "code",
   "execution_count": 16,
   "id": "7846c2ae",
   "metadata": {},
   "outputs": [],
   "source": [
    "while (current != temp):\n",
    "        result += list[i]\n",
    "        current = list[i]\n",
    "        i+=1"
   ]
  },
  {
   "cell_type": "code",
   "execution_count": 17,
   "id": "fff94eff",
   "metadata": {},
   "outputs": [
    {
     "name": "stdout",
     "output_type": "stream",
     "text": [
      "10\n"
     ]
    }
   ],
   "source": [
    "print(current)"
   ]
  },
  {
   "cell_type": "code",
   "execution_count": 18,
   "id": "78c521ce",
   "metadata": {},
   "outputs": [
    {
     "data": {
      "text/plain": [
       "55"
      ]
     },
     "execution_count": 18,
     "metadata": {},
     "output_type": "execute_result"
    }
   ],
   "source": [
    "result"
   ]
  },
  {
   "cell_type": "code",
   "execution_count": 19,
   "id": "25488176",
   "metadata": {},
   "outputs": [],
   "source": [
    "file = open(\"result.out\", \"w\")"
   ]
  },
  {
   "cell_type": "code",
   "execution_count": 20,
   "id": "ae8f14d8",
   "metadata": {},
   "outputs": [
    {
     "data": {
      "text/plain": [
       "9"
      ]
     },
     "execution_count": 20,
     "metadata": {},
     "output_type": "execute_result"
    }
   ],
   "source": [
    "file.write(\"Sum is \" + str(result))"
   ]
  },
  {
   "cell_type": "code",
   "execution_count": 21,
   "id": "cd5e2c56",
   "metadata": {},
   "outputs": [],
   "source": [
    "file.close()"
   ]
  },
  {
   "cell_type": "code",
   "execution_count": null,
   "id": "28b225e9",
   "metadata": {},
   "outputs": [],
   "source": []
  },
  {
   "cell_type": "code",
   "execution_count": 22,
   "id": "5a535124",
   "metadata": {},
   "outputs": [],
   "source": [
    "import random"
   ]
  },
  {
   "cell_type": "code",
   "execution_count": 23,
   "id": "16a295fa",
   "metadata": {},
   "outputs": [],
   "source": [
    "with open(\"random.out\", \"w\") as file:\n",
    "    for i in range(1000):\n",
    "        temp = random.randrange(1, 1000)\n",
    "        file.write(str(temp) + \"\\n\")"
   ]
  },
  {
   "cell_type": "code",
   "execution_count": 24,
   "id": "19dc6373",
   "metadata": {},
   "outputs": [],
   "source": [
    "file.close()"
   ]
  },
  {
   "cell_type": "code",
   "execution_count": 25,
   "id": "b439f363",
   "metadata": {},
   "outputs": [],
   "source": [
    "twice = []"
   ]
  },
  {
   "cell_type": "code",
   "execution_count": 26,
   "id": "412b4498",
   "metadata": {},
   "outputs": [],
   "source": [
    "threetimes = []"
   ]
  },
  {
   "cell_type": "code",
   "execution_count": 27,
   "id": "4c2335e5",
   "metadata": {},
   "outputs": [],
   "source": [
    "with open(\"random.out\", \"r\") as file:\n",
    "    lines = file.readlines()\n",
    "    for i in lines:\n",
    "        if(int(i) % 2 == 0):\n",
    "            twice.append(i)\n",
    "        elif(int(i) % 3 == 0):\n",
    "            threetimes.append(i)"
   ]
  },
  {
   "cell_type": "code",
   "execution_count": null,
   "id": "18d57b5c",
   "metadata": {},
   "outputs": [],
   "source": []
  },
  {
   "cell_type": "code",
   "execution_count": 28,
   "id": "b10aaccf",
   "metadata": {},
   "outputs": [],
   "source": [
    "file_twice = open(\"twice.out\", \"w\")"
   ]
  },
  {
   "cell_type": "code",
   "execution_count": 29,
   "id": "c1e569a5",
   "metadata": {},
   "outputs": [],
   "source": [
    "for i in twice:\n",
    "    file_twice.write(i)"
   ]
  },
  {
   "cell_type": "code",
   "execution_count": 30,
   "id": "2c0642e5",
   "metadata": {},
   "outputs": [],
   "source": [
    "file_twice.close()"
   ]
  },
  {
   "cell_type": "code",
   "execution_count": null,
   "id": "e7016882",
   "metadata": {},
   "outputs": [],
   "source": []
  },
  {
   "cell_type": "code",
   "execution_count": 31,
   "id": "7e473abd",
   "metadata": {},
   "outputs": [],
   "source": [
    "file_threetimes = open(\"threetimes.out\", \"w\")"
   ]
  },
  {
   "cell_type": "code",
   "execution_count": 32,
   "id": "393f582a",
   "metadata": {},
   "outputs": [],
   "source": [
    "for i in threetimes:\n",
    "    file_threetimes.write(i)"
   ]
  },
  {
   "cell_type": "code",
   "execution_count": 33,
   "id": "62accf3c",
   "metadata": {},
   "outputs": [],
   "source": [
    "file_threetimes.close()"
   ]
  },
  {
   "cell_type": "code",
   "execution_count": null,
   "id": "036a67b2",
   "metadata": {},
   "outputs": [],
   "source": []
  }
 ],
 "metadata": {
  "kernelspec": {
   "display_name": "Python 3 (ipykernel)",
   "language": "python",
   "name": "python3"
  },
  "language_info": {
   "codemirror_mode": {
    "name": "ipython",
    "version": 3
   },
   "file_extension": ".py",
   "mimetype": "text/x-python",
   "name": "python",
   "nbconvert_exporter": "python",
   "pygments_lexer": "ipython3",
   "version": "3.9.7"
  }
 },
 "nbformat": 4,
 "nbformat_minor": 5
}

{
 "cells": [
  {
   "cell_type": "code",
   "execution_count": 1,
   "id": "2e8e09ce",
   "metadata": {},
   "outputs": [],
   "source": [
    "import numpy as np\n",
    "import matplotlib.pylab as plt\n",
    "import tensorflow as tf"
   ]
  },
  {
   "cell_type": "code",
   "execution_count": 2,
   "id": "ffe103ab",
   "metadata": {},
   "outputs": [],
   "source": [
    "xy = np.array([[.2, .4], [.4, .2], [.65, .3], [.8, .5], [.5, .8], [.25, .8]])"
   ]
  },
  {
   "cell_type": "code",
   "execution_count": 3,
   "id": "9b17e83e",
   "metadata": {},
   "outputs": [],
   "source": [
    "labels = np.array([[0], [0], [0], [1], [1], [1]], dtype = np.int32)"
   ]
  },
  {
   "cell_type": "code",
   "execution_count": 4,
   "id": "45376897",
   "metadata": {},
   "outputs": [
    {
     "name": "stdout",
     "output_type": "stream",
     "text": [
      "[[0.2  0.4 ]\n",
      " [0.4  0.2 ]\n",
      " [0.65 0.3 ]\n",
      " [0.8  0.5 ]\n",
      " [0.5  0.8 ]\n",
      " [0.25 0.8 ]]\n"
     ]
    }
   ],
   "source": [
    "print(xy)"
   ]
  },
  {
   "cell_type": "code",
   "execution_count": 5,
   "id": "b447c307",
   "metadata": {},
   "outputs": [
    {
     "name": "stdout",
     "output_type": "stream",
     "text": [
      "[[0]\n",
      " [0]\n",
      " [0]\n",
      " [1]\n",
      " [1]\n",
      " [1]]\n"
     ]
    }
   ],
   "source": [
    "print(labels)"
   ]
  },
  {
   "cell_type": "code",
   "execution_count": 6,
   "id": "2a0c274c",
   "metadata": {},
   "outputs": [],
   "source": [
    "W = tf.Variable(np.array([[6], [10]]), dtype=tf.float64)"
   ]
  },
  {
   "cell_type": "code",
   "execution_count": 7,
   "id": "600ba619",
   "metadata": {},
   "outputs": [],
   "source": [
    "b = tf.Variable(np.array([-8]), dtype = tf.float64)"
   ]
  },
  {
   "cell_type": "code",
   "execution_count": 8,
   "id": "207500c0",
   "metadata": {},
   "outputs": [
    {
     "name": "stdout",
     "output_type": "stream",
     "text": [
      "WARNING:tensorflow:From /tmp/ipykernel_2898/2503969534.py:1: The name tf.placeholder is deprecated. Please use tf.compat.v1.placeholder instead.\n",
      "\n"
     ]
    }
   ],
   "source": [
    "x = tf.placeholder(tf.float64, shape=(None, 2))"
   ]
  },
  {
   "cell_type": "code",
   "execution_count": 57,
   "id": "22a1644d",
   "metadata": {},
   "outputs": [],
   "source": [
    "yhat = tf.nn.sigmoid(tf.matmul(x, W) + b)"
   ]
  },
  {
   "cell_type": "code",
   "execution_count": 10,
   "id": "c75ad4a6",
   "metadata": {},
   "outputs": [
    {
     "name": "stdout",
     "output_type": "stream",
     "text": [
      "WARNING:tensorflow:From /tmp/ipykernel_2898/3496270443.py:1: The name tf.Session is deprecated. Please use tf.compat.v1.Session instead.\n",
      "\n"
     ]
    },
    {
     "name": "stderr",
     "output_type": "stream",
     "text": [
      "2021-12-06 08:16:35.287953: W tensorflow/stream_executor/platform/default/dso_loader.cc:55] Could not load dynamic library 'libcuda.so.1'; dlerror: libcuda.so.1: cannot open shared object file: No such file or directory\n",
      "2021-12-06 08:16:35.287972: E tensorflow/stream_executor/cuda/cuda_driver.cc:318] failed call to cuInit: UNKNOWN ERROR (303)\n",
      "2021-12-06 08:16:35.287987: I tensorflow/stream_executor/cuda/cuda_diagnostics.cc:156] kernel driver does not appear to be running on this host (68ca66e711d1): /proc/driver/nvidia/version does not exist\n",
      "2021-12-06 08:16:35.288190: I tensorflow/core/platform/cpu_feature_guard.cc:142] Your CPU supports instructions that this TensorFlow binary was not compiled to use: AVX2 FMA\n",
      "2021-12-06 08:16:35.293009: I tensorflow/core/platform/profile_utils/cpu_utils.cc:94] CPU Frequency: 3292170000 Hz\n",
      "2021-12-06 08:16:35.293173: I tensorflow/compiler/xla/service/service.cc:168] XLA service 0x55c13824f170 initialized for platform Host (this does not guarantee that XLA will be used). Devices:\n",
      "2021-12-06 08:16:35.293187: I tensorflow/compiler/xla/service/service.cc:176]   StreamExecutor device (0): Host, Default Version\n"
     ]
    }
   ],
   "source": [
    "sess = tf.Session()"
   ]
  },
  {
   "cell_type": "code",
   "execution_count": 11,
   "id": "1e4f31bb",
   "metadata": {},
   "outputs": [
    {
     "name": "stdout",
     "output_type": "stream",
     "text": [
      "WARNING:tensorflow:From /tmp/ipykernel_2898/1077392857.py:1: The name tf.global_variables_initializer is deprecated. Please use tf.compat.v1.global_variables_initializer instead.\n",
      "\n"
     ]
    }
   ],
   "source": [
    "init = tf.global_variables_initializer()"
   ]
  },
  {
   "cell_type": "code",
   "execution_count": 12,
   "id": "1b645ecd",
   "metadata": {},
   "outputs": [],
   "source": [
    "sess.run(init)"
   ]
  },
  {
   "cell_type": "code",
   "execution_count": null,
   "id": "5087464a",
   "metadata": {},
   "outputs": [],
   "source": []
  },
  {
   "cell_type": "code",
   "execution_count": 13,
   "id": "77c3accd",
   "metadata": {},
   "outputs": [],
   "source": [
    "predict = sess.run(yhat, feed_dict={x:xy})"
   ]
  },
  {
   "cell_type": "code",
   "execution_count": 14,
   "id": "36d60ae5",
   "metadata": {},
   "outputs": [
    {
     "name": "stdout",
     "output_type": "stream",
     "text": [
      "[[0.05732418]\n",
      " [0.02659699]\n",
      " [0.24973989]\n",
      " [0.85814894]\n",
      " [0.95257413]\n",
      " [0.81757448]]\n"
     ]
    }
   ],
   "source": [
    "print(predict)"
   ]
  },
  {
   "cell_type": "code",
   "execution_count": 15,
   "id": "95b719fb",
   "metadata": {},
   "outputs": [],
   "source": [
    "predict[0:3] = 1.0 - predict[0:3] "
   ]
  },
  {
   "cell_type": "code",
   "execution_count": 16,
   "id": "4da12d2b",
   "metadata": {},
   "outputs": [
    {
     "name": "stdout",
     "output_type": "stream",
     "text": [
      "[[0.94267582]\n",
      " [0.97340301]\n",
      " [0.75026011]\n",
      " [0.85814894]\n",
      " [0.95257413]\n",
      " [0.81757448]]\n"
     ]
    }
   ],
   "source": [
    "print(predict)"
   ]
  },
  {
   "cell_type": "code",
   "execution_count": 17,
   "id": "a0641709",
   "metadata": {},
   "outputs": [],
   "source": [
    "prob = np.prod(predict)"
   ]
  },
  {
   "cell_type": "code",
   "execution_count": 18,
   "id": "1d49f658",
   "metadata": {},
   "outputs": [
    {
     "name": "stdout",
     "output_type": "stream",
     "text": [
      "0.46010365197843245\n"
     ]
    }
   ],
   "source": [
    "print(prob)"
   ]
  },
  {
   "cell_type": "code",
   "execution_count": null,
   "id": "12167e26",
   "metadata": {},
   "outputs": [],
   "source": []
  },
  {
   "cell_type": "code",
   "execution_count": 19,
   "id": "43dd5136",
   "metadata": {},
   "outputs": [],
   "source": [
    "y = tf.placeholder(tf.float64, shape = (None, 1))"
   ]
  },
  {
   "cell_type": "code",
   "execution_count": 20,
   "id": "aff534cc",
   "metadata": {},
   "outputs": [
    {
     "name": "stdout",
     "output_type": "stream",
     "text": [
      "WARNING:tensorflow:From /tmp/ipykernel_2898/2763414733.py:1: The name tf.log is deprecated. Please use tf.math.log instead.\n",
      "\n"
     ]
    }
   ],
   "source": [
    "loss = tf.reduce_mean(-y * tf.log(yhat) - (1 - y) * tf.log(1 - yhat))"
   ]
  },
  {
   "cell_type": "code",
   "execution_count": 21,
   "id": "2bf3c123",
   "metadata": {},
   "outputs": [],
   "source": [
    "predict, loss_value = sess.run([yhat, loss], feed_dict={x:xy, y:labels})"
   ]
  },
  {
   "cell_type": "code",
   "execution_count": 22,
   "id": "541defc2",
   "metadata": {},
   "outputs": [],
   "source": [
    "prob = np.prod(predict)"
   ]
  },
  {
   "cell_type": "code",
   "execution_count": 23,
   "id": "a829eaab",
   "metadata": {},
   "outputs": [
    {
     "name": "stdout",
     "output_type": "stream",
     "text": [
      "8.276303484494179 0.7763034844941787\n"
     ]
    }
   ],
   "source": [
    "print(-np.log(np.prod(predict)), loss_value * len(xy))"
   ]
  },
  {
   "cell_type": "code",
   "execution_count": null,
   "id": "829f6555",
   "metadata": {},
   "outputs": [],
   "source": []
  },
  {
   "cell_type": "code",
   "execution_count": 24,
   "id": "1ccf38d2",
   "metadata": {},
   "outputs": [
    {
     "name": "stdout",
     "output_type": "stream",
     "text": [
      "WARNING:tensorflow:From /tmp/ipykernel_2898/2724727316.py:5: The name tf.train.AdamOptimizer is deprecated. Please use tf.compat.v1.train.AdamOptimizer instead.\n",
      "\n",
      "[[19.87812717]\n",
      " [55.41697986]] [-36.51124893]\n"
     ]
    }
   ],
   "source": [
    "import Batch \n",
    "\n",
    "MaxEpochs = 1000\n",
    "lr = 1.0\n",
    "optimizer = tf.train.AdamOptimizer(lr)\n",
    "train = optimizer.minimize(loss)\n",
    "features = xy\n",
    "idx = np.arange(0, len(features))\n",
    "np.random.shuffle(idx)\n",
    "shuffled_features = features[idx]\n",
    "shuffled_labels = labels[idx]\n",
    "batch_size = 10\n",
    "\n",
    "init = tf.global_variables_initializer()\n",
    "sess = tf.Session()\n",
    "sess.run(init)\n",
    "\n",
    "for epoch in range(MaxEpochs) :\n",
    "    for x_batch, y_batch in Batch.generate_batches(batch_size, shuffled_features, shuffled_labels) :\n",
    "        sess.run(train, feed_dict = {x : x_batch, y : y_batch.reshape(-1, 1)})\n",
    "\n",
    "W_sgd, b_sgd = sess.run([W, b])\n",
    "print(W_sgd, b_sgd)"
   ]
  },
  {
   "cell_type": "code",
   "execution_count": 25,
   "id": "e4f16596",
   "metadata": {},
   "outputs": [
    {
     "name": "stdout",
     "output_type": "stream",
     "text": [
      "Failed to import pydot. You must install pydot and graphviz for `pydotprint` to work.\n"
     ]
    }
   ],
   "source": [
    "tf.keras.utils.plot_model(sess, yhat, lambda x,y: [x, y], 'Trained Model')"
   ]
  },
  {
   "cell_type": "code",
   "execution_count": 26,
   "id": "85c5efd4",
   "metadata": {},
   "outputs": [],
   "source": [
    "from tensorflow.examples.tutorials.mnist import input_data"
   ]
  },
  {
   "cell_type": "code",
   "execution_count": 27,
   "id": "c3149cd0",
   "metadata": {},
   "outputs": [
    {
     "name": "stdout",
     "output_type": "stream",
     "text": [
      "WARNING:tensorflow:From /tmp/ipykernel_2898/1026083996.py:1: read_data_sets (from tensorflow.contrib.learn.python.learn.datasets.mnist) is deprecated and will be removed in a future version.\n",
      "Instructions for updating:\n",
      "Please use alternatives such as official/mnist/dataset.py from tensorflow/models.\n",
      "WARNING:tensorflow:From /opt/conda/envs/tf1/lib/python3.7/site-packages/tensorflow_core/contrib/learn/python/learn/datasets/mnist.py:260: maybe_download (from tensorflow.contrib.learn.python.learn.datasets.base) is deprecated and will be removed in a future version.\n",
      "Instructions for updating:\n",
      "Please write your own downloading logic.\n",
      "WARNING:tensorflow:From /opt/conda/envs/tf1/lib/python3.7/site-packages/tensorflow_core/contrib/learn/python/learn/datasets/mnist.py:262: extract_images (from tensorflow.contrib.learn.python.learn.datasets.mnist) is deprecated and will be removed in a future version.\n",
      "Instructions for updating:\n",
      "Please use tf.data to implement this functionality.\n",
      "Extracting MNIST_data/train-images-idx3-ubyte.gz\n",
      "WARNING:tensorflow:From /opt/conda/envs/tf1/lib/python3.7/site-packages/tensorflow_core/contrib/learn/python/learn/datasets/mnist.py:267: extract_labels (from tensorflow.contrib.learn.python.learn.datasets.mnist) is deprecated and will be removed in a future version.\n",
      "Instructions for updating:\n",
      "Please use tf.data to implement this functionality.\n",
      "Extracting MNIST_data/train-labels-idx1-ubyte.gz\n",
      "WARNING:tensorflow:From /opt/conda/envs/tf1/lib/python3.7/site-packages/tensorflow_core/contrib/learn/python/learn/datasets/mnist.py:110: dense_to_one_hot (from tensorflow.contrib.learn.python.learn.datasets.mnist) is deprecated and will be removed in a future version.\n",
      "Instructions for updating:\n",
      "Please use tf.one_hot on tensors.\n",
      "Extracting MNIST_data/t10k-images-idx3-ubyte.gz\n",
      "Extracting MNIST_data/t10k-labels-idx1-ubyte.gz\n",
      "WARNING:tensorflow:From /opt/conda/envs/tf1/lib/python3.7/site-packages/tensorflow_core/contrib/learn/python/learn/datasets/mnist.py:290: DataSet.__init__ (from tensorflow.contrib.learn.python.learn.datasets.mnist) is deprecated and will be removed in a future version.\n",
      "Instructions for updating:\n",
      "Please use alternatives such as official/mnist/dataset.py from tensorflow/models.\n"
     ]
    }
   ],
   "source": [
    "mnist = input_data.read_data_sets(\"MNIST_data/\", one_hot = True)"
   ]
  },
  {
   "cell_type": "code",
   "execution_count": 28,
   "id": "8b82f0da",
   "metadata": {},
   "outputs": [],
   "source": [
    "from collections import Counter"
   ]
  },
  {
   "cell_type": "code",
   "execution_count": 29,
   "id": "80f14ecc",
   "metadata": {},
   "outputs": [],
   "source": [
    "freq = Counter([np.argmax(label) for label in mnist.train.labels])"
   ]
  },
  {
   "cell_type": "code",
   "execution_count": 30,
   "id": "5fc5acb1",
   "metadata": {},
   "outputs": [
    {
     "name": "stdout",
     "output_type": "stream",
     "text": [
      "label 0: 5444개\n",
      "label 1: 6179개\n",
      "label 2: 5470개\n",
      "label 3: 5638개\n",
      "label 4: 5307개\n",
      "label 5: 4987개\n",
      "label 6: 5417개\n",
      "label 7: 5715개\n",
      "label 8: 5389개\n",
      "label 9: 5454개\n"
     ]
    }
   ],
   "source": [
    "for k in range(0, 10):\n",
    "    print(\"label {0}: {1}개\".format(k, freq[k]))"
   ]
  },
  {
   "cell_type": "code",
   "execution_count": null,
   "id": "0b448146",
   "metadata": {},
   "outputs": [],
   "source": []
  },
  {
   "cell_type": "code",
   "execution_count": 31,
   "id": "a33fde9f",
   "metadata": {},
   "outputs": [
    {
     "data": {
      "text/plain": [
       "<Figure size 1152x576 with 0 Axes>"
      ]
     },
     "execution_count": 31,
     "metadata": {},
     "output_type": "execute_result"
    },
    {
     "data": {
      "text/plain": [
       "<Figure size 1152x576 with 0 Axes>"
      ]
     },
     "metadata": {},
     "output_type": "display_data"
    }
   ],
   "source": [
    "plt.figure(figsize=(16, 8))"
   ]
  },
  {
   "cell_type": "code",
   "execution_count": null,
   "id": "20f8dd97",
   "metadata": {},
   "outputs": [],
   "source": []
  },
  {
   "cell_type": "code",
   "execution_count": 32,
   "id": "9cb14b5e",
   "metadata": {},
   "outputs": [
    {
     "data": {
      "image/png": "[encoded data removed]",
      "text/plain": [
       "<Figure size 432x288 with 32 Axes>"
      ]
     },
     "metadata": {
      "needs_background": "light"
     },
     "output_type": "display_data"
    }
   ],
   "source": [
    "for k in range(32):\n",
    "    img = mnist.train.images[k].reshape(28, 28)\n",
    "    label = np.argmax(mnist.train.labels[k])\n",
    "    plt.subplot(4, 8, 1+k)\n",
    "    plt.imshow(img, cmap='gray')\n",
    "    plt.axis('off')\n",
    "    plt.title(label)\n",
    "plt.show()\n"
   ]
  },
  {
   "cell_type": "code",
   "execution_count": null,
   "id": "ac033dc2",
   "metadata": {},
   "outputs": [],
   "source": []
  },
  {
   "cell_type": "code",
   "execution_count": 33,
   "id": "e14043ad",
   "metadata": {},
   "outputs": [],
   "source": [
    "features = mnist.train.images\n",
    "labels = mnist.train.labels"
   ]
  },
  {
   "cell_type": "code",
   "execution_count": 34,
   "id": "317b94f8",
   "metadata": {},
   "outputs": [],
   "source": [
    "x = tf.placeholder(tf.float32, [None, 784])"
   ]
  },
  {
   "cell_type": "code",
   "execution_count": 35,
   "id": "ec5c6b79",
   "metadata": {},
   "outputs": [],
   "source": [
    "W = tf.Variable(tf.zeros([784, 10]))"
   ]
  },
  {
   "cell_type": "code",
   "execution_count": 36,
   "id": "f7b775fd",
   "metadata": {},
   "outputs": [],
   "source": [
    "b = tf.Variable(tf.zeros([10]))"
   ]
  },
  {
   "cell_type": "code",
   "execution_count": 37,
   "id": "e14ab303",
   "metadata": {},
   "outputs": [],
   "source": [
    "yhat = tf.nn.softmax(tf.matmul(x, W) + b)"
   ]
  },
  {
   "cell_type": "code",
   "execution_count": 38,
   "id": "d8008362",
   "metadata": {},
   "outputs": [],
   "source": [
    "y = tf.placeholder(tf.float32, [None, 10])"
   ]
  },
  {
   "cell_type": "code",
   "execution_count": 39,
   "id": "85ffd81c",
   "metadata": {},
   "outputs": [],
   "source": [
    "loss = tf.reduce_mean(tf.reduce_sum(-y * tf.log(yhat), 1))"
   ]
  },
  {
   "cell_type": "code",
   "execution_count": 40,
   "id": "73b24bb3",
   "metadata": {},
   "outputs": [],
   "source": [
    "MaxEpochs = 1"
   ]
  },
  {
   "cell_type": "code",
   "execution_count": 41,
   "id": "1726472d",
   "metadata": {},
   "outputs": [],
   "source": [
    "lr = 0.02"
   ]
  },
  {
   "cell_type": "code",
   "execution_count": 42,
   "id": "fbd0f468",
   "metadata": {},
   "outputs": [],
   "source": [
    "optimizer = tf.train.AdamOptimizer(lr)"
   ]
  },
  {
   "cell_type": "code",
   "execution_count": 43,
   "id": "0f01c592",
   "metadata": {},
   "outputs": [],
   "source": [
    "train = optimizer.minimize(loss)"
   ]
  },
  {
   "cell_type": "code",
   "execution_count": null,
   "id": "6c01366f",
   "metadata": {},
   "outputs": [],
   "source": []
  },
  {
   "cell_type": "code",
   "execution_count": 44,
   "id": "be57da22",
   "metadata": {},
   "outputs": [],
   "source": [
    "correct_prediction = tf.equal(tf.argmax(y, 1), tf.argmax(yhat, 1))"
   ]
  },
  {
   "cell_type": "code",
   "execution_count": 45,
   "id": "6c225422",
   "metadata": {},
   "outputs": [],
   "source": [
    "accuracy = tf.reduce_mean(tf.cast(correct_prediction, tf.float32))"
   ]
  },
  {
   "cell_type": "code",
   "execution_count": 46,
   "id": "9a1e2502",
   "metadata": {},
   "outputs": [],
   "source": [
    "batch_size = 256"
   ]
  },
  {
   "cell_type": "code",
   "execution_count": 47,
   "id": "0a4d6cbe",
   "metadata": {},
   "outputs": [],
   "source": [
    "init = tf.global_variables_initializer()"
   ]
  },
  {
   "cell_type": "code",
   "execution_count": 48,
   "id": "6037aa9d",
   "metadata": {},
   "outputs": [],
   "source": [
    "sess = tf.Session()"
   ]
  },
  {
   "cell_type": "code",
   "execution_count": 49,
   "id": "21a84a52",
   "metadata": {},
   "outputs": [],
   "source": [
    "sess.run(init)"
   ]
  },
  {
   "cell_type": "code",
   "execution_count": 50,
   "id": "05ae8dde",
   "metadata": {},
   "outputs": [
    {
     "name": "stderr",
     "output_type": "stream",
     "text": [
      "2021-12-06 08:16:46.153642: W tensorflow/core/framework/cpu_allocator_impl.cc:81] Allocation of 172480000 exceeds 10% of system memory.\n",
      "2021-12-06 08:16:46.280038: W tensorflow/core/framework/cpu_allocator_impl.cc:81] Allocation of 172480000 exceeds 10% of system memory.\n"
     ]
    },
    {
     "name": "stdout",
     "output_type": "stream",
     "text": [
      "0 0 1.9885682 0.3676\n",
      "0 20 0.42102295 0.881\n"
     ]
    },
    {
     "name": "stderr",
     "output_type": "stream",
     "text": [
      "2021-12-06 08:16:46.389453: W tensorflow/core/framework/cpu_allocator_impl.cc:81] Allocation of 172480000 exceeds 10% of system memory.\n",
      "2021-12-06 08:16:46.493640: W tensorflow/core/framework/cpu_allocator_impl.cc:81] Allocation of 172480000 exceeds 10% of system memory.\n"
     ]
    },
    {
     "name": "stdout",
     "output_type": "stream",
     "text": [
      "0 40 0.3685505 0.8995\n",
      "0 60 0.34332785 0.9078\n"
     ]
    },
    {
     "name": "stderr",
     "output_type": "stream",
     "text": [
      "2021-12-06 08:16:46.595520: W tensorflow/core/framework/cpu_allocator_impl.cc:81] Allocation of 172480000 exceeds 10% of system memory.\n"
     ]
    },
    {
     "name": "stdout",
     "output_type": "stream",
     "text": [
      "0 80 0.322856 0.9093\n",
      "0 100 0.3064387 0.9147\n",
      "0 120 0.30239865 0.9177\n",
      "0 140 0.3015832 0.9151\n",
      "0 160 0.29843235 0.9165\n",
      "0 180 0.29668152 0.9152\n",
      "0 200 0.28881356 0.9172\n",
      "0 220 0.28740388 0.9198\n",
      "0 240 0.29233417 0.9168\n",
      "\n"
     ]
    }
   ],
   "source": [
    "for epoch in range(MaxEpochs):\n",
    "    for step in range(batch_size+1):\n",
    "        batch_xs, batch_ys = mnist.train.next_batch(batch_size)\n",
    "        sess.run(train, feed_dict={x: batch_xs, y: batch_ys})\n",
    "        if step % 20 == 0:\n",
    "            curr_W, curr_b, curr_loss = sess.run([W, b, loss], feed_dict={x:features, y:labels})\n",
    "            curr_Acc = sess.run(accuracy, feed_dict={x:mnist.test.images, y:mnist.test.labels})\n",
    "            print(epoch, step, curr_loss, curr_Acc)\n",
    "    print(\"\")"
   ]
  },
  {
   "cell_type": "code",
   "execution_count": 51,
   "id": "a6240d3e",
   "metadata": {},
   "outputs": [
    {
     "name": "stdout",
     "output_type": "stream",
     "text": [
      "[[0. 0. 0. ... 0. 0. 0.]\n",
      " [0. 0. 0. ... 0. 0. 0.]\n",
      " [0. 0. 0. ... 0. 0. 0.]\n",
      " ...\n",
      " [0. 0. 0. ... 0. 0. 0.]\n",
      " [0. 0. 0. ... 0. 0. 0.]\n",
      " [0. 0. 0. ... 0. 0. 0.]]\n"
     ]
    }
   ],
   "source": [
    "print(curr_W)"
   ]
  },
  {
   "cell_type": "code",
   "execution_count": 52,
   "id": "019fb7bc",
   "metadata": {},
   "outputs": [],
   "source": [
    "test_id = 15"
   ]
  },
  {
   "cell_type": "code",
   "execution_count": 53,
   "id": "36089e00",
   "metadata": {},
   "outputs": [],
   "source": [
    "test_image = mnist.test.images[test_id]"
   ]
  },
  {
   "cell_type": "code",
   "execution_count": 54,
   "id": "8133963c",
   "metadata": {},
   "outputs": [],
   "source": [
    "test_label = mnist.test.labels[test_id]"
   ]
  },
  {
   "cell_type": "code",
   "execution_count": 55,
   "id": "121778d3",
   "metadata": {},
   "outputs": [],
   "source": [
    "out = sess.run(yhat, feed_dict={x:[test_image]})"
   ]
  },
  {
   "cell_type": "code",
   "execution_count": 56,
   "id": "8afd0234",
   "metadata": {},
   "outputs": [
    {
     "name": "stdout",
     "output_type": "stream",
     "text": [
      "Predicted Label: 5, Real Label: 5\n"
     ]
    }
   ],
   "source": [
    "print(\"Predicted Label: {}, Real Label: {}\".format(np.argmax(out), np.argmax(test_label)))"
   ]
  },
  {
   "cell_type": "code",
   "execution_count": null,
   "id": "be504878",
   "metadata": {},
   "outputs": [],
   "source": []
  }
 ],
 "metadata": {
  "kernelspec": {
   "display_name": "TensorFlow 1.15.5",
   "language": "python",
   "name": "tf1"
  },
  "language_info": {
   "codemirror_mode": {
    "name": "ipython",
    "version": 3
   },
   "file_extension": ".py",
   "mimetype": "text/x-python",
   "name": "python",
   "nbconvert_exporter": "python",
   "pygments_lexer": "ipython3",
   "version": "3.7.12"
  }
 },
 "nbformat": 4,
 "nbformat_minor": 5
}
